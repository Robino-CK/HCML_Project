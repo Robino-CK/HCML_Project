{
 "cells": [
  {
   "cell_type": "markdown",
   "metadata": {},
   "source": [
    "# Black Box model: \n"
   ]
  },
  {
   "cell_type": "markdown",
   "metadata": {},
   "source": [
    "## 1. Neural Network: \n",
    "It depends which neural network we decide to use. I decided for an MLPRegressor\n",
    "Use the training data to find the best hyperparameters for the MLP using GridSearchCV. Then train the model and predict using the 'best' model with the best parameters. \n"
   ]
  },
  {
   "cell_type": "code",
   "execution_count": null,
   "metadata": {},
   "outputs": [],
   "source": [
    "x_train = []\n",
    "y_train = [] #hazardous t or f\n",
    "\n",
    "x_test = []\n",
    "y_test = []"
   ]
  },
  {
   "cell_type": "code",
   "execution_count": null,
   "metadata": {},
   "outputs": [],
   "source": [
    "\n",
    "from sklearn.neural_network import MLPRegressor\n",
    "from sklearn.metrics import mean_squared_error, accuracy_score, f1_score\n",
    "from sklearn.model_selection import GridSearchCV\n",
    "import numpy as np\n",
    "\n",
    "mlp = MLPRegressor()\n",
    "\n",
    "#Hyperparameters that we consider:\n",
    "param_grid = {\n",
    "    'learning_rate_init': [0.001, 0.01, 0.1, 0.2],\n",
    "    'alpha': [0.0001, 0.001, 0.05, 0.1],\n",
    "    'activation': ['relu'],\n",
    "    'hidden_layer_sizes': [(20,), (50,), (100,)],\n",
    "    'solver': ['adam', 'sgd' ]\n",
    "}\n",
    "grid_search = GridSearchCV(mlp, param_grid)\n",
    "grid_search.fit(x_train, y_train)\n",
    "\n",
    "best_model = grid_search.best_estimator_\n",
    "best_model.fit(x_train, y_train)\n",
    "\n",
    "y_pred = best_model.predict(x_test)\n",
    "\n",
    "rmse = np.sqrt(mean_squared_error(y_test, y_pred))\n",
    "accuracy = accuracy_score(y_test, y_pred)\n",
    "f1 = f1_score(y_test, y_pred)\n"
   ]
  },
  {
   "cell_type": "markdown",
   "metadata": {},
   "source": [
    "2. EBM (Explainable Boosting Machine)\n",
    "not part of black box models... just copied from the programming assignment "
   ]
  },
  {
   "cell_type": "code",
   "execution_count": null,
   "metadata": {},
   "outputs": [],
   "source": [
    "from interpret.glassbox import ExplainableBoostingRegressor\n",
    "from interpret import show\n",
    "\n",
    "ebm = ExplainableBoostingRegressor().fit(x_train, y_train)\n",
    "show(ebm.explain_global())"
   ]
  }
 ],
 "metadata": {
  "kernelspec": {
   "display_name": "Python 3",
   "language": "python",
   "name": "python3"
  },
  "language_info": {
   "codemirror_mode": {
    "name": "ipython",
    "version": 3
   },
   "file_extension": ".py",
   "mimetype": "text/x-python",
   "name": "python",
   "nbconvert_exporter": "python",
   "pygments_lexer": "ipython3",
   "version": "3.11.5"
  }
 },
 "nbformat": 4,
 "nbformat_minor": 2
}
