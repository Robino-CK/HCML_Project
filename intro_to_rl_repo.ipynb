{
 "cells": [
  {
   "cell_type": "code",
   "execution_count": 1,
   "metadata": {},
   "outputs": [
    {
     "name": "stdout",
     "output_type": "stream",
     "text": [
      "Collecting git+https://github.com/christophM/rulefit.git\n",
      "  Cloning https://github.com/christophM/rulefit.git to /tmp/pip-req-build-cpwhpxfn\n",
      "  Running command git clone --filter=blob:none --quiet https://github.com/christophM/rulefit.git /tmp/pip-req-build-cpwhpxfn\n",
      "  Resolved https://github.com/christophM/rulefit.git to commit 472b8574b4eb9e565caf1e05ed580998fe2c9a8e\n",
      "  Preparing metadata (setup.py) ... \u001b[?25ldone\n",
      "\u001b[?25hRequirement already satisfied: scikit-learn>=0.20.2 in /home/robin/anaconda3/envs/uu_courses/lib/python3.11/site-packages (from RuleFit==0.3) (1.2.2)\n",
      "Requirement already satisfied: numpy>=1.16.1 in /home/robin/anaconda3/envs/uu_courses/lib/python3.11/site-packages (from RuleFit==0.3) (1.23.5)\n",
      "Requirement already satisfied: pandas>=0.24.1 in /home/robin/anaconda3/envs/uu_courses/lib/python3.11/site-packages (from RuleFit==0.3) (2.0.3)\n",
      "Requirement already satisfied: ordered-set>=4.1.0 in /home/robin/anaconda3/envs/uu_courses/lib/python3.11/site-packages (from RuleFit==0.3) (4.1.0)\n",
      "Requirement already satisfied: python-dateutil>=2.8.2 in /home/robin/anaconda3/envs/uu_courses/lib/python3.11/site-packages (from pandas>=0.24.1->RuleFit==0.3) (2.8.2)\n",
      "Requirement already satisfied: pytz>=2020.1 in /home/robin/anaconda3/envs/uu_courses/lib/python3.11/site-packages (from pandas>=0.24.1->RuleFit==0.3) (2022.7)\n",
      "Requirement already satisfied: tzdata>=2022.1 in /home/robin/anaconda3/envs/uu_courses/lib/python3.11/site-packages (from pandas>=0.24.1->RuleFit==0.3) (2023.3)\n",
      "Requirement already satisfied: scipy>=1.3.2 in /home/robin/anaconda3/envs/uu_courses/lib/python3.11/site-packages (from scikit-learn>=0.20.2->RuleFit==0.3) (1.11.1)\n",
      "Requirement already satisfied: joblib>=1.1.1 in /home/robin/anaconda3/envs/uu_courses/lib/python3.11/site-packages (from scikit-learn>=0.20.2->RuleFit==0.3) (1.2.0)\n",
      "Requirement already satisfied: threadpoolctl>=2.0.0 in /home/robin/anaconda3/envs/uu_courses/lib/python3.11/site-packages (from scikit-learn>=0.20.2->RuleFit==0.3) (2.2.0)\n",
      "Requirement already satisfied: six>=1.5 in /home/robin/anaconda3/envs/uu_courses/lib/python3.11/site-packages (from python-dateutil>=2.8.2->pandas>=0.24.1->RuleFit==0.3) (1.16.0)\n"
     ]
    }
   ],
   "source": [
    "!pip install git+https://github.com/christophM/rulefit.git"
   ]
  },
  {
   "cell_type": "code",
   "execution_count": 57,
   "metadata": {},
   "outputs": [],
   "source": [
    "import numpy as np\n",
    "import pandas as pd\n",
    "\n",
    "from rulefit import RuleFit, RuleEnsemble\n",
    "from sklearn.model_selection import train_test_split\n",
    "from sklearn.preprocessing import LabelEncoder\n",
    "from sklearn.ensemble import GradientBoostingRegressor\n",
    "import matplotlib.pyplot as plt\n",
    "\n",
    "\n"
   ]
  },
  {
   "cell_type": "code",
   "execution_count": 48,
   "metadata": {},
   "outputs": [
    {
     "data": {
      "text/html": [
       "<div>\n",
       "<style scoped>\n",
       "    .dataframe tbody tr th:only-of-type {\n",
       "        vertical-align: middle;\n",
       "    }\n",
       "\n",
       "    .dataframe tbody tr th {\n",
       "        vertical-align: top;\n",
       "    }\n",
       "\n",
       "    .dataframe thead th {\n",
       "        text-align: right;\n",
       "    }\n",
       "</style>\n",
       "<table border=\"1\" class=\"dataframe\">\n",
       "  <thead>\n",
       "    <tr style=\"text-align: right;\">\n",
       "      <th></th>\n",
       "      <th>Sex</th>\n",
       "      <th>Diet</th>\n",
       "      <th>How Often Shower</th>\n",
       "      <th>Heating Energy Source</th>\n",
       "      <th>Transport</th>\n",
       "      <th>Vehicle Type</th>\n",
       "      <th>Social Activity</th>\n",
       "      <th>Monthly Grocery Bill</th>\n",
       "      <th>Frequency of Traveling by Air</th>\n",
       "      <th>Vehicle Monthly Distance Km</th>\n",
       "      <th>Waste Bag Size</th>\n",
       "      <th>Waste Bag Weekly Count</th>\n",
       "      <th>How Long TV PC Daily Hour</th>\n",
       "      <th>How Many New Clothes Monthly</th>\n",
       "      <th>How Long Internet Daily Hour</th>\n",
       "      <th>Energy efficiency</th>\n",
       "      <th>Recycling</th>\n",
       "      <th>Cooking_With</th>\n",
       "      <th>CarbonEmission</th>\n",
       "    </tr>\n",
       "    <tr>\n",
       "      <th>Body Type</th>\n",
       "      <th></th>\n",
       "      <th></th>\n",
       "      <th></th>\n",
       "      <th></th>\n",
       "      <th></th>\n",
       "      <th></th>\n",
       "      <th></th>\n",
       "      <th></th>\n",
       "      <th></th>\n",
       "      <th></th>\n",
       "      <th></th>\n",
       "      <th></th>\n",
       "      <th></th>\n",
       "      <th></th>\n",
       "      <th></th>\n",
       "      <th></th>\n",
       "      <th></th>\n",
       "      <th></th>\n",
       "      <th></th>\n",
       "    </tr>\n",
       "  </thead>\n",
       "  <tbody>\n",
       "    <tr>\n",
       "      <th>overweight</th>\n",
       "      <td>female</td>\n",
       "      <td>pescatarian</td>\n",
       "      <td>daily</td>\n",
       "      <td>coal</td>\n",
       "      <td>public</td>\n",
       "      <td>NaN</td>\n",
       "      <td>often</td>\n",
       "      <td>230</td>\n",
       "      <td>frequently</td>\n",
       "      <td>210</td>\n",
       "      <td>large</td>\n",
       "      <td>4</td>\n",
       "      <td>7</td>\n",
       "      <td>26</td>\n",
       "      <td>1</td>\n",
       "      <td>No</td>\n",
       "      <td>['Metal']</td>\n",
       "      <td>['Stove', 'Oven']</td>\n",
       "      <td>2238</td>\n",
       "    </tr>\n",
       "    <tr>\n",
       "      <th>obese</th>\n",
       "      <td>female</td>\n",
       "      <td>vegetarian</td>\n",
       "      <td>less frequently</td>\n",
       "      <td>natural gas</td>\n",
       "      <td>walk/bicycle</td>\n",
       "      <td>NaN</td>\n",
       "      <td>often</td>\n",
       "      <td>114</td>\n",
       "      <td>rarely</td>\n",
       "      <td>9</td>\n",
       "      <td>extra large</td>\n",
       "      <td>3</td>\n",
       "      <td>9</td>\n",
       "      <td>38</td>\n",
       "      <td>5</td>\n",
       "      <td>No</td>\n",
       "      <td>['Metal']</td>\n",
       "      <td>['Stove', 'Microwave']</td>\n",
       "      <td>1892</td>\n",
       "    </tr>\n",
       "    <tr>\n",
       "      <th>overweight</th>\n",
       "      <td>male</td>\n",
       "      <td>omnivore</td>\n",
       "      <td>more frequently</td>\n",
       "      <td>wood</td>\n",
       "      <td>private</td>\n",
       "      <td>petrol</td>\n",
       "      <td>never</td>\n",
       "      <td>138</td>\n",
       "      <td>never</td>\n",
       "      <td>2472</td>\n",
       "      <td>small</td>\n",
       "      <td>1</td>\n",
       "      <td>14</td>\n",
       "      <td>47</td>\n",
       "      <td>6</td>\n",
       "      <td>Sometimes</td>\n",
       "      <td>['Metal']</td>\n",
       "      <td>['Oven', 'Microwave']</td>\n",
       "      <td>2595</td>\n",
       "    </tr>\n",
       "    <tr>\n",
       "      <th>overweight</th>\n",
       "      <td>male</td>\n",
       "      <td>omnivore</td>\n",
       "      <td>twice a day</td>\n",
       "      <td>wood</td>\n",
       "      <td>walk/bicycle</td>\n",
       "      <td>NaN</td>\n",
       "      <td>sometimes</td>\n",
       "      <td>157</td>\n",
       "      <td>rarely</td>\n",
       "      <td>74</td>\n",
       "      <td>medium</td>\n",
       "      <td>3</td>\n",
       "      <td>20</td>\n",
       "      <td>5</td>\n",
       "      <td>7</td>\n",
       "      <td>Sometimes</td>\n",
       "      <td>['Paper', 'Plastic', 'Glass', 'Metal']</td>\n",
       "      <td>['Microwave', 'Grill', 'Airfryer']</td>\n",
       "      <td>1074</td>\n",
       "    </tr>\n",
       "    <tr>\n",
       "      <th>obese</th>\n",
       "      <td>female</td>\n",
       "      <td>vegetarian</td>\n",
       "      <td>daily</td>\n",
       "      <td>coal</td>\n",
       "      <td>private</td>\n",
       "      <td>diesel</td>\n",
       "      <td>often</td>\n",
       "      <td>266</td>\n",
       "      <td>very frequently</td>\n",
       "      <td>8457</td>\n",
       "      <td>large</td>\n",
       "      <td>1</td>\n",
       "      <td>3</td>\n",
       "      <td>5</td>\n",
       "      <td>6</td>\n",
       "      <td>Yes</td>\n",
       "      <td>['Paper']</td>\n",
       "      <td>['Oven']</td>\n",
       "      <td>4743</td>\n",
       "    </tr>\n",
       "  </tbody>\n",
       "</table>\n",
       "</div>"
      ],
      "text/plain": [
       "               Sex         Diet How Often Shower Heating Energy Source  \\\n",
       "Body Type                                                                \n",
       "overweight  female  pescatarian            daily                  coal   \n",
       "obese       female   vegetarian  less frequently           natural gas   \n",
       "overweight    male     omnivore  more frequently                  wood   \n",
       "overweight    male     omnivore      twice a day                  wood   \n",
       "obese       female   vegetarian            daily                  coal   \n",
       "\n",
       "               Transport Vehicle Type Social Activity  Monthly Grocery Bill  \\\n",
       "Body Type                                                                     \n",
       "overweight        public          NaN           often                   230   \n",
       "obese       walk/bicycle          NaN           often                   114   \n",
       "overweight       private       petrol           never                   138   \n",
       "overweight  walk/bicycle          NaN       sometimes                   157   \n",
       "obese            private       diesel           often                   266   \n",
       "\n",
       "           Frequency of Traveling by Air  Vehicle Monthly Distance Km  \\\n",
       "Body Type                                                               \n",
       "overweight                    frequently                          210   \n",
       "obese                             rarely                            9   \n",
       "overweight                         never                         2472   \n",
       "overweight                        rarely                           74   \n",
       "obese                    very frequently                         8457   \n",
       "\n",
       "           Waste Bag Size  Waste Bag Weekly Count  How Long TV PC Daily Hour  \\\n",
       "Body Type                                                                      \n",
       "overweight          large                       4                          7   \n",
       "obese         extra large                       3                          9   \n",
       "overweight          small                       1                         14   \n",
       "overweight         medium                       3                         20   \n",
       "obese               large                       1                          3   \n",
       "\n",
       "            How Many New Clothes Monthly  How Long Internet Daily Hour  \\\n",
       "Body Type                                                                \n",
       "overweight                            26                             1   \n",
       "obese                                 38                             5   \n",
       "overweight                            47                             6   \n",
       "overweight                             5                             7   \n",
       "obese                                  5                             6   \n",
       "\n",
       "           Energy efficiency                               Recycling  \\\n",
       "Body Type                                                              \n",
       "overweight                No                               ['Metal']   \n",
       "obese                     No                               ['Metal']   \n",
       "overweight         Sometimes                               ['Metal']   \n",
       "overweight         Sometimes  ['Paper', 'Plastic', 'Glass', 'Metal']   \n",
       "obese                    Yes                               ['Paper']   \n",
       "\n",
       "                                  Cooking_With  CarbonEmission  \n",
       "Body Type                                                       \n",
       "overweight                   ['Stove', 'Oven']            2238  \n",
       "obese                   ['Stove', 'Microwave']            1892  \n",
       "overweight               ['Oven', 'Microwave']            2595  \n",
       "overweight  ['Microwave', 'Grill', 'Airfryer']            1074  \n",
       "obese                                 ['Oven']            4743  "
      ]
     },
     "execution_count": 48,
     "metadata": {},
     "output_type": "execute_result"
    }
   ],
   "source": [
    "\n",
    "carbon_data = pd.read_csv(\"res/carbon_emissions.csv\", index_col=0)\n",
    "carbon_data.head()"
   ]
  },
  {
   "cell_type": "code",
   "execution_count": 49,
   "metadata": {},
   "outputs": [],
   "source": [
    "def get_encoded(label, data, encoder):\n",
    "    le = LabelEncoder()\n",
    "    le.fit(data[label])\n",
    "    encoder[label] = le\n",
    "    return le.transform(data[label])\n",
    "    "
   ]
  },
  {
   "cell_type": "code",
   "execution_count": 52,
   "metadata": {},
   "outputs": [
    {
     "data": {
      "text/plain": [
       "(10000, 18)"
      ]
     },
     "execution_count": 52,
     "metadata": {},
     "output_type": "execute_result"
    }
   ],
   "source": [
    "# preprocessing of data:\n",
    "#carbon_data = carbon_data.dropna(how='any') # drop Nan Values for now in a way i dont care\n",
    "\n",
    "y = carbon_data.CarbonEmission.values\n",
    "\n",
    "X = carbon_data.drop(\"CarbonEmission\", axis=1)\n",
    "#X = carbon_data[[\"Sex\", \"Diet\"]]\n",
    "features = X.columns\n",
    "encoder_dict = {}\n",
    "for label in X.columns:\n",
    "    if X[label].dtype != \"int\" or X[label].dtype != \"float\":\n",
    "        X[label] = get_encoded(label, X, encoder_dict)\n",
    "\n",
    "X = X.to_numpy()\n",
    "(X_train, X_test, y_train, y_test) = train_test_split(X, y, test_size=0.2, random_state=42)\n",
    "\n",
    "X.shape\n"
   ]
  },
  {
   "cell_type": "code",
   "execution_count": 53,
   "metadata": {},
   "outputs": [
    {
     "data": {
      "text/html": [
       "<style>#sk-container-id-4 {color: black;background-color: white;}#sk-container-id-4 pre{padding: 0;}#sk-container-id-4 div.sk-toggleable {background-color: white;}#sk-container-id-4 label.sk-toggleable__label {cursor: pointer;display: block;width: 100%;margin-bottom: 0;padding: 0.3em;box-sizing: border-box;text-align: center;}#sk-container-id-4 label.sk-toggleable__label-arrow:before {content: \"▸\";float: left;margin-right: 0.25em;color: #696969;}#sk-container-id-4 label.sk-toggleable__label-arrow:hover:before {color: black;}#sk-container-id-4 div.sk-estimator:hover label.sk-toggleable__label-arrow:before {color: black;}#sk-container-id-4 div.sk-toggleable__content {max-height: 0;max-width: 0;overflow: hidden;text-align: left;background-color: #f0f8ff;}#sk-container-id-4 div.sk-toggleable__content pre {margin: 0.2em;color: black;border-radius: 0.25em;background-color: #f0f8ff;}#sk-container-id-4 input.sk-toggleable__control:checked~div.sk-toggleable__content {max-height: 200px;max-width: 100%;overflow: auto;}#sk-container-id-4 input.sk-toggleable__control:checked~label.sk-toggleable__label-arrow:before {content: \"▾\";}#sk-container-id-4 div.sk-estimator input.sk-toggleable__control:checked~label.sk-toggleable__label {background-color: #d4ebff;}#sk-container-id-4 div.sk-label input.sk-toggleable__control:checked~label.sk-toggleable__label {background-color: #d4ebff;}#sk-container-id-4 input.sk-hidden--visually {border: 0;clip: rect(1px 1px 1px 1px);clip: rect(1px, 1px, 1px, 1px);height: 1px;margin: -1px;overflow: hidden;padding: 0;position: absolute;width: 1px;}#sk-container-id-4 div.sk-estimator {font-family: monospace;background-color: #f0f8ff;border: 1px dotted black;border-radius: 0.25em;box-sizing: border-box;margin-bottom: 0.5em;}#sk-container-id-4 div.sk-estimator:hover {background-color: #d4ebff;}#sk-container-id-4 div.sk-parallel-item::after {content: \"\";width: 100%;border-bottom: 1px solid gray;flex-grow: 1;}#sk-container-id-4 div.sk-label:hover label.sk-toggleable__label {background-color: #d4ebff;}#sk-container-id-4 div.sk-serial::before {content: \"\";position: absolute;border-left: 1px solid gray;box-sizing: border-box;top: 0;bottom: 0;left: 50%;z-index: 0;}#sk-container-id-4 div.sk-serial {display: flex;flex-direction: column;align-items: center;background-color: white;padding-right: 0.2em;padding-left: 0.2em;position: relative;}#sk-container-id-4 div.sk-item {position: relative;z-index: 1;}#sk-container-id-4 div.sk-parallel {display: flex;align-items: stretch;justify-content: center;background-color: white;position: relative;}#sk-container-id-4 div.sk-item::before, #sk-container-id-4 div.sk-parallel-item::before {content: \"\";position: absolute;border-left: 1px solid gray;box-sizing: border-box;top: 0;bottom: 0;left: 50%;z-index: -1;}#sk-container-id-4 div.sk-parallel-item {display: flex;flex-direction: column;z-index: 1;position: relative;background-color: white;}#sk-container-id-4 div.sk-parallel-item:first-child::after {align-self: flex-end;width: 50%;}#sk-container-id-4 div.sk-parallel-item:last-child::after {align-self: flex-start;width: 50%;}#sk-container-id-4 div.sk-parallel-item:only-child::after {width: 0;}#sk-container-id-4 div.sk-dashed-wrapped {border: 1px dashed gray;margin: 0 0.4em 0.5em 0.4em;box-sizing: border-box;padding-bottom: 0.4em;background-color: white;}#sk-container-id-4 div.sk-label label {font-family: monospace;font-weight: bold;display: inline-block;line-height: 1.2em;}#sk-container-id-4 div.sk-label-container {text-align: center;}#sk-container-id-4 div.sk-container {/* jupyter's `normalize.less` sets `[hidden] { display: none; }` but bootstrap.min.css set `[hidden] { display: none !important; }` so we also need the `!important` here to be able to override the default hidden behavior on the sphinx rendered scikit-learn.org. See: https://github.com/scikit-learn/scikit-learn/issues/21755 */display: inline-block !important;position: relative;}#sk-container-id-4 div.sk-text-repr-fallback {display: none;}</style><div id=\"sk-container-id-4\" class=\"sk-top-container\"><div class=\"sk-text-repr-fallback\"><pre>RuleFit(max_iter=1000,\n",
       "        tree_generator=GradientBoostingRegressor(learning_rate=0.01,\n",
       "                                                 max_depth=10, max_leaf_nodes=2,\n",
       "                                                 n_estimators=539,\n",
       "                                                 random_state=538))</pre><b>In a Jupyter environment, please rerun this cell to show the HTML representation or trust the notebook. <br />On GitHub, the HTML representation is unable to render, please try loading this page with nbviewer.org.</b></div><div class=\"sk-container\" hidden><div class=\"sk-item sk-dashed-wrapped\"><div class=\"sk-label-container\"><div class=\"sk-label sk-toggleable\"><input class=\"sk-toggleable__control sk-hidden--visually\" id=\"sk-estimator-id-10\" type=\"checkbox\" ><label for=\"sk-estimator-id-10\" class=\"sk-toggleable__label sk-toggleable__label-arrow\">RuleFit</label><div class=\"sk-toggleable__content\"><pre>RuleFit(max_iter=1000,\n",
       "        tree_generator=GradientBoostingRegressor(learning_rate=0.01,\n",
       "                                                 max_depth=10, max_leaf_nodes=2,\n",
       "                                                 n_estimators=539,\n",
       "                                                 random_state=538))</pre></div></div></div><div class=\"sk-parallel\"><div class=\"sk-parallel-item\"><div class=\"sk-item\"><div class=\"sk-label-container\"><div class=\"sk-label sk-toggleable\"><input class=\"sk-toggleable__control sk-hidden--visually\" id=\"sk-estimator-id-11\" type=\"checkbox\" ><label for=\"sk-estimator-id-11\" class=\"sk-toggleable__label sk-toggleable__label-arrow\">tree_generator: GradientBoostingRegressor</label><div class=\"sk-toggleable__content\"><pre>GradientBoostingRegressor(learning_rate=0.01, max_depth=10, max_leaf_nodes=2,\n",
       "                          n_estimators=539, random_state=538)</pre></div></div></div><div class=\"sk-serial\"><div class=\"sk-item\"><div class=\"sk-estimator sk-toggleable\"><input class=\"sk-toggleable__control sk-hidden--visually\" id=\"sk-estimator-id-12\" type=\"checkbox\" ><label for=\"sk-estimator-id-12\" class=\"sk-toggleable__label sk-toggleable__label-arrow\">GradientBoostingRegressor</label><div class=\"sk-toggleable__content\"><pre>GradientBoostingRegressor(learning_rate=0.01, max_depth=10, max_leaf_nodes=2,\n",
       "                          n_estimators=539, random_state=538)</pre></div></div></div></div></div></div></div></div></div></div>"
      ],
      "text/plain": [
       "RuleFit(max_iter=1000,\n",
       "        tree_generator=GradientBoostingRegressor(learning_rate=0.01,\n",
       "                                                 max_depth=10, max_leaf_nodes=2,\n",
       "                                                 n_estimators=539,\n",
       "                                                 random_state=538))"
      ]
     },
     "execution_count": 53,
     "metadata": {},
     "output_type": "execute_result"
    }
   ],
   "source": [
    "gb = GradientBoostingRegressor(n_estimators=500, max_depth=10, learning_rate=0.01)\n",
    "rf = RuleFit(tree_generator=gb, max_iter=1000)\n",
    "\n",
    "rf.fit(X_train, y_train, feature_names=features)"
   ]
  },
  {
   "cell_type": "code",
   "execution_count": 61,
   "metadata": {},
   "outputs": [
    {
     "data": {
      "text/plain": [
       "array([1110.32203954, 1929.9279894 , 2423.00093339, ..., 3720.93071912,\n",
       "       3042.9625464 , 2059.51808736])"
      ]
     },
     "execution_count": 61,
     "metadata": {},
     "output_type": "execute_result"
    }
   ],
   "source": [
    "y_predict"
   ]
  },
  {
   "cell_type": "code",
   "execution_count": 63,
   "metadata": {},
   "outputs": [
    {
     "data": {
      "text/plain": [
       "array([ 978, 1608, 2236, ..., 3533, 3062, 2064])"
      ]
     },
     "execution_count": 63,
     "metadata": {},
     "output_type": "execute_result"
    }
   ],
   "source": [
    "y_test"
   ]
  },
  {
   "cell_type": "code",
   "execution_count": 74,
   "metadata": {},
   "outputs": [
    {
     "name": "stdout",
     "output_type": "stream",
     "text": [
      "0.9260275480944934\n",
      "218.7135\n",
      "218.7135\n"
     ]
    }
   ],
   "source": [
    "from sklearn.metrics import mean_squared_error, mean_absolute_error, r2_score\n",
    "import math\n",
    "y_predict = rf.predict(X_test)\n",
    "print(r2_score(y_test, y_predict.round())) \n",
    "print(mean_absolute_error(y_test, y_predict.round()))\n",
    "print((abs(y_test - y_predict.round())).mean())"
   ]
  },
  {
   "cell_type": "code",
   "execution_count": 41,
   "metadata": {},
   "outputs": [
    {
     "data": {
      "text/plain": [
       "<BarContainer object of 18 artists>"
      ]
     },
     "execution_count": 41,
     "metadata": {},
     "output_type": "execute_result"
    },
    {
     "data": {
      "image/png": "[encoded data removed]",
      "text/plain": [
       "<Figure size 2160x360 with 1 Axes>"
      ]
     },
     "metadata": {
      "needs_background": "light"
     },
     "output_type": "display_data"
    }
   ],
   "source": [
    "\n",
    "plt.figure(figsize=(30, 5))\n",
    "plt.xticks(rotation=90)\n",
    "plt.bar(features, gb.feature_importances_)\n",
    "#gb.feature_importances_"
   ]
  },
  {
   "cell_type": "code",
   "execution_count": 23,
   "metadata": {},
   "outputs": [
    {
     "data": {
      "text/plain": [
       "array([2057.09208708, 1477.99338619, 2399.54629282, ..., 2392.74265088,\n",
       "       5091.56083915, 1022.08003753])"
      ]
     },
     "execution_count": 23,
     "metadata": {},
     "output_type": "execute_result"
    }
   ],
   "source": [
    "rf.predict(X)"
   ]
  },
  {
   "cell_type": "code",
   "execution_count": 24,
   "metadata": {},
   "outputs": [
    {
     "name": "stdout",
     "output_type": "stream",
     "text": [
      "727\n"
     ]
    }
   ],
   "source": [
    "\n",
    "re = RuleEnsemble(rf.tree_generator, feature_names=features)\n",
    "\n",
    "rules = re.rules\n",
    "#rules = rules[rules.coef != 0].sort_values(\"support\", ascending=False)\n",
    "\n",
    "print(len(rules))"
   ]
  }
 ],
 "metadata": {
  "kernelspec": {
   "display_name": "uu_courses",
   "language": "python",
   "name": "python3"
  },
  "language_info": {
   "codemirror_mode": {
    "name": "ipython",
    "version": 3
   },
   "file_extension": ".py",
   "mimetype": "text/x-python",
   "name": "python",
   "nbconvert_exporter": "python",
   "pygments_lexer": "ipython3",
   "version": "3.11.5"
  }
 },
 "nbformat": 4,
 "nbformat_minor": 2
}
