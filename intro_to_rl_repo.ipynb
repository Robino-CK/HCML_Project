{
 "cells": [
  {
   "cell_type": "code",
   "execution_count": 1,
   "metadata": {},
   "outputs": [
    {
     "name": "stdout",
     "output_type": "stream",
     "text": [
      "Collecting git+https://github.com/christophM/rulefit.git\n",
      "  Cloning https://github.com/christophM/rulefit.git to /tmp/pip-req-build-s5bk67cu\n",
      "  Running command git clone --filter=blob:none --quiet https://github.com/christophM/rulefit.git /tmp/pip-req-build-s5bk67cu\n",
      "  Resolved https://github.com/christophM/rulefit.git to commit 472b8574b4eb9e565caf1e05ed580998fe2c9a8e\n",
      "  Preparing metadata (setup.py) ... \u001b[?25ldone\n",
      "\u001b[?25hRequirement already satisfied: scikit-learn>=0.20.2 in /home/robin/anaconda3/envs/uu_courses/lib/python3.11/site-packages (from RuleFit==0.3) (1.2.2)\n",
      "Requirement already satisfied: numpy>=1.16.1 in /home/robin/anaconda3/envs/uu_courses/lib/python3.11/site-packages (from RuleFit==0.3) (1.23.5)\n",
      "Requirement already satisfied: pandas>=0.24.1 in /home/robin/anaconda3/envs/uu_courses/lib/python3.11/site-packages (from RuleFit==0.3) (2.0.3)\n",
      "Requirement already satisfied: ordered-set>=4.1.0 in /home/robin/anaconda3/envs/uu_courses/lib/python3.11/site-packages (from RuleFit==0.3) (4.1.0)\n",
      "Requirement already satisfied: python-dateutil>=2.8.2 in /home/robin/anaconda3/envs/uu_courses/lib/python3.11/site-packages (from pandas>=0.24.1->RuleFit==0.3) (2.8.2)\n",
      "Requirement already satisfied: pytz>=2020.1 in /home/robin/anaconda3/envs/uu_courses/lib/python3.11/site-packages (from pandas>=0.24.1->RuleFit==0.3) (2022.7)\n",
      "Requirement already satisfied: tzdata>=2022.1 in /home/robin/anaconda3/envs/uu_courses/lib/python3.11/site-packages (from pandas>=0.24.1->RuleFit==0.3) (2023.3)\n",
      "Requirement already satisfied: scipy>=1.3.2 in /home/robin/anaconda3/envs/uu_courses/lib/python3.11/site-packages (from scikit-learn>=0.20.2->RuleFit==0.3) (1.11.1)\n",
      "Requirement already satisfied: joblib>=1.1.1 in /home/robin/anaconda3/envs/uu_courses/lib/python3.11/site-packages (from scikit-learn>=0.20.2->RuleFit==0.3) (1.2.0)\n",
      "Requirement already satisfied: threadpoolctl>=2.0.0 in /home/robin/anaconda3/envs/uu_courses/lib/python3.11/site-packages (from scikit-learn>=0.20.2->RuleFit==0.3) (2.2.0)\n",
      "Requirement already satisfied: six>=1.5 in /home/robin/anaconda3/envs/uu_courses/lib/python3.11/site-packages (from python-dateutil>=2.8.2->pandas>=0.24.1->RuleFit==0.3) (1.16.0)\n"
     ]
    }
   ],
   "source": [
    "!pip install git+https://github.com/christophM/rulefit.git"
   ]
  },
  {
   "cell_type": "code",
   "execution_count": 15,
   "metadata": {},
   "outputs": [],
   "source": [
    "import numpy as np\n",
    "import pandas as pd\n",
    "\n",
    "from rulefit import RuleFit, RuleEnsemble\n",
    "\n",
    "from sklearn.preprocessing import LabelEncoder\n",
    "\n"
   ]
  },
  {
   "cell_type": "code",
   "execution_count": 3,
   "metadata": {},
   "outputs": [
    {
     "data": {
      "text/html": [
       "<div>\n",
       "<style scoped>\n",
       "    .dataframe tbody tr th:only-of-type {\n",
       "        vertical-align: middle;\n",
       "    }\n",
       "\n",
       "    .dataframe tbody tr th {\n",
       "        vertical-align: top;\n",
       "    }\n",
       "\n",
       "    .dataframe thead th {\n",
       "        text-align: right;\n",
       "    }\n",
       "</style>\n",
       "<table border=\"1\" class=\"dataframe\">\n",
       "  <thead>\n",
       "    <tr style=\"text-align: right;\">\n",
       "      <th></th>\n",
       "      <th>Sex</th>\n",
       "      <th>Diet</th>\n",
       "      <th>How Often Shower</th>\n",
       "      <th>Heating Energy Source</th>\n",
       "      <th>Transport</th>\n",
       "      <th>Vehicle Type</th>\n",
       "      <th>Social Activity</th>\n",
       "      <th>Monthly Grocery Bill</th>\n",
       "      <th>Frequency of Traveling by Air</th>\n",
       "      <th>Vehicle Monthly Distance Km</th>\n",
       "      <th>Waste Bag Size</th>\n",
       "      <th>Waste Bag Weekly Count</th>\n",
       "      <th>How Long TV PC Daily Hour</th>\n",
       "      <th>How Many New Clothes Monthly</th>\n",
       "      <th>How Long Internet Daily Hour</th>\n",
       "      <th>Energy efficiency</th>\n",
       "      <th>Recycling</th>\n",
       "      <th>Cooking_With</th>\n",
       "      <th>CarbonEmission</th>\n",
       "    </tr>\n",
       "    <tr>\n",
       "      <th>Body Type</th>\n",
       "      <th></th>\n",
       "      <th></th>\n",
       "      <th></th>\n",
       "      <th></th>\n",
       "      <th></th>\n",
       "      <th></th>\n",
       "      <th></th>\n",
       "      <th></th>\n",
       "      <th></th>\n",
       "      <th></th>\n",
       "      <th></th>\n",
       "      <th></th>\n",
       "      <th></th>\n",
       "      <th></th>\n",
       "      <th></th>\n",
       "      <th></th>\n",
       "      <th></th>\n",
       "      <th></th>\n",
       "      <th></th>\n",
       "    </tr>\n",
       "  </thead>\n",
       "  <tbody>\n",
       "    <tr>\n",
       "      <th>overweight</th>\n",
       "      <td>female</td>\n",
       "      <td>pescatarian</td>\n",
       "      <td>daily</td>\n",
       "      <td>coal</td>\n",
       "      <td>public</td>\n",
       "      <td>NaN</td>\n",
       "      <td>often</td>\n",
       "      <td>230</td>\n",
       "      <td>frequently</td>\n",
       "      <td>210</td>\n",
       "      <td>large</td>\n",
       "      <td>4</td>\n",
       "      <td>7</td>\n",
       "      <td>26</td>\n",
       "      <td>1</td>\n",
       "      <td>No</td>\n",
       "      <td>['Metal']</td>\n",
       "      <td>['Stove', 'Oven']</td>\n",
       "      <td>2238</td>\n",
       "    </tr>\n",
       "    <tr>\n",
       "      <th>obese</th>\n",
       "      <td>female</td>\n",
       "      <td>vegetarian</td>\n",
       "      <td>less frequently</td>\n",
       "      <td>natural gas</td>\n",
       "      <td>walk/bicycle</td>\n",
       "      <td>NaN</td>\n",
       "      <td>often</td>\n",
       "      <td>114</td>\n",
       "      <td>rarely</td>\n",
       "      <td>9</td>\n",
       "      <td>extra large</td>\n",
       "      <td>3</td>\n",
       "      <td>9</td>\n",
       "      <td>38</td>\n",
       "      <td>5</td>\n",
       "      <td>No</td>\n",
       "      <td>['Metal']</td>\n",
       "      <td>['Stove', 'Microwave']</td>\n",
       "      <td>1892</td>\n",
       "    </tr>\n",
       "    <tr>\n",
       "      <th>overweight</th>\n",
       "      <td>male</td>\n",
       "      <td>omnivore</td>\n",
       "      <td>more frequently</td>\n",
       "      <td>wood</td>\n",
       "      <td>private</td>\n",
       "      <td>petrol</td>\n",
       "      <td>never</td>\n",
       "      <td>138</td>\n",
       "      <td>never</td>\n",
       "      <td>2472</td>\n",
       "      <td>small</td>\n",
       "      <td>1</td>\n",
       "      <td>14</td>\n",
       "      <td>47</td>\n",
       "      <td>6</td>\n",
       "      <td>Sometimes</td>\n",
       "      <td>['Metal']</td>\n",
       "      <td>['Oven', 'Microwave']</td>\n",
       "      <td>2595</td>\n",
       "    </tr>\n",
       "    <tr>\n",
       "      <th>overweight</th>\n",
       "      <td>male</td>\n",
       "      <td>omnivore</td>\n",
       "      <td>twice a day</td>\n",
       "      <td>wood</td>\n",
       "      <td>walk/bicycle</td>\n",
       "      <td>NaN</td>\n",
       "      <td>sometimes</td>\n",
       "      <td>157</td>\n",
       "      <td>rarely</td>\n",
       "      <td>74</td>\n",
       "      <td>medium</td>\n",
       "      <td>3</td>\n",
       "      <td>20</td>\n",
       "      <td>5</td>\n",
       "      <td>7</td>\n",
       "      <td>Sometimes</td>\n",
       "      <td>['Paper', 'Plastic', 'Glass', 'Metal']</td>\n",
       "      <td>['Microwave', 'Grill', 'Airfryer']</td>\n",
       "      <td>1074</td>\n",
       "    </tr>\n",
       "    <tr>\n",
       "      <th>obese</th>\n",
       "      <td>female</td>\n",
       "      <td>vegetarian</td>\n",
       "      <td>daily</td>\n",
       "      <td>coal</td>\n",
       "      <td>private</td>\n",
       "      <td>diesel</td>\n",
       "      <td>often</td>\n",
       "      <td>266</td>\n",
       "      <td>very frequently</td>\n",
       "      <td>8457</td>\n",
       "      <td>large</td>\n",
       "      <td>1</td>\n",
       "      <td>3</td>\n",
       "      <td>5</td>\n",
       "      <td>6</td>\n",
       "      <td>Yes</td>\n",
       "      <td>['Paper']</td>\n",
       "      <td>['Oven']</td>\n",
       "      <td>4743</td>\n",
       "    </tr>\n",
       "  </tbody>\n",
       "</table>\n",
       "</div>"
      ],
      "text/plain": [
       "               Sex         Diet How Often Shower Heating Energy Source  \\\n",
       "Body Type                                                                \n",
       "overweight  female  pescatarian            daily                  coal   \n",
       "obese       female   vegetarian  less frequently           natural gas   \n",
       "overweight    male     omnivore  more frequently                  wood   \n",
       "overweight    male     omnivore      twice a day                  wood   \n",
       "obese       female   vegetarian            daily                  coal   \n",
       "\n",
       "               Transport Vehicle Type Social Activity  Monthly Grocery Bill  \\\n",
       "Body Type                                                                     \n",
       "overweight        public          NaN           often                   230   \n",
       "obese       walk/bicycle          NaN           often                   114   \n",
       "overweight       private       petrol           never                   138   \n",
       "overweight  walk/bicycle          NaN       sometimes                   157   \n",
       "obese            private       diesel           often                   266   \n",
       "\n",
       "           Frequency of Traveling by Air  Vehicle Monthly Distance Km  \\\n",
       "Body Type                                                               \n",
       "overweight                    frequently                          210   \n",
       "obese                             rarely                            9   \n",
       "overweight                         never                         2472   \n",
       "overweight                        rarely                           74   \n",
       "obese                    very frequently                         8457   \n",
       "\n",
       "           Waste Bag Size  Waste Bag Weekly Count  How Long TV PC Daily Hour  \\\n",
       "Body Type                                                                      \n",
       "overweight          large                       4                          7   \n",
       "obese         extra large                       3                          9   \n",
       "overweight          small                       1                         14   \n",
       "overweight         medium                       3                         20   \n",
       "obese               large                       1                          3   \n",
       "\n",
       "            How Many New Clothes Monthly  How Long Internet Daily Hour  \\\n",
       "Body Type                                                                \n",
       "overweight                            26                             1   \n",
       "obese                                 38                             5   \n",
       "overweight                            47                             6   \n",
       "overweight                             5                             7   \n",
       "obese                                  5                             6   \n",
       "\n",
       "           Energy efficiency                               Recycling  \\\n",
       "Body Type                                                              \n",
       "overweight                No                               ['Metal']   \n",
       "obese                     No                               ['Metal']   \n",
       "overweight         Sometimes                               ['Metal']   \n",
       "overweight         Sometimes  ['Paper', 'Plastic', 'Glass', 'Metal']   \n",
       "obese                    Yes                               ['Paper']   \n",
       "\n",
       "                                  Cooking_With  CarbonEmission  \n",
       "Body Type                                                       \n",
       "overweight                   ['Stove', 'Oven']            2238  \n",
       "obese                   ['Stove', 'Microwave']            1892  \n",
       "overweight               ['Oven', 'Microwave']            2595  \n",
       "overweight  ['Microwave', 'Grill', 'Airfryer']            1074  \n",
       "obese                                 ['Oven']            4743  "
      ]
     },
     "execution_count": 3,
     "metadata": {},
     "output_type": "execute_result"
    }
   ],
   "source": [
    "\n",
    "carbon_data = pd.read_csv(\"res/carbon_emissions.csv\", index_col=0)\n",
    "carbon_data.head()"
   ]
  },
  {
   "cell_type": "code",
   "execution_count": 4,
   "metadata": {},
   "outputs": [],
   "source": [
    "def get_encoded(label, data, encoder):\n",
    "    le = LabelEncoder()\n",
    "    le.fit(data[label])\n",
    "    encoder[label] = le\n",
    "    return le.transform(data[label])\n",
    "    "
   ]
  },
  {
   "cell_type": "code",
   "execution_count": 5,
   "metadata": {},
   "outputs": [
    {
     "data": {
      "text/plain": [
       "(3279, 18)"
      ]
     },
     "execution_count": 5,
     "metadata": {},
     "output_type": "execute_result"
    }
   ],
   "source": [
    "# preprocessing of data:\n",
    "carbon_data = carbon_data.dropna(how='any') # drop Nan Values for now in a way i dont care\n",
    "\n",
    "y = carbon_data.CarbonEmission.values\n",
    "\n",
    "X = carbon_data.drop(\"CarbonEmission\", axis=1)\n",
    "#X = carbon_data[[\"Sex\", \"Diet\"]]\n",
    "features = X.columns\n",
    "encoder_dict = {}\n",
    "for label in X.columns:\n",
    "    if X[label].dtype != \"int\" or X[label].dtype != \"float\":\n",
    "        X[label] = get_encoded(label, X, encoder_dict)\n",
    "\n",
    "\n",
    "X = X.to_numpy()\n",
    "X.shape\n"
   ]
  },
  {
   "cell_type": "code",
   "execution_count": 6,
   "metadata": {},
   "outputs": [
    {
     "data": {
      "text/html": [
       "<style>#sk-container-id-1 {color: black;background-color: white;}#sk-container-id-1 pre{padding: 0;}#sk-container-id-1 div.sk-toggleable {background-color: white;}#sk-container-id-1 label.sk-toggleable__label {cursor: pointer;display: block;width: 100%;margin-bottom: 0;padding: 0.3em;box-sizing: border-box;text-align: center;}#sk-container-id-1 label.sk-toggleable__label-arrow:before {content: \"▸\";float: left;margin-right: 0.25em;color: #696969;}#sk-container-id-1 label.sk-toggleable__label-arrow:hover:before {color: black;}#sk-container-id-1 div.sk-estimator:hover label.sk-toggleable__label-arrow:before {color: black;}#sk-container-id-1 div.sk-toggleable__content {max-height: 0;max-width: 0;overflow: hidden;text-align: left;background-color: #f0f8ff;}#sk-container-id-1 div.sk-toggleable__content pre {margin: 0.2em;color: black;border-radius: 0.25em;background-color: #f0f8ff;}#sk-container-id-1 input.sk-toggleable__control:checked~div.sk-toggleable__content {max-height: 200px;max-width: 100%;overflow: auto;}#sk-container-id-1 input.sk-toggleable__control:checked~label.sk-toggleable__label-arrow:before {content: \"▾\";}#sk-container-id-1 div.sk-estimator input.sk-toggleable__control:checked~label.sk-toggleable__label {background-color: #d4ebff;}#sk-container-id-1 div.sk-label input.sk-toggleable__control:checked~label.sk-toggleable__label {background-color: #d4ebff;}#sk-container-id-1 input.sk-hidden--visually {border: 0;clip: rect(1px 1px 1px 1px);clip: rect(1px, 1px, 1px, 1px);height: 1px;margin: -1px;overflow: hidden;padding: 0;position: absolute;width: 1px;}#sk-container-id-1 div.sk-estimator {font-family: monospace;background-color: #f0f8ff;border: 1px dotted black;border-radius: 0.25em;box-sizing: border-box;margin-bottom: 0.5em;}#sk-container-id-1 div.sk-estimator:hover {background-color: #d4ebff;}#sk-container-id-1 div.sk-parallel-item::after {content: \"\";width: 100%;border-bottom: 1px solid gray;flex-grow: 1;}#sk-container-id-1 div.sk-label:hover label.sk-toggleable__label {background-color: #d4ebff;}#sk-container-id-1 div.sk-serial::before {content: \"\";position: absolute;border-left: 1px solid gray;box-sizing: border-box;top: 0;bottom: 0;left: 50%;z-index: 0;}#sk-container-id-1 div.sk-serial {display: flex;flex-direction: column;align-items: center;background-color: white;padding-right: 0.2em;padding-left: 0.2em;position: relative;}#sk-container-id-1 div.sk-item {position: relative;z-index: 1;}#sk-container-id-1 div.sk-parallel {display: flex;align-items: stretch;justify-content: center;background-color: white;position: relative;}#sk-container-id-1 div.sk-item::before, #sk-container-id-1 div.sk-parallel-item::before {content: \"\";position: absolute;border-left: 1px solid gray;box-sizing: border-box;top: 0;bottom: 0;left: 50%;z-index: -1;}#sk-container-id-1 div.sk-parallel-item {display: flex;flex-direction: column;z-index: 1;position: relative;background-color: white;}#sk-container-id-1 div.sk-parallel-item:first-child::after {align-self: flex-end;width: 50%;}#sk-container-id-1 div.sk-parallel-item:last-child::after {align-self: flex-start;width: 50%;}#sk-container-id-1 div.sk-parallel-item:only-child::after {width: 0;}#sk-container-id-1 div.sk-dashed-wrapped {border: 1px dashed gray;margin: 0 0.4em 0.5em 0.4em;box-sizing: border-box;padding-bottom: 0.4em;background-color: white;}#sk-container-id-1 div.sk-label label {font-family: monospace;font-weight: bold;display: inline-block;line-height: 1.2em;}#sk-container-id-1 div.sk-label-container {text-align: center;}#sk-container-id-1 div.sk-container {/* jupyter's `normalize.less` sets `[hidden] { display: none; }` but bootstrap.min.css set `[hidden] { display: none !important; }` so we also need the `!important` here to be able to override the default hidden behavior on the sphinx rendered scikit-learn.org. See: https://github.com/scikit-learn/scikit-learn/issues/21755 */display: inline-block !important;position: relative;}#sk-container-id-1 div.sk-text-repr-fallback {display: none;}</style><div id=\"sk-container-id-1\" class=\"sk-top-container\"><div class=\"sk-text-repr-fallback\"><pre>RuleFit(max_iter=1000,\n",
       "        tree_generator=GradientBoostingRegressor(learning_rate=0.01,\n",
       "                                                 max_depth=10, max_leaf_nodes=4,\n",
       "                                                 n_estimators=560,\n",
       "                                                 random_state=559))</pre><b>In a Jupyter environment, please rerun this cell to show the HTML representation or trust the notebook. <br />On GitHub, the HTML representation is unable to render, please try loading this page with nbviewer.org.</b></div><div class=\"sk-container\" hidden><div class=\"sk-item sk-dashed-wrapped\"><div class=\"sk-label-container\"><div class=\"sk-label sk-toggleable\"><input class=\"sk-toggleable__control sk-hidden--visually\" id=\"sk-estimator-id-1\" type=\"checkbox\" ><label for=\"sk-estimator-id-1\" class=\"sk-toggleable__label sk-toggleable__label-arrow\">RuleFit</label><div class=\"sk-toggleable__content\"><pre>RuleFit(max_iter=1000,\n",
       "        tree_generator=GradientBoostingRegressor(learning_rate=0.01,\n",
       "                                                 max_depth=10, max_leaf_nodes=4,\n",
       "                                                 n_estimators=560,\n",
       "                                                 random_state=559))</pre></div></div></div><div class=\"sk-parallel\"><div class=\"sk-parallel-item\"><div class=\"sk-item\"><div class=\"sk-label-container\"><div class=\"sk-label sk-toggleable\"><input class=\"sk-toggleable__control sk-hidden--visually\" id=\"sk-estimator-id-2\" type=\"checkbox\" ><label for=\"sk-estimator-id-2\" class=\"sk-toggleable__label sk-toggleable__label-arrow\">tree_generator: GradientBoostingRegressor</label><div class=\"sk-toggleable__content\"><pre>GradientBoostingRegressor(learning_rate=0.01, max_depth=10, max_leaf_nodes=4,\n",
       "                          n_estimators=560, random_state=559)</pre></div></div></div><div class=\"sk-serial\"><div class=\"sk-item\"><div class=\"sk-estimator sk-toggleable\"><input class=\"sk-toggleable__control sk-hidden--visually\" id=\"sk-estimator-id-3\" type=\"checkbox\" ><label for=\"sk-estimator-id-3\" class=\"sk-toggleable__label sk-toggleable__label-arrow\">GradientBoostingRegressor</label><div class=\"sk-toggleable__content\"><pre>GradientBoostingRegressor(learning_rate=0.01, max_depth=10, max_leaf_nodes=4,\n",
       "                          n_estimators=560, random_state=559)</pre></div></div></div></div></div></div></div></div></div></div>"
      ],
      "text/plain": [
       "RuleFit(max_iter=1000,\n",
       "        tree_generator=GradientBoostingRegressor(learning_rate=0.01,\n",
       "                                                 max_depth=10, max_leaf_nodes=4,\n",
       "                                                 n_estimators=560,\n",
       "                                                 random_state=559))"
      ]
     },
     "execution_count": 6,
     "metadata": {},
     "output_type": "execute_result"
    }
   ],
   "source": [
    "from sklearn.ensemble import GradientBoostingRegressor\n",
    "gb = GradientBoostingRegressor(n_estimators=500, max_depth=10, learning_rate=0.01)\n",
    "rf = RuleFit(tree_generator=gb, max_iter=1000)\n",
    "\n",
    "rf.fit(X, y, feature_names=features)"
   ]
  },
  {
   "cell_type": "code",
   "execution_count": 7,
   "metadata": {},
   "outputs": [
    {
     "data": {
      "text/plain": [
       "array([2299.30066558, 4106.9143734 , 1913.72622724, ..., 3265.52007908,\n",
       "       5095.50978651, 1174.40283746])"
      ]
     },
     "execution_count": 7,
     "metadata": {},
     "output_type": "execute_result"
    }
   ],
   "source": []
  },
  {
   "cell_type": "code",
   "execution_count": 12,
   "metadata": {},
   "outputs": [
    {
     "name": "stderr",
     "output_type": "stream",
     "text": [
      "/home/robin/anaconda3/envs/uu_courses/lib/python3.11/site-packages/sklearn/linear_model/_coordinate_descent.py:631: ConvergenceWarning: Objective did not converge. You might want to increase the number of iterations, check the scale of the features or consider increasing regularisation. Duality gap: 1.098e+06, tolerance: 4.811e+05\n",
      "  model = cd_fast.enet_coordinate_descent(\n"
     ]
    },
    {
     "data": {
      "text/html": [
       "<style>#sk-container-id-2 {color: black;background-color: white;}#sk-container-id-2 pre{padding: 0;}#sk-container-id-2 div.sk-toggleable {background-color: white;}#sk-container-id-2 label.sk-toggleable__label {cursor: pointer;display: block;width: 100%;margin-bottom: 0;padding: 0.3em;box-sizing: border-box;text-align: center;}#sk-container-id-2 label.sk-toggleable__label-arrow:before {content: \"▸\";float: left;margin-right: 0.25em;color: #696969;}#sk-container-id-2 label.sk-toggleable__label-arrow:hover:before {color: black;}#sk-container-id-2 div.sk-estimator:hover label.sk-toggleable__label-arrow:before {color: black;}#sk-container-id-2 div.sk-toggleable__content {max-height: 0;max-width: 0;overflow: hidden;text-align: left;background-color: #f0f8ff;}#sk-container-id-2 div.sk-toggleable__content pre {margin: 0.2em;color: black;border-radius: 0.25em;background-color: #f0f8ff;}#sk-container-id-2 input.sk-toggleable__control:checked~div.sk-toggleable__content {max-height: 200px;max-width: 100%;overflow: auto;}#sk-container-id-2 input.sk-toggleable__control:checked~label.sk-toggleable__label-arrow:before {content: \"▾\";}#sk-container-id-2 div.sk-estimator input.sk-toggleable__control:checked~label.sk-toggleable__label {background-color: #d4ebff;}#sk-container-id-2 div.sk-label input.sk-toggleable__control:checked~label.sk-toggleable__label {background-color: #d4ebff;}#sk-container-id-2 input.sk-hidden--visually {border: 0;clip: rect(1px 1px 1px 1px);clip: rect(1px, 1px, 1px, 1px);height: 1px;margin: -1px;overflow: hidden;padding: 0;position: absolute;width: 1px;}#sk-container-id-2 div.sk-estimator {font-family: monospace;background-color: #f0f8ff;border: 1px dotted black;border-radius: 0.25em;box-sizing: border-box;margin-bottom: 0.5em;}#sk-container-id-2 div.sk-estimator:hover {background-color: #d4ebff;}#sk-container-id-2 div.sk-parallel-item::after {content: \"\";width: 100%;border-bottom: 1px solid gray;flex-grow: 1;}#sk-container-id-2 div.sk-label:hover label.sk-toggleable__label {background-color: #d4ebff;}#sk-container-id-2 div.sk-serial::before {content: \"\";position: absolute;border-left: 1px solid gray;box-sizing: border-box;top: 0;bottom: 0;left: 50%;z-index: 0;}#sk-container-id-2 div.sk-serial {display: flex;flex-direction: column;align-items: center;background-color: white;padding-right: 0.2em;padding-left: 0.2em;position: relative;}#sk-container-id-2 div.sk-item {position: relative;z-index: 1;}#sk-container-id-2 div.sk-parallel {display: flex;align-items: stretch;justify-content: center;background-color: white;position: relative;}#sk-container-id-2 div.sk-item::before, #sk-container-id-2 div.sk-parallel-item::before {content: \"\";position: absolute;border-left: 1px solid gray;box-sizing: border-box;top: 0;bottom: 0;left: 50%;z-index: -1;}#sk-container-id-2 div.sk-parallel-item {display: flex;flex-direction: column;z-index: 1;position: relative;background-color: white;}#sk-container-id-2 div.sk-parallel-item:first-child::after {align-self: flex-end;width: 50%;}#sk-container-id-2 div.sk-parallel-item:last-child::after {align-self: flex-start;width: 50%;}#sk-container-id-2 div.sk-parallel-item:only-child::after {width: 0;}#sk-container-id-2 div.sk-dashed-wrapped {border: 1px dashed gray;margin: 0 0.4em 0.5em 0.4em;box-sizing: border-box;padding-bottom: 0.4em;background-color: white;}#sk-container-id-2 div.sk-label label {font-family: monospace;font-weight: bold;display: inline-block;line-height: 1.2em;}#sk-container-id-2 div.sk-label-container {text-align: center;}#sk-container-id-2 div.sk-container {/* jupyter's `normalize.less` sets `[hidden] { display: none; }` but bootstrap.min.css set `[hidden] { display: none !important; }` so we also need the `!important` here to be able to override the default hidden behavior on the sphinx rendered scikit-learn.org. See: https://github.com/scikit-learn/scikit-learn/issues/21755 */display: inline-block !important;position: relative;}#sk-container-id-2 div.sk-text-repr-fallback {display: none;}</style><div id=\"sk-container-id-2\" class=\"sk-top-container\"><div class=\"sk-text-repr-fallback\"><pre>RuleFit(max_iter=1000,\n",
       "        tree_generator=GradientBoostingRegressor(learning_rate=0.01,\n",
       "                                                 max_depth=100,\n",
       "                                                 max_leaf_nodes=9,\n",
       "                                                 n_estimators=584,\n",
       "                                                 random_state=583,\n",
       "                                                 subsample=0.13527762099825857))</pre><b>In a Jupyter environment, please rerun this cell to show the HTML representation or trust the notebook. <br />On GitHub, the HTML representation is unable to render, please try loading this page with nbviewer.org.</b></div><div class=\"sk-container\" hidden><div class=\"sk-item sk-dashed-wrapped\"><div class=\"sk-label-container\"><div class=\"sk-label sk-toggleable\"><input class=\"sk-toggleable__control sk-hidden--visually\" id=\"sk-estimator-id-4\" type=\"checkbox\" ><label for=\"sk-estimator-id-4\" class=\"sk-toggleable__label sk-toggleable__label-arrow\">RuleFit</label><div class=\"sk-toggleable__content\"><pre>RuleFit(max_iter=1000,\n",
       "        tree_generator=GradientBoostingRegressor(learning_rate=0.01,\n",
       "                                                 max_depth=100,\n",
       "                                                 max_leaf_nodes=9,\n",
       "                                                 n_estimators=584,\n",
       "                                                 random_state=583,\n",
       "                                                 subsample=0.13527762099825857))</pre></div></div></div><div class=\"sk-parallel\"><div class=\"sk-parallel-item\"><div class=\"sk-item\"><div class=\"sk-label-container\"><div class=\"sk-label sk-toggleable\"><input class=\"sk-toggleable__control sk-hidden--visually\" id=\"sk-estimator-id-5\" type=\"checkbox\" ><label for=\"sk-estimator-id-5\" class=\"sk-toggleable__label sk-toggleable__label-arrow\">tree_generator: GradientBoostingRegressor</label><div class=\"sk-toggleable__content\"><pre>GradientBoostingRegressor(learning_rate=0.01, max_depth=100, max_leaf_nodes=9,\n",
       "                          n_estimators=584, random_state=583,\n",
       "                          subsample=0.13527762099825857)</pre></div></div></div><div class=\"sk-serial\"><div class=\"sk-item\"><div class=\"sk-estimator sk-toggleable\"><input class=\"sk-toggleable__control sk-hidden--visually\" id=\"sk-estimator-id-6\" type=\"checkbox\" ><label for=\"sk-estimator-id-6\" class=\"sk-toggleable__label sk-toggleable__label-arrow\">GradientBoostingRegressor</label><div class=\"sk-toggleable__content\"><pre>GradientBoostingRegressor(learning_rate=0.01, max_depth=100, max_leaf_nodes=9,\n",
       "                          n_estimators=584, random_state=583,\n",
       "                          subsample=0.13527762099825857)</pre></div></div></div></div></div></div></div></div></div></div>"
      ],
      "text/plain": [
       "RuleFit(max_iter=1000,\n",
       "        tree_generator=GradientBoostingRegressor(learning_rate=0.01,\n",
       "                                                 max_depth=100,\n",
       "                                                 max_leaf_nodes=9,\n",
       "                                                 n_estimators=584,\n",
       "                                                 random_state=583,\n",
       "                                                 subsample=0.13527762099825857))"
      ]
     },
     "execution_count": 12,
     "metadata": {},
     "output_type": "execute_result"
    }
   ],
   "source": [
    "\n",
    "rf = RuleFit(max_iter=1000)\n",
    "rf.fit(X, y, feature_names=features)"
   ]
  },
  {
   "cell_type": "code",
   "execution_count": 13,
   "metadata": {},
   "outputs": [
    {
     "data": {
      "text/plain": [
       "array([2396.66604874, 4203.8987328 , 2137.13700125, ..., 3159.94975395,\n",
       "       5063.45374644, 1135.02952026])"
      ]
     },
     "execution_count": 13,
     "metadata": {},
     "output_type": "execute_result"
    }
   ],
   "source": [
    "rf.predict(X)"
   ]
  },
  {
   "cell_type": "code",
   "execution_count": 19,
   "metadata": {},
   "outputs": [
    {
     "name": "stdout",
     "output_type": "stream",
     "text": [
      "[9 <= 846.5, 9 > 846.5, 9 <= 1656.5, 9 > 1656.5, 9 <= 1542.0, 9 > 1542.0, 9 <= 2070.5 & 8 <= 2.5 & 5 <= 3.5, 9 <= 2070.5 & 8 <= 2.5 & 5 > 3.5, 9 <= 2070.5 & 8 > 2.5, 9 > 2070.5 & 5 <= 2.5 & 5 <= 0.5, 9 > 2070.5 & 5 <= 2.5 & 5 > 0.5, 9 > 2070.5 & 5 > 2.5, 9 <= 1601.0, 9 > 1601.0, 9 <= 1702.0 & 8 <= 2.5, 9 <= 1702.0 & 8 > 2.5, 9 > 1702.0 & 5 <= 2.5, 9 > 1702.0 & 5 > 2.5, 9 <= 1778.5, 9 > 1778.5 & 5 <= 2.5, 9 > 1778.5 & 5 > 2.5, 9 <= 1756.0 & 8 <= 2.5, 9 <= 1756.0 & 8 > 2.5, 9 > 1756.0 & 5 <= 2.5, 9 > 1756.0 & 5 > 2.5, 9 <= 2129.0, 9 > 2129.0, 9 <= 1572.0, 9 > 1572.0, 9 <= 1706.0, 9 > 1706.0 & 5 <= 2.5 & 5 <= 0.5, 9 > 1706.0 & 5 <= 2.5 & 5 > 0.5, 9 > 1706.0 & 5 > 2.5, 5 <= 2.5, 5 > 2.5, 9 <= 2084.5 & 8 <= 2.5 & 5 <= 3.5, 9 <= 2084.5 & 8 <= 2.5 & 5 > 3.5 & 9 <= 1045.0, 9 <= 2084.5 & 8 <= 2.5 & 5 > 3.5 & 9 > 1045.0, 9 <= 2084.5 & 8 > 2.5, 9 > 2084.5, 9 <= 1979.0, 9 > 1979.0, 9 <= 903.5 & 8 <= 2.5, 9 <= 903.5 & 8 > 2.5, 9 > 903.5 & 5 <= 2.5 & 5 <= 0.5, 9 > 903.5 & 5 <= 2.5 & 5 > 0.5 & 5 <= 1.5, 9 > 903.5 & 5 <= 2.5 & 5 > 0.5 & 5 > 1.5, 9 > 903.5 & 5 > 2.5 & 0 <= 0.5, 9 > 903.5 & 5 > 2.5 & 0 > 0.5, 9 <= 1694.5, 9 > 1694.5 & 5 <= 2.5, 9 > 1694.5 & 5 > 2.5, 9 > 1778.5 & 5 <= 2.5 & 5 <= 0.5, 9 > 1778.5 & 5 <= 2.5 & 5 > 0.5, 9 <= 1332.5, 9 > 1332.5 & 5 <= 2.5 & 5 <= 0.5, 9 > 1332.5 & 5 <= 2.5 & 5 > 0.5, 9 > 1332.5 & 5 > 2.5, 9 <= 2125.5, 9 > 2125.5, 5 > 2.5 & 9 <= 1728.5, 5 > 2.5 & 9 > 1728.5, 5 > 2.5 & 9 <= 1496.5, 5 > 2.5 & 9 > 1496.5, 9 <= 1488.5, 9 > 1488.5 & 5 <= 2.5, 9 > 1488.5 & 5 > 2.5, 9 <= 1203.0, 9 > 1203.0, 8 <= 2.5 & 9 <= 1309.5, 8 <= 2.5 & 9 > 1309.5 & 5 <= 2.5 & 5 <= 0.5, 8 <= 2.5 & 9 > 1309.5 & 5 <= 2.5 & 5 > 0.5 & 5 <= 1.5, 8 <= 2.5 & 9 > 1309.5 & 5 <= 2.5 & 5 > 0.5 & 5 > 1.5, 8 <= 2.5 & 9 > 1309.5 & 5 > 2.5 & 5 <= 3.5, 8 <= 2.5 & 9 > 1309.5 & 5 > 2.5 & 5 > 3.5, 8 > 2.5 & 9 <= 1234.0, 8 > 2.5 & 9 > 1234.0 & 5 <= 2.5 & 5 <= 0.5, 8 > 2.5 & 9 > 1234.0 & 5 <= 2.5 & 5 > 0.5, 8 > 2.5 & 9 > 1234.0 & 5 > 2.5, 5 > 2.5 & 9 <= 895.0, 5 > 2.5 & 9 > 895.0, 8 <= 2.5 & 5 <= 2.5, 8 <= 2.5 & 5 > 2.5, 8 > 2.5, 9 <= 1743.5, 9 > 1743.5, 9 <= 1532.5 & 8 <= 2.5, 9 <= 1532.5 & 8 > 2.5, 9 > 1532.5 & 5 <= 3.5, 9 > 1532.5 & 5 > 3.5, 9 <= 1559.0, 9 > 1559.0 & 5 <= 2.5, 9 > 1559.0 & 5 > 2.5, 9 <= 1724.5 & 9 <= 742.5, 9 <= 1724.5 & 9 > 742.5 & 8 <= 2.5 & 5 <= 2.5, 9 <= 1724.5 & 9 > 742.5 & 8 <= 2.5 & 5 > 2.5, 9 <= 1724.5 & 9 > 742.5 & 8 > 2.5, 9 > 1724.5 & 5 <= 2.5 & 5 <= 0.5, 9 > 1724.5 & 5 <= 2.5 & 5 > 0.5 & 5 <= 1.5, 9 > 1724.5 & 5 <= 2.5 & 5 > 0.5 & 5 > 1.5, 9 > 1724.5 & 5 > 2.5 & 8 <= 2.5, 9 > 1724.5 & 5 > 2.5 & 8 > 2.5, 9 <= 2064.5, 9 > 2064.5, 8 <= 2.5, 9 <= 1033.5 & 8 <= 2.5, 9 <= 1033.5 & 8 > 2.5, 9 > 1033.5 & 5 <= 2.5 & 5 <= 0.5, 9 > 1033.5 & 5 <= 2.5 & 5 > 0.5 & 5 <= 1.5, 9 > 1033.5 & 5 <= 2.5 & 5 > 0.5 & 5 > 1.5, 9 > 1033.5 & 5 > 2.5 & 8 <= 2.5, 9 > 1033.5 & 5 > 2.5 & 8 > 2.5, 9 <= 1022.5, 9 > 1022.5 & 5 <= 2.5, 9 > 1022.5 & 5 > 2.5, 9 <= 963.0, 9 > 963.0, 9 <= 1654.5, 9 > 1654.5, 9 <= 1257.5, 9 > 1257.5 & 5 <= 2.5 & 5 <= 0.5, 9 > 1257.5 & 5 <= 2.5 & 5 > 0.5, 9 > 1257.5 & 5 > 2.5, 9 <= 1707.5 & 8 <= 2.5, 9 <= 1707.5 & 8 > 2.5, 9 > 1707.5 & 5 <= 2.5, 9 > 1707.5 & 5 > 2.5, 9 <= 882.5, 9 > 882.5 & 5 <= 2.5 & 8 <= 2.5 & 5 <= 0.5, 9 > 882.5 & 5 <= 2.5 & 8 <= 2.5 & 5 > 0.5 & 5 <= 1.5, 9 > 882.5 & 5 <= 2.5 & 8 <= 2.5 & 5 > 0.5 & 5 > 1.5, 9 > 882.5 & 5 <= 2.5 & 8 > 2.5, 9 > 882.5 & 5 > 2.5 & 9 <= 1771.5, 9 > 882.5 & 5 > 2.5 & 9 > 1771.5, 9 <= 1204.5, 9 > 1204.5 & 5 <= 2.5, 9 > 1204.5 & 5 > 2.5, 8 <= 2.5 & 5 <= 1.5 & 5 <= 0.5, 8 <= 2.5 & 5 <= 1.5 & 5 > 0.5, 8 <= 2.5 & 5 > 1.5, 9 <= 2202.0, 9 > 2202.0, 9 <= 1658.0, 9 > 1658.0 & 5 <= 2.5, 9 > 1658.0 & 5 > 2.5, 8 <= 2.5 & 9 <= 1716.0, 8 <= 2.5 & 9 > 1716.0, 9 <= 1041.0, 9 > 1041.0 & 5 <= 2.5 & 8 <= 2.5, 9 > 1041.0 & 5 <= 2.5 & 8 > 2.5, 9 > 1041.0 & 5 > 2.5, 9 <= 1880.0, 9 > 1880.0, 9 <= 1714.5, 9 > 1714.5 & 5 <= 2.5, 9 > 1714.5 & 5 > 2.5, 8 <= 2.5 & 9 <= 1927.0 & 9 <= 664.0, 8 <= 2.5 & 9 <= 1927.0 & 9 > 664.0, 8 <= 2.5 & 9 > 1927.0 & 5 <= 2.5 & 5 <= 0.5, 8 <= 2.5 & 9 > 1927.0 & 5 <= 2.5 & 5 > 0.5 & 5 <= 1.5, 8 <= 2.5 & 9 > 1927.0 & 5 <= 2.5 & 5 > 0.5 & 5 > 1.5, 8 <= 2.5 & 9 > 1927.0 & 5 > 2.5, 8 > 2.5 & 9 <= 1032.5, 8 > 2.5 & 9 > 1032.5 & 5 <= 2.5, 8 > 2.5 & 9 > 1032.5 & 5 > 2.5, 9 <= 1109.5, 9 > 1109.5 & 5 <= 1.5, 9 > 1109.5 & 5 > 1.5, 8 <= 2.5 & 5 <= 3.5 & 9 <= 503.0, 8 <= 2.5 & 5 <= 3.5 & 9 > 503.0 & 5 <= 0.5, 8 <= 2.5 & 5 <= 3.5 & 9 > 503.0 & 5 > 0.5 & 5 <= 1.5, 8 <= 2.5 & 5 <= 3.5 & 9 > 503.0 & 5 > 0.5 & 5 > 1.5, 8 <= 2.5 & 5 > 3.5 & 9 <= 1504.0, 8 <= 2.5 & 5 > 3.5 & 9 > 1504.0, 8 > 2.5 & 9 <= 1683.0, 8 > 2.5 & 9 > 1683.0 & 11 <= 2.5, 8 > 2.5 & 9 > 1683.0 & 11 > 2.5, 9 <= 1344.0, 9 > 1344.0 & 8 <= 2.5, 9 > 1344.0 & 8 > 2.5, 8 <= 2.5 & 5 <= 2.5 & 5 <= 0.5 & 9 <= 1805.5, 8 <= 2.5 & 5 <= 2.5 & 5 <= 0.5 & 9 > 1805.5, 8 <= 2.5 & 5 <= 2.5 & 5 > 0.5 & 5 <= 1.5, 8 <= 2.5 & 5 <= 2.5 & 5 > 0.5 & 5 > 1.5, 8 <= 2.5 & 5 > 2.5 & 9 <= 1303.0, 8 <= 2.5 & 5 > 2.5 & 9 > 1303.0, 8 > 2.5 & 11 <= 4.5, 8 > 2.5 & 11 > 4.5, 9 <= 1040.0 & 8 <= 2.5, 9 <= 1040.0 & 8 > 2.5, 9 > 1040.0 & 5 <= 2.5 & 5 <= 0.5 & 8 <= 2.5, 9 > 1040.0 & 5 <= 2.5 & 5 <= 0.5 & 8 > 2.5, 9 > 1040.0 & 5 <= 2.5 & 5 > 0.5 & 5 <= 1.5 & 8 <= 2.5, 9 > 1040.0 & 5 <= 2.5 & 5 > 0.5 & 5 <= 1.5 & 8 > 2.5, 9 > 1040.0 & 5 <= 2.5 & 5 > 0.5 & 5 > 1.5 & 8 <= 2.5, 9 > 1040.0 & 5 <= 2.5 & 5 > 0.5 & 5 > 1.5 & 8 > 2.5, 9 > 1040.0 & 5 > 2.5 & 0 <= 0.5, 9 > 1040.0 & 5 > 2.5 & 0 > 0.5 & 9 <= 2469.5, 9 > 1040.0 & 5 > 2.5 & 0 > 0.5 & 9 > 2469.5, 8 <= 2.5 & 9 > 1033.5, 9 <= 1796.5, 9 > 1796.5 & 5 <= 3.5, 9 > 1796.5 & 5 > 3.5, 9 <= 2153.5 & 8 <= 2.5 & 5 <= 2.5, 9 <= 2153.5 & 8 <= 2.5 & 5 > 2.5, 9 <= 2153.5 & 8 > 2.5, 9 > 2153.5 & 5 <= 3.5, 9 > 2153.5 & 5 > 3.5, 9 <= 1938.5, 9 > 1938.5, 5 > 2.5 & 9 <= 894.5, 5 > 2.5 & 9 > 894.5, 9 <= 2029.5, 9 > 2029.5, 9 <= 1577.5 & 8 <= 2.5, 9 <= 1577.5 & 8 > 2.5, 9 > 1577.5, 9 <= 1533.5, 9 > 1533.5, 5 <= 2.5 & 5 <= 0.5 & 9 <= 796.0, 5 <= 2.5 & 5 <= 0.5 & 9 > 796.0 & 8 <= 2.5, 5 <= 2.5 & 5 <= 0.5 & 9 > 796.0 & 8 > 2.5, 5 <= 2.5 & 5 > 0.5 & 5 <= 1.5, 5 <= 2.5 & 5 > 0.5 & 5 > 1.5, 5 > 2.5 & 9 <= 1053.0, 5 > 2.5 & 9 > 1053.0, 9 <= 766.5, 9 > 766.5, 9 <= 1318.5, 9 > 1318.5 & 5 <= 2.5 & 5 <= 0.5, 9 > 1318.5 & 5 <= 2.5 & 5 > 0.5, 9 > 1318.5 & 5 > 2.5, 9 <= 1275.0, 9 > 1275.0, 9 <= 1039.5, 9 > 1039.5, 8 <= 2.5 & 9 <= 1858.5, 8 <= 2.5 & 9 > 1858.5, 8 > 2.5 & 9 <= 1794.0, 8 > 2.5 & 9 > 1794.0, 9 <= 1319.0, 9 > 1319.0, 5 <= 2.5 & 5 <= 0.5, 5 <= 2.5 & 5 > 0.5, 5 > 2.5 & 9 <= 965.5, 5 > 2.5 & 9 > 965.5, 9 <= 2030.5 & 8 <= 2.5, 9 <= 2030.5 & 8 > 2.5, 9 > 2030.5 & 5 <= 2.5, 9 > 2030.5 & 5 > 2.5, 9 <= 1804.0 & 9 <= 634.5, 9 <= 1804.0 & 9 > 634.5, 9 > 1804.0 & 5 <= 2.5 & 5 <= 0.5, 9 > 1804.0 & 5 <= 2.5 & 5 > 0.5 & 5 <= 1.5, 9 > 1804.0 & 5 <= 2.5 & 5 > 0.5 & 5 > 1.5, 9 > 1804.0 & 5 > 2.5, 9 <= 1611.5, 9 > 1611.5, 5 <= 3.5 & 8 <= 2.5 & 8 <= 0.5, 5 <= 3.5 & 8 <= 2.5 & 8 > 0.5, 5 <= 3.5 & 8 > 2.5, 5 > 3.5 & 9 <= 1543.5, 5 > 3.5 & 9 > 1543.5, 8 <= 2.5 & 5 > 2.5 & 9 <= 808.5, 8 <= 2.5 & 5 > 2.5 & 9 > 808.5, 9 <= 1707.0, 9 > 1707.0, 8 <= 2.5 & 5 > 2.5 & 9 <= 1528.0, 8 <= 2.5 & 5 > 2.5 & 9 > 1528.0, 8 > 2.5 & 9 <= 1091.0, 8 > 2.5 & 9 > 1091.0 & 0 <= 0.5, 8 > 2.5 & 9 > 1091.0 & 0 > 0.5, 9 <= 1620.0, 9 > 1620.0, 8 <= 2.5 & 5 <= 2.5 & 5 <= 0.5, 8 <= 2.5 & 5 <= 2.5 & 5 > 0.5, 8 <= 2.5 & 5 > 2.5 & 9 <= 889.5, 8 <= 2.5 & 5 > 2.5 & 9 > 889.5, 8 > 2.5 & 5 <= 2.5, 8 > 2.5 & 5 > 2.5, 9 <= 2190.5, 9 > 2190.5, 8 <= 2.5 & 9 <= 1351.5, 8 <= 2.5 & 9 > 1351.5 & 5 <= 2.5, 8 <= 2.5 & 9 > 1351.5 & 5 > 2.5, 9 <= 1648.0, 9 > 1648.0, 8 <= 2.5 & 5 <= 3.5, 8 <= 2.5 & 5 > 3.5, 9 <= 1556.5, 9 > 1556.5, 9 <= 1159.5, 9 > 1159.5, 9 <= 1879.5 & 8 <= 2.5 & 8 <= 0.5 & 9 <= 161.5, 9 <= 1879.5 & 8 <= 2.5 & 8 <= 0.5 & 9 > 161.5 & 0 <= 0.5, 9 <= 1879.5 & 8 <= 2.5 & 8 <= 0.5 & 9 > 161.5 & 0 > 0.5 & 12 <= 3.5, 9 <= 1879.5 & 8 <= 2.5 & 8 <= 0.5 & 9 > 161.5 & 0 > 0.5 & 12 > 3.5, 9 <= 1879.5 & 8 <= 2.5 & 8 > 0.5 & 5 <= 1.5 & 5 <= 0.5, 9 <= 1879.5 & 8 <= 2.5 & 8 > 0.5 & 5 <= 1.5 & 5 > 0.5, 9 <= 1879.5 & 8 <= 2.5 & 8 > 0.5 & 5 > 1.5 & 9 <= 270.5, 9 <= 1879.5 & 8 <= 2.5 & 8 > 0.5 & 5 > 1.5 & 9 > 270.5, 9 <= 1879.5 & 8 > 2.5 & 11 <= 2.5, 9 <= 1879.5 & 8 > 2.5 & 11 > 2.5, 9 > 1879.5 & 5 <= 2.5 & 5 <= 0.5 & 0 <= 0.5, 9 > 1879.5 & 5 <= 2.5 & 5 <= 0.5 & 0 > 0.5, 9 > 1879.5 & 5 <= 2.5 & 5 > 0.5 & 5 <= 1.5, 9 > 1879.5 & 5 <= 2.5 & 5 > 0.5 & 5 > 1.5, 9 > 1879.5 & 5 > 2.5 & 0 <= 0.5, 9 > 1879.5 & 5 > 2.5 & 0 > 0.5, 9 <= 1326.5, 9 > 1326.5 & 5 <= 3.5, 9 > 1326.5 & 5 > 3.5 & 9 <= 2314.0, 9 > 1326.5 & 5 > 3.5 & 9 > 2314.0, 9 <= 1504.5, 9 > 1504.5, 8 <= 2.5 & 5 > 3.5 & 9 <= 627.0, 8 <= 2.5 & 5 > 3.5 & 9 > 627.0, 9 <= 783.5, 9 > 783.5, 9 <= 1034.5, 9 > 1034.5 & 5 <= 2.5 & 5 <= 0.5, 9 > 1034.5 & 5 <= 2.5 & 5 > 0.5 & 5 <= 1.5, 9 > 1034.5 & 5 <= 2.5 & 5 > 0.5 & 5 > 1.5, 9 > 1034.5 & 5 > 2.5 & 9 <= 2426.0, 9 > 1034.5 & 5 > 2.5 & 9 > 2426.0, 8 <= 2.5 & 9 <= 1940.5 & 8 <= 0.5, 8 <= 2.5 & 9 <= 1940.5 & 8 > 0.5, 8 <= 2.5 & 9 > 1940.5 & 5 <= 3.5, 8 <= 2.5 & 9 > 1940.5 & 5 > 3.5, 8 <= 2.5 & 9 <= 1940.5, 8 <= 2.5 & 9 > 1940.5 & 5 <= 2.5 & 5 <= 0.5, 8 <= 2.5 & 9 > 1940.5 & 5 <= 2.5 & 5 > 0.5 & 5 <= 1.5, 8 <= 2.5 & 9 > 1940.5 & 5 <= 2.5 & 5 > 0.5 & 5 > 1.5, 8 <= 2.5 & 9 > 1940.5 & 5 > 2.5, 8 > 2.5 & 9 <= 2232.5, 8 > 2.5 & 9 > 2232.5, 5 > 2.5 & 9 <= 916.0, 5 > 2.5 & 9 > 916.0, 5 > 2.5 & 9 <= 754.0, 5 > 2.5 & 9 > 754.0, 9 <= 2044.0, 9 > 2044.0, 9 <= 565.5, 9 > 565.5, 9 <= 2186.5, 9 > 2186.5, 9 <= 1980.5 & 8 <= 2.5, 9 <= 1980.5 & 8 > 2.5, 9 > 1980.5 & 8 <= 2.5, 9 > 1980.5 & 8 > 2.5, 8 <= 2.5 & 9 <= 1880.5, 8 <= 2.5 & 9 > 1880.5, 8 > 2.5 & 9 <= 1065.5, 8 > 2.5 & 9 > 1065.5, 8 <= 2.5 & 8 <= 0.5, 8 <= 2.5 & 8 > 0.5 & 9 <= 2181.0, 8 <= 2.5 & 8 > 0.5 & 9 > 2181.0, 8 > 2.5 & 9 <= 1591.0, 8 > 2.5 & 9 > 1591.0, 9 <= 746.5, 9 > 746.5, 5 <= 2.5 & 5 <= 0.5 & 9 <= 316.0, 5 <= 2.5 & 5 <= 0.5 & 9 > 316.0 & 9 <= 2034.5, 5 <= 2.5 & 5 <= 0.5 & 9 > 316.0 & 9 > 2034.5, 5 <= 2.5 & 5 > 0.5 & 5 <= 1.5 & 8 <= 0.5, 5 <= 2.5 & 5 > 0.5 & 5 <= 1.5 & 8 > 0.5 & 8 <= 2.5, 5 <= 2.5 & 5 > 0.5 & 5 <= 1.5 & 8 > 0.5 & 8 > 2.5, 5 <= 2.5 & 5 > 0.5 & 5 > 1.5 & 11 <= 3.5, 5 <= 2.5 & 5 > 0.5 & 5 > 1.5 & 11 > 3.5, 5 > 2.5 & 9 <= 457.5, 5 > 2.5 & 9 > 457.5 & 9 <= 1149.0, 5 > 2.5 & 9 > 457.5 & 9 > 1149.0 & 0 <= 0.5, 5 > 2.5 & 9 > 457.5 & 9 > 1149.0 & 0 > 0.5 & 13 <= 27.5, 5 > 2.5 & 9 > 457.5 & 9 > 1149.0 & 0 > 0.5 & 13 > 27.5, 8 <= 2.5 & 9 <= 1653.0, 8 <= 2.5 & 9 > 1653.0, 8 > 2.5 & 9 <= 622.0, 8 > 2.5 & 9 > 622.0, 5 > 2.5 & 9 <= 1529.5, 5 > 2.5 & 9 > 1529.5, 5 > 2.5 & 9 <= 1170.0, 5 > 2.5 & 9 > 1170.0, 5 <= 3.5 & 5 <= 0.5, 5 <= 3.5 & 5 > 0.5, 5 > 3.5, 9 <= 1794.0, 9 > 1794.0 & 5 <= 2.5, 9 > 1794.0 & 5 > 2.5, 5 <= 1.5 & 5 <= 0.5 & 8 > 2.5, 5 <= 1.5 & 5 > 0.5, 5 > 1.5 & 9 <= 1300.5 & 8 <= 2.5, 5 > 1.5 & 9 <= 1300.5 & 8 > 2.5, 5 > 1.5 & 9 > 1300.5 & 0 <= 0.5, 5 > 1.5 & 9 > 1300.5 & 0 > 0.5 & 8 <= 2.5, 5 > 1.5 & 9 > 1300.5 & 0 > 0.5 & 8 > 2.5, 8 <= 2.5 & 0 <= 0.5, 8 <= 2.5 & 0 > 0.5 & 11 <= 3.5, 8 <= 2.5 & 0 > 0.5 & 11 > 3.5, 8 > 2.5 & 0 <= 0.5, 8 > 2.5 & 0 > 0.5 & 9 <= 875.0, 8 > 2.5 & 0 > 0.5 & 9 > 875.0, 9 <= 2011.5, 9 > 2011.5, 8 <= 2.5 & 9 <= 1956.0, 8 <= 2.5 & 9 > 1956.0, 9 <= 2031.5 & 8 <= 2.5, 9 <= 2031.5 & 8 > 2.5, 9 > 2031.5 & 5 <= 3.5, 9 > 2031.5 & 5 > 3.5, 8 <= 2.5 & 9 <= 532.5, 8 <= 2.5 & 9 > 532.5, 9 <= 2152.5 & 8 <= 2.5 & 9 <= 573.0, 9 <= 2152.5 & 8 <= 2.5 & 9 > 573.0, 9 <= 2152.5 & 8 > 2.5, 9 > 2152.5 & 5 <= 3.5 & 8 <= 2.5, 9 > 2152.5 & 5 <= 3.5 & 8 > 2.5, 9 > 2152.5 & 5 > 3.5, 13 <= 19.5, 13 > 19.5, 5 <= 3.5, 0 <= 0.5 & 11 <= 3.5, 0 <= 0.5 & 11 > 3.5, 0 > 0.5, 9 <= 2137.5 & 8 <= 2.5, 9 <= 2137.5 & 8 > 2.5, 9 > 2137.5, 9 <= 1033.5, 9 > 1033.5, 5 <= 3.5 & 13 <= 30.5, 5 <= 3.5 & 13 > 30.5, 5 > 3.5 & 9 <= 2430.0, 5 > 3.5 & 9 > 2430.0, 5 <= 1.5, 5 > 1.5, 9 <= 1692.5, 9 > 1692.5 & 5 <= 1.5 & 5 <= 0.5, 9 > 1692.5 & 5 <= 1.5 & 5 > 0.5, 9 > 1692.5 & 5 > 1.5, 9 <= 2023.5, 9 > 2023.5, 9 <= 1036.0, 9 > 1036.0, 5 > 2.5 & 9 <= 2183.5 & 9 <= 487.5, 5 > 2.5 & 9 <= 2183.5 & 9 > 487.5, 5 > 2.5 & 9 > 2183.5, 5 > 2.5 & 9 <= 710.5, 5 > 2.5 & 9 > 710.5, 8 <= 2.5 & 8 > 0.5 & 9 <= 2205.5, 8 <= 2.5 & 8 > 0.5 & 9 > 2205.5, 8 > 2.5 & 0 > 0.5 & 5 <= 3.5, 8 > 2.5 & 0 > 0.5 & 5 > 3.5, 5 <= 3.5 & 5 > 0.5 & 5 <= 1.5, 5 <= 3.5 & 5 > 0.5 & 5 > 1.5, 5 > 3.5 & 9 <= 1288.0, 5 > 3.5 & 9 > 1288.0, 0 <= 0.5, 13 <= 16.5, 13 > 16.5, 5 > 3.5 & 9 <= 1065.0, 5 > 3.5 & 9 > 1065.0, 9 <= 740.5, 9 > 740.5 & 8 <= 2.5 & 8 <= 0.5, 9 > 740.5 & 8 <= 2.5 & 8 > 0.5 & 5 <= 3.5, 9 > 740.5 & 8 <= 2.5 & 8 > 0.5 & 5 > 3.5, 9 > 740.5 & 8 > 2.5, 9 <= 735.0, 9 > 735.0 & 5 <= 2.5, 9 > 735.0 & 5 > 2.5, 5 <= 1.5 & 5 <= 0.5, 9 <= 2017.0, 9 > 2017.0 & 5 <= 3.5 & 0 <= 0.5, 9 > 2017.0 & 5 <= 3.5 & 0 > 0.5, 9 > 2017.0 & 5 > 3.5, 5 > 3.5 & 9 <= 1768.0, 5 > 3.5 & 9 > 1768.0, 9 <= 571.5, 9 > 571.5, 9 <= 507.5, 9 > 507.5, 9 <= 1945.0 & 0 <= 0.5, 9 <= 1945.0 & 0 > 0.5 & 13 <= 30.5 & 11 <= 2.5, 9 <= 1945.0 & 0 > 0.5 & 13 <= 30.5 & 11 > 2.5, 9 <= 1945.0 & 0 > 0.5 & 13 > 30.5, 9 > 1945.0 & 5 <= 2.5 & 5 <= 0.5, 9 > 1945.0 & 5 <= 2.5 & 5 > 0.5 & 5 <= 1.5, 9 > 1945.0 & 5 <= 2.5 & 5 > 0.5 & 5 > 1.5, 9 > 1945.0 & 5 > 2.5, 9 <= 586.5, 9 > 586.5 & 5 <= 2.5 & 5 <= 0.5, 9 > 586.5 & 5 <= 2.5 & 5 > 0.5, 9 > 586.5 & 5 > 2.5, 9 <= 2466.0 & 9 <= 617.0, 9 <= 2466.0 & 9 > 617.0, 9 > 2466.0, 9 <= 1426.0, 9 > 1426.0 & 5 <= 2.5, 9 > 1426.0 & 5 > 2.5, 9 <= 1794.5, 9 > 1794.5, 9 <= 561.5, 9 > 561.5 & 5 <= 0.5, 9 > 561.5 & 5 > 0.5, 0 > 0.5 & 9 <= 1762.0, 0 > 0.5 & 9 > 1762.0, 9 <= 486.0, 9 > 486.0 & 5 <= 3.5 & 5 <= 0.5, 9 > 486.0 & 5 <= 3.5 & 5 > 0.5, 9 > 486.0 & 5 > 3.5, 9 <= 806.5, 9 > 806.5, 13 <= 29.5 & 9 <= 464.5, 13 <= 29.5 & 9 > 464.5 & 5 <= 2.5 & 5 <= 0.5, 13 <= 29.5 & 9 > 464.5 & 5 <= 2.5 & 5 > 0.5, 13 <= 29.5 & 9 > 464.5 & 5 > 2.5, 13 > 29.5 & 0 <= 0.5, 13 > 29.5 & 0 > 0.5 & 9 <= 1584.5, 13 > 29.5 & 0 > 0.5 & 9 > 1584.5, 9 <= 2135.0, 9 > 2135.0, 5 > 2.5 & 0 <= 0.5, 5 > 2.5 & 0 > 0.5 & 9 <= 1209.0, 5 > 2.5 & 0 > 0.5 & 9 > 1209.0, 13 <= 17.5, 13 > 17.5, 9 <= 1991.5, 9 > 1991.5, 0 <= 0.5 & 5 <= 1.5 & 5 <= 0.5, 0 <= 0.5 & 5 <= 1.5 & 5 > 0.5, 0 <= 0.5 & 5 > 1.5, 5 > 2.5 & 9 <= 685.0, 5 > 2.5 & 9 > 685.0, 9 <= 1976.0 & 8 <= 2.5, 9 <= 1976.0 & 8 > 2.5, 9 > 1976.0 & 5 <= 3.5 & 5 <= 0.5, 9 > 1976.0 & 5 <= 3.5 & 5 > 0.5, 9 > 1976.0 & 5 > 3.5, 0 > 0.5 & 9 <= 2642.0 & 8 <= 2.5, 0 > 0.5 & 9 <= 2642.0 & 8 > 2.5, 0 > 0.5 & 9 > 2642.0, 5 > 2.5 & 9 <= 1715.0 & 9 <= 352.0, 5 > 2.5 & 9 <= 1715.0 & 9 > 352.0, 5 > 2.5 & 9 > 1715.0, 13 <= 29.5 & 5 <= 2.5, 13 <= 29.5 & 5 > 2.5, 13 > 29.5, 5 > 2.5 & 9 <= 722.0, 5 > 2.5 & 9 > 722.0, 9 <= 878.5, 9 > 878.5 & 5 <= 3.5, 9 > 878.5 & 5 > 3.5, 8 <= 2.5 & 8 > 0.5, 9 <= 2755.0, 9 > 2755.0, 5 > 2.5 & 9 <= 889.5, 5 > 2.5 & 9 > 889.5, 13 <= 15.5 & 5 <= 2.5, 13 <= 15.5 & 5 > 2.5, 13 > 15.5 & 9 <= 2436.5 & 8 <= 2.5 & 8 <= 0.5, 13 > 15.5 & 9 <= 2436.5 & 8 <= 2.5 & 8 > 0.5, 13 > 15.5 & 9 <= 2436.5 & 8 > 2.5, 13 > 15.5 & 9 > 2436.5, 13 <= 39.5 & 5 <= 3.5, 13 <= 39.5 & 5 > 3.5, 13 > 39.5, 9 <= 423.5, 9 > 423.5 & 5 <= 3.5 & 5 <= 0.5, 9 > 423.5 & 5 <= 3.5 & 5 > 0.5 & 5 <= 1.5, 9 > 423.5 & 5 <= 3.5 & 5 > 0.5 & 5 > 1.5, 9 > 423.5 & 5 > 3.5, 0 <= 0.5 & 5 <= 3.5, 0 <= 0.5 & 5 > 3.5, 0 > 0.5 & 9 <= 1207.5, 0 > 0.5 & 9 > 1207.5 & 5 <= 2.5 & 5 <= 0.5, 0 > 0.5 & 9 > 1207.5 & 5 <= 2.5 & 5 > 0.5, 0 > 0.5 & 9 > 1207.5 & 5 > 2.5, 0 > 0.5 & 8 <= 2.5, 0 > 0.5 & 8 > 2.5 & 9 <= 1816.5, 0 > 0.5 & 8 > 2.5 & 9 > 1816.5, 8 <= 2.5 & 9 <= 2626.0 & 8 <= 0.5, 8 <= 2.5 & 9 <= 2626.0 & 8 > 0.5, 8 <= 2.5 & 9 > 2626.0, 8 > 2.5 & 9 <= 2033.0, 8 > 2.5 & 9 > 2033.0, 13 <= 20.5, 13 > 20.5 & 5 <= 3.5, 13 > 20.5 & 5 > 3.5, 8 <= 2.5 & 8 <= 0.5 & 9 <= 2490.5, 8 <= 2.5 & 8 <= 0.5 & 9 > 2490.5, 5 <= 3.5 & 9 <= 2154.5 & 13 <= 28.5, 5 <= 3.5 & 9 <= 2154.5 & 13 > 28.5, 5 <= 3.5 & 9 > 2154.5 & 5 <= 0.5, 5 <= 3.5 & 9 > 2154.5 & 5 > 0.5, 13 <= 14.5, 13 > 14.5, 9 <= 1653.0, 9 > 1653.0, 8 <= 2.5 & 13 <= 33.5 & 8 <= 0.5, 8 <= 2.5 & 13 <= 33.5 & 8 > 0.5 & 9 <= 550.0, 8 <= 2.5 & 13 <= 33.5 & 8 > 0.5 & 9 > 550.0, 8 <= 2.5 & 13 > 33.5 & 9 <= 877.5, 8 <= 2.5 & 13 > 33.5 & 9 > 877.5, 8 > 2.5 & 0 > 0.5, 0 > 0.5 & 9 <= 2705.5, 0 > 0.5 & 9 > 2705.5, 5 <= 3.5 & 13 <= 17.5, 5 <= 3.5 & 13 > 17.5, 5 > 3.5 & 9 <= 1302.5, 5 > 3.5 & 9 > 1302.5 & 8 <= 2.5, 5 > 3.5 & 9 > 1302.5 & 8 > 2.5, 5 > 3.5 & 9 <= 1707.5, 5 > 3.5 & 9 > 1707.5, 9 <= 1451.5 & 10 <= 1.5 & 7 <= 121.0, 9 <= 1451.5 & 10 <= 1.5 & 7 > 121.0, 9 <= 1451.5 & 10 > 1.5, 9 > 1451.5 & 8 <= 2.5 & 8 <= 0.5, 9 > 1451.5 & 8 <= 2.5 & 8 > 0.5, 9 > 1451.5 & 8 > 2.5, 9 <= 360.0, 9 > 360.0 & 5 <= 1.5 & 5 <= 0.5, 9 > 360.0 & 5 <= 1.5 & 5 > 0.5, 9 > 360.0 & 5 > 1.5, 9 <= 339.5, 9 > 339.5, 0 > 0.5 & 9 <= 1771.5, 0 > 0.5 & 9 > 1771.5 & 5 <= 2.5, 0 > 0.5 & 9 > 1771.5 & 5 > 2.5, 9 <= 540.0, 9 > 540.0, 5 > 2.5 & 9 <= 2162.0, 5 > 2.5 & 9 > 2162.0, 13 <= 17.5 & 5 <= 1.5 & 5 <= 0.5, 13 <= 17.5 & 5 <= 1.5 & 5 > 0.5, 13 <= 17.5 & 5 > 1.5 & 9 <= 841.0, 13 <= 17.5 & 5 > 1.5 & 9 > 841.0, 13 > 17.5 & 9 <= 1553.5 & 8 <= 2.5, 13 > 17.5 & 9 <= 1553.5 & 8 > 2.5, 13 > 17.5 & 9 > 1553.5 & 5 <= 3.5 & 5 <= 0.5, 13 > 17.5 & 9 > 1553.5 & 5 <= 3.5 & 5 > 0.5 & 5 <= 1.5, 13 > 17.5 & 9 > 1553.5 & 5 <= 3.5 & 5 > 0.5 & 5 > 1.5, 13 > 17.5 & 9 > 1553.5 & 5 > 3.5, 13 <= 29.5, 9 <= 2258.5, 9 > 2258.5, 11 <= 2.5, 11 > 2.5 & 9 <= 1863.0, 11 > 2.5 & 9 > 1863.0, 9 <= 565.0, 9 > 565.0 & 5 <= 2.5, 9 > 565.0 & 5 > 2.5, 9 <= 832.0, 9 > 832.0, 9 <= 2188.0, 9 > 2188.0, 11 > 2.5, 8 <= 2.5 & 5 <= 2.5 & 5 <= 0.5 & 9 <= 548.0, 8 <= 2.5 & 5 <= 2.5 & 5 <= 0.5 & 9 > 548.0, 8 <= 2.5 & 5 <= 2.5 & 5 > 0.5 & 7 <= 197.5, 8 <= 2.5 & 5 <= 2.5 & 5 > 0.5 & 7 > 197.5 & 14 <= 12.5, 8 <= 2.5 & 5 <= 2.5 & 5 > 0.5 & 7 > 197.5 & 14 > 12.5, 8 <= 2.5 & 5 > 2.5 & 9 <= 1979.5 & 9 <= 618.0, 8 <= 2.5 & 5 > 2.5 & 9 <= 1979.5 & 9 > 618.0, 8 <= 2.5 & 5 > 2.5 & 9 > 1979.5, 8 > 2.5 & 7 <= 134.0, 8 > 2.5 & 7 > 134.0 & 12 <= 21.5, 8 > 2.5 & 7 > 134.0 & 12 > 21.5, 5 <= 3.5 & 8 <= 0.5, 5 <= 3.5 & 8 > 0.5 & 8 > 2.5, 5 > 3.5 & 9 <= 2188.0, 5 > 3.5 & 9 > 2188.0, 11 <= 1.5 & 13 <= 37.5 & 8 <= 2.5, 11 <= 1.5 & 13 <= 37.5 & 8 > 2.5, 11 <= 1.5 & 13 > 37.5, 11 > 1.5 & 0 <= 0.5 & 5 <= 1.5 & 5 <= 0.5, 11 > 1.5 & 0 <= 0.5 & 5 <= 1.5 & 5 > 0.5, 11 > 1.5 & 0 <= 0.5 & 5 > 1.5, 11 > 1.5 & 0 > 0.5 & 13 <= 10.5, 11 > 1.5 & 0 > 0.5 & 13 > 10.5, 0 <= 0.5 & 9 <= 2683.0 & 8 <= 2.5, 0 <= 0.5 & 9 <= 2683.0 & 8 > 2.5, 0 <= 0.5 & 9 > 2683.0, 0 > 0.5 & 5 <= 3.5 & 11 <= 3.5, 0 > 0.5 & 5 <= 3.5 & 11 > 3.5, 0 > 0.5 & 5 > 3.5 & 9 <= 736.5, 0 > 0.5 & 5 > 3.5 & 9 > 736.5, 9 <= 1329.0 & 13 <= 28.5, 9 <= 1329.0 & 13 > 28.5, 9 > 1329.0 & 11 <= 3.5, 9 > 1329.0 & 11 > 3.5, 13 <= 31.5 & 8 <= 0.5, 13 <= 31.5 & 8 > 0.5 & 8 <= 2.5, 13 <= 31.5 & 8 > 0.5 & 8 > 2.5, 13 > 31.5 & 9 <= 2642.0 & 8 <= 2.5 & 5 <= 3.5, 13 > 31.5 & 9 <= 2642.0 & 8 <= 2.5 & 5 > 3.5, 13 > 31.5 & 9 <= 2642.0 & 8 > 2.5, 13 > 31.5 & 9 > 2642.0, 9 <= 731.0, 9 > 731.0 & 8 <= 2.5 & 8 <= 0.5, 9 > 731.0 & 8 <= 2.5 & 8 > 0.5, 9 > 731.0 & 8 > 2.5, 5 <= 2.5 & 5 <= 0.5 & 9 <= 2278.5 & 13 <= 14.5, 5 <= 2.5 & 5 <= 0.5 & 9 <= 2278.5 & 13 > 14.5, 5 <= 2.5 & 5 <= 0.5 & 9 > 2278.5, 5 <= 2.5 & 5 > 0.5 & 5 <= 1.5 & 9 <= 1326.0, 5 <= 2.5 & 5 > 0.5 & 5 <= 1.5 & 9 > 1326.0, 5 <= 2.5 & 5 > 0.5 & 5 > 1.5 & 8 > 2.5, 5 > 2.5 & 9 <= 942.0, 5 > 2.5 & 9 > 942.0 & 8 <= 0.5, 5 > 2.5 & 9 > 942.0 & 8 > 0.5 & 9 <= 2521.0, 5 > 2.5 & 9 > 942.0 & 8 > 0.5 & 9 > 2521.0, 9 <= 2515.5 & 10 <= 1.5 & 5 <= 0.5 & 9 <= 1608.0, 9 <= 2515.5 & 10 <= 1.5 & 5 <= 0.5 & 9 > 1608.0, 9 <= 2515.5 & 10 <= 1.5 & 5 > 0.5 & 5 <= 1.5, 9 <= 2515.5 & 10 <= 1.5 & 5 > 0.5 & 5 > 1.5, 9 <= 2515.5 & 10 > 1.5 & 13 <= 39.5 & 8 <= 0.5, 9 <= 2515.5 & 10 > 1.5 & 13 <= 39.5 & 8 > 0.5 & 5 <= 1.5, 9 <= 2515.5 & 10 > 1.5 & 13 <= 39.5 & 8 > 0.5 & 5 > 1.5, 9 <= 2515.5 & 10 > 1.5 & 13 > 39.5, 9 > 2515.5, 0 > 0.5 & 13 <= 19.5, 0 > 0.5 & 13 > 19.5 & 10 <= 2.5 & 9 <= 1249.5, 0 > 0.5 & 13 > 19.5 & 10 <= 2.5 & 9 > 1249.5, 0 > 0.5 & 13 > 19.5 & 10 > 2.5, 9 <= 607.0, 9 > 607.0, 13 <= 42.5 & 10 <= 1.5, 13 <= 42.5 & 10 > 1.5, 13 > 42.5, 9 <= 938.0, 9 > 938.0 & 5 <= 3.5 & 0 <= 0.5, 9 > 938.0 & 5 <= 3.5 & 0 > 0.5, 9 > 938.0 & 5 > 3.5, 13 <= 12.5, 13 > 12.5 & 0 <= 0.5, 13 > 12.5 & 0 > 0.5 & 9 <= 1967.0, 13 > 12.5 & 0 > 0.5 & 9 > 1967.0, 9 <= 757.0, 9 > 757.0, 8 <= 2.5 & 8 <= 0.5 & 5 <= 2.5, 8 <= 2.5 & 8 <= 0.5 & 5 > 2.5 & 16 <= 10.5, 8 <= 2.5 & 8 <= 0.5 & 5 > 2.5 & 16 > 10.5, 8 <= 2.5 & 8 > 0.5 & 13 <= 34.5, 8 <= 2.5 & 8 > 0.5 & 13 > 34.5, 8 > 2.5 & 0 > 0.5 & 9 <= 946.0, 8 > 2.5 & 0 > 0.5 & 9 > 946.0, 11 <= 3.5, 11 > 3.5, 9 <= 1300.0, 9 > 1300.0 & 5 <= 1.5, 9 > 1300.0 & 5 > 1.5, 13 <= 13.5, 13 > 13.5 & 8 <= 2.5, 13 > 13.5 & 8 > 2.5, 9 <= 969.5, 9 > 969.5, 9 <= 2040.5, 9 > 2040.5, 9 <= 1096.0, 9 > 1096.0 & 5 <= 1.5 & 5 <= 0.5, 9 > 1096.0 & 5 <= 1.5 & 5 > 0.5, 9 > 1096.0 & 5 > 1.5, 5 <= 0.5, 5 > 0.5, 9 <= 2600.0 & 8 <= 2.5, 9 <= 2600.0 & 8 > 2.5, 9 > 2600.0, 11 <= 4.5 & 5 <= 0.5, 11 <= 4.5 & 5 > 0.5, 11 > 4.5 & 5 <= 2.5, 11 > 4.5 & 5 > 2.5, 9 <= 2321.5 & 0 <= 0.5, 9 <= 2321.5 & 0 > 0.5, 9 > 2321.5 & 13 <= 11.5, 9 > 2321.5 & 13 > 11.5, 13 > 13.5, 13 <= 22.5, 13 > 22.5 & 9 <= 2495.0, 13 > 22.5 & 9 > 2495.0, 13 <= 29.5 & 9 <= 546.5, 13 <= 29.5 & 9 > 546.5 & 5 <= 1.5 & 5 <= 0.5, 13 <= 29.5 & 9 > 546.5 & 5 <= 1.5 & 5 > 0.5, 13 <= 29.5 & 9 > 546.5 & 5 > 1.5, 13 > 29.5 & 0 > 0.5, 11 <= 3.5 & 8 <= 2.5 & 5 <= 0.5, 11 <= 3.5 & 8 <= 2.5 & 5 > 0.5 & 5 <= 1.5, 11 <= 3.5 & 8 <= 2.5 & 5 > 0.5 & 5 > 1.5 & 9 <= 2698.0, 11 <= 3.5 & 8 <= 2.5 & 5 > 0.5 & 5 > 1.5 & 9 > 2698.0, 11 <= 3.5 & 8 > 2.5, 0 <= 0.5 & 10 <= 1.5, 0 <= 0.5 & 10 > 1.5, 0 > 0.5 & 8 <= 2.5 & 8 <= 0.5, 0 > 0.5 & 8 <= 2.5 & 8 > 0.5, 0 > 0.5 & 8 > 2.5 & 9 <= 1023.5, 0 > 0.5 & 8 > 2.5 & 9 > 1023.5, 9 <= 2139.0, 9 > 2139.0, 9 <= 376.5, 9 > 376.5, 0 > 0.5 & 5 <= 3.5, 0 > 0.5 & 5 > 3.5, 11 <= 2.5 & 8 <= 0.5, 11 <= 2.5 & 8 > 0.5 & 8 <= 2.5, 11 <= 2.5 & 8 > 0.5 & 8 > 2.5, 11 > 2.5 & 13 <= 16.5, 11 > 2.5 & 13 > 16.5 & 9 <= 2156.5 & 7 <= 87.5, 11 > 2.5 & 13 > 16.5 & 9 <= 2156.5 & 7 > 87.5, 11 > 2.5 & 13 > 16.5 & 9 > 2156.5, 13 > 14.5 & 8 <= 2.5 & 8 <= 0.5, 13 > 14.5 & 8 <= 2.5 & 8 > 0.5 & 9 <= 2216.5, 13 > 14.5 & 8 <= 2.5 & 8 > 0.5 & 9 > 2216.5 & 10 <= 2.5, 13 > 14.5 & 8 <= 2.5 & 8 > 0.5 & 9 > 2216.5 & 10 > 2.5, 13 > 14.5 & 8 > 2.5, 8 <= 2.5 & 8 > 0.5 & 13 <= 29.5 & 5 <= 3.5 & 5 <= 0.5, 8 <= 2.5 & 8 > 0.5 & 13 <= 29.5 & 5 <= 3.5 & 5 > 0.5, 8 <= 2.5 & 8 > 0.5 & 13 <= 29.5 & 5 > 3.5 & 9 <= 1402.0, 8 <= 2.5 & 8 > 0.5 & 13 <= 29.5 & 5 > 3.5 & 9 > 1402.0, 8 <= 2.5 & 8 > 0.5 & 13 > 29.5, 8 > 2.5 & 13 <= 11.0, 8 > 2.5 & 13 > 11.0, 11 <= 4.5 & 5 <= 3.5, 11 <= 4.5 & 5 > 3.5 & 9 <= 930.5, 11 <= 4.5 & 5 > 3.5 & 9 > 930.5, 11 > 4.5, 11 <= 4.5, 11 > 4.5 & 9 <= 2505.0, 11 > 4.5 & 9 > 2505.0, 9 <= 794.0, 9 > 794.0, 13 <= 27.5, 13 > 27.5 & 9 <= 1396.0, 13 > 27.5 & 9 > 1396.0, 0 <= 0.5 & 9 <= 2260.0, 0 <= 0.5 & 9 > 2260.0, 0 > 0.5 & 9 <= 2655.0, 0 > 0.5 & 9 > 2655.0 & 14 <= 22.5, 0 > 0.5 & 9 > 2655.0 & 14 > 22.5, 13 <= 31.5 & 5 <= 2.5, 13 <= 31.5 & 5 > 2.5, 13 > 31.5, 9 <= 765.5, 9 > 765.5 & 5 <= 0.5, 9 > 765.5 & 5 > 0.5 & 5 <= 1.5, 9 > 765.5 & 5 > 0.5 & 5 > 1.5 & 9 <= 2338.0, 9 > 765.5 & 5 > 0.5 & 5 > 1.5 & 9 > 2338.0, 13 <= 18.5, 13 > 18.5, 9 <= 1604.5, 9 > 1604.5 & 11 <= 2.5 & 3 <= 0.5, 9 > 1604.5 & 11 <= 2.5 & 3 > 0.5, 9 > 1604.5 & 11 > 2.5 & 8 <= 2.5, 9 > 1604.5 & 11 > 2.5 & 8 > 2.5, 13 <= 28.5, 13 > 28.5, 9 <= 1101.0, 9 > 1101.0, 11 > 4.5 & 10 <= 1.5, 11 > 4.5 & 10 > 1.5, 10 <= 1.5, 10 > 1.5, 13 > 17.5 & 0 <= 0.5, 13 > 17.5 & 0 > 0.5 & 9 <= 322.0, 13 > 17.5 & 0 > 0.5 & 9 > 322.0, 9 <= 203.5, 9 > 203.5, 9 <= 480.5, 9 > 480.5 & 0 <= 0.5, 9 > 480.5 & 0 > 0.5 & 5 <= 1.5, 9 > 480.5 & 0 > 0.5 & 5 > 1.5, 8 <= 0.5 & 9 <= 2427.5 & 11 <= 2.5, 8 <= 0.5 & 9 <= 2427.5 & 11 > 2.5, 8 <= 0.5 & 9 > 2427.5, 8 > 0.5 & 8 <= 2.5 & 16 <= 12.5, 8 > 0.5 & 8 <= 2.5 & 16 > 12.5, 8 > 0.5 & 8 > 2.5 & 9 <= 2746.0, 8 > 0.5 & 8 > 2.5 & 9 > 2746.0 & 2 <= 1.5, 8 > 0.5 & 8 > 2.5 & 9 > 2746.0 & 2 > 1.5, 9 <= 2669.0 & 11 <= 2.5, 9 <= 2669.0 & 11 > 2.5 & 10 <= 0.5, 9 <= 2669.0 & 11 > 2.5 & 10 > 0.5 & 7 <= 32.5, 9 <= 2669.0 & 11 > 2.5 & 10 > 0.5 & 7 > 32.5 & 13 <= 32.5, 9 <= 2669.0 & 11 > 2.5 & 10 > 0.5 & 7 > 32.5 & 13 > 32.5, 9 > 2669.0 & 11 <= 3.5, 9 > 2669.0 & 11 > 3.5, 0 > 0.5 & 9 <= 788.5, 0 > 0.5 & 9 > 788.5, 8 <= 2.5 & 8 > 0.5 & 11 <= 3.5, 8 <= 2.5 & 8 > 0.5 & 11 > 3.5 & 13 <= 24.5, 8 <= 2.5 & 8 > 0.5 & 11 > 3.5 & 13 > 24.5, 8 > 2.5 & 12 <= 2.5, 8 > 2.5 & 12 > 2.5, 5 <= 2.5 & 5 <= 0.5 & 9 <= 2174.0, 5 <= 2.5 & 5 <= 0.5 & 9 > 2174.0, 9 <= 658.0, 9 > 658.0 & 5 <= 2.5 & 5 <= 0.5, 9 > 658.0 & 5 <= 2.5 & 5 > 0.5, 9 > 658.0 & 5 > 2.5, 9 <= 2095.0 & 8 <= 2.5, 9 <= 2095.0 & 8 > 2.5, 9 > 2095.0 & 5 <= 2.5 & 5 <= 0.5, 9 > 2095.0 & 5 <= 2.5 & 5 > 0.5, 9 > 2095.0 & 5 > 2.5, 9 <= 328.5, 9 > 328.5 & 0 <= 0.5, 9 > 328.5 & 0 > 0.5 & 8 <= 2.5 & 8 <= 0.5, 9 > 328.5 & 0 > 0.5 & 8 <= 2.5 & 8 > 0.5, 9 > 328.5 & 0 > 0.5 & 8 > 2.5, 8 <= 0.5, 8 > 0.5 & 8 <= 2.5 & 13 <= 39.5 & 5 <= 3.5, 8 > 0.5 & 8 <= 2.5 & 13 <= 39.5 & 5 > 3.5, 8 > 0.5 & 8 <= 2.5 & 13 > 39.5, 8 > 0.5 & 8 > 2.5 & 5 <= 0.5, 8 > 0.5 & 8 > 2.5 & 5 > 0.5, 9 <= 2283.5, 9 > 2283.5, 3 <= 0.5, 3 > 0.5 & 8 <= 2.5, 3 > 0.5 & 8 > 2.5, 9 <= 2153.5 & 8 <= 2.5, 9 > 2153.5, 13 > 28.5 & 0 <= 0.5, 13 > 28.5 & 0 > 0.5, 8 <= 0.5 & 9 <= 2518.0, 8 <= 0.5 & 9 > 2518.0, 8 > 0.5, 3 > 0.5 & 8 <= 2.5 & 8 <= 0.5, 3 > 0.5 & 8 <= 2.5 & 8 > 0.5, 3 <= 0.5 & 9 <= 2180.5, 3 <= 0.5 & 9 > 2180.5, 3 > 0.5 & 10 <= 1.5 & 5 <= 2.5, 3 > 0.5 & 10 <= 1.5 & 5 > 2.5, 3 > 0.5 & 10 > 1.5, 8 > 0.5 & 5 <= 0.5, 8 > 0.5 & 5 > 0.5 & 5 <= 1.5, 8 > 0.5 & 5 > 0.5 & 5 > 1.5, 9 <= 2197.5, 9 > 2197.5, 13 <= 15.5 & 5 <= 1.5, 13 <= 15.5 & 5 > 1.5, 13 > 15.5 & 11 <= 1.5, 13 > 15.5 & 11 > 1.5 & 5 <= 1.5, 13 > 15.5 & 11 > 1.5 & 5 > 1.5, 5 > 2.5 & 9 <= 1623.0, 5 > 2.5 & 9 > 1623.0, 0 <= 0.5 & 13 <= 29.5, 0 > 0.5 & 5 <= 3.5 & 8 <= 2.5 & 9 <= 2304.5, 0 > 0.5 & 5 <= 3.5 & 8 <= 2.5 & 9 > 2304.5, 0 > 0.5 & 5 > 3.5 & 9 <= 2084.0, 0 > 0.5 & 5 > 3.5 & 9 > 2084.0, 9 <= 2543.5 & 13 <= 29.5 & 16 <= 14.5, 9 <= 2543.5 & 13 <= 29.5 & 16 > 14.5, 9 <= 2543.5 & 13 > 29.5, 9 > 2543.5 & 5 <= 2.5, 9 > 2543.5 & 5 > 2.5, 11 <= 2.5 & 5 <= 3.5, 11 <= 2.5 & 5 > 3.5, 3 > 0.5 & 9 <= 2298.5, 3 > 0.5 & 9 > 2298.5, 13 <= 23.5 & 8 <= 2.5, 13 <= 23.5 & 8 > 2.5, 13 > 23.5, 9 <= 373.0, 9 > 373.0 & 11 <= 4.5 & 5 <= 0.5, 9 > 373.0 & 11 <= 4.5 & 5 > 0.5 & 5 <= 1.5, 9 > 373.0 & 11 <= 4.5 & 5 > 0.5 & 5 > 1.5, 9 > 373.0 & 11 > 4.5, 5 <= 0.5 & 13 <= 7.0, 5 <= 0.5 & 13 > 7.0, 5 > 0.5 & 5 > 1.5 & 9 <= 2331.0, 5 > 0.5 & 5 > 1.5 & 9 > 2331.0, 11 <= 4.5 & 13 <= 41.5, 11 <= 4.5 & 13 > 41.5, 13 <= 38.5, 13 > 38.5 & 0 <= 0.5, 13 > 38.5 & 0 > 0.5, 0 > 0.5 & 9 <= 1617.0, 0 > 0.5 & 9 > 1617.0, 11 <= 4.5 & 8 <= 0.5, 11 <= 4.5 & 8 > 0.5, 11 > 4.5 & 9 <= 2723.5 & 16 <= 11.5 & 10 <= 0.5, 11 > 4.5 & 9 <= 2723.5 & 16 <= 11.5 & 10 > 0.5, 11 > 4.5 & 9 <= 2723.5 & 16 > 11.5, 11 > 4.5 & 9 > 2723.5, 0 > 0.5 & 8 <= 0.5, 0 > 0.5 & 8 > 0.5 & 8 > 2.5, 10 <= 1.5 & 11 <= 3.5, 10 <= 1.5 & 11 > 3.5, 10 > 1.5 & 9 <= 451.5, 10 > 1.5 & 9 > 451.5, 10 <= 2.5 & 11 <= 1.5, 10 <= 2.5 & 11 > 1.5, 10 > 2.5, 13 <= 15.5, 13 > 15.5, 10 <= 2.5 & 8 <= 2.5 & 11 <= 1.5, 10 <= 2.5 & 8 <= 2.5 & 11 > 1.5 & 8 <= 0.5, 10 <= 2.5 & 8 <= 2.5 & 11 > 1.5 & 8 > 0.5, 10 <= 2.5 & 8 > 2.5 & 5 <= 3.5 & 13 <= 45.5, 10 <= 2.5 & 8 > 2.5 & 5 <= 3.5 & 13 > 45.5, 10 <= 2.5 & 8 > 2.5 & 5 > 3.5, 9 > 423.5 & 5 <= 3.5 & 5 > 0.5, 9 <= 504.0, 9 > 504.0, 0 > 0.5 & 9 <= 1538.0, 0 > 0.5 & 9 > 1538.0, 7 <= 217.5, 7 > 217.5, 5 <= 2.5 & 5 > 0.5 & 5 <= 1.5 & 9 <= 1443.0, 5 <= 2.5 & 5 > 0.5 & 5 <= 1.5 & 9 > 1443.0, 5 > 2.5 & 9 <= 616.5, 5 > 2.5 & 9 > 616.5 & 9 <= 2400.5, 5 > 2.5 & 9 > 616.5 & 9 > 2400.5, 3 > 0.5, 9 <= 1666.0, 9 > 1666.0 & 0 <= 0.5, 9 > 1666.0 & 0 > 0.5, 0 > 0.5 & 11 > 3.5, 13 <= 14.5 & 1 <= 1.5 & 16 <= 13.0 & 14 <= 3.5, 13 <= 14.5 & 1 <= 1.5 & 16 <= 13.0 & 14 > 3.5, 13 <= 14.5 & 1 <= 1.5 & 16 > 13.0, 13 <= 14.5 & 1 > 1.5, 13 > 14.5 & 8 <= 0.5 & 5 <= 3.5, 13 > 14.5 & 8 <= 0.5 & 5 > 3.5, 13 > 14.5 & 8 > 0.5 & 8 <= 1.5 & 6 <= 0.5 & 12 <= 20.5, 13 > 14.5 & 8 > 0.5 & 8 <= 1.5 & 6 <= 0.5 & 12 > 20.5, 13 > 14.5 & 8 > 0.5 & 8 <= 1.5 & 6 > 0.5, 13 > 14.5 & 8 > 0.5 & 8 > 1.5 & 9 <= 132.0, 13 > 14.5 & 8 > 0.5 & 8 > 1.5 & 9 > 132.0 & 10 <= 2.5 & 5 <= 2.5 & 7 <= 99.0, 13 > 14.5 & 8 > 0.5 & 8 > 1.5 & 9 > 132.0 & 10 <= 2.5 & 5 <= 2.5 & 7 > 99.0 & 5 <= 0.5, 13 > 14.5 & 8 > 0.5 & 8 > 1.5 & 9 > 132.0 & 10 <= 2.5 & 5 <= 2.5 & 7 > 99.0 & 5 > 0.5, 13 > 14.5 & 8 > 0.5 & 8 > 1.5 & 9 > 132.0 & 10 <= 2.5 & 5 > 2.5 & 9 <= 2512.5, 13 > 14.5 & 8 > 0.5 & 8 > 1.5 & 9 > 132.0 & 10 <= 2.5 & 5 > 2.5 & 9 > 2512.5, 13 > 14.5 & 8 > 0.5 & 8 > 1.5 & 9 > 132.0 & 10 > 2.5, 10 <= 2.5 & 8 <= 2.5, 10 <= 2.5 & 8 > 2.5, 5 <= 1.5 & 5 <= 0.5 & 9 <= 1011.0, 5 <= 1.5 & 5 <= 0.5 & 9 > 1011.0, 5 > 1.5 & 0 > 0.5 & 9 <= 1507.5, 5 > 1.5 & 0 > 0.5 & 9 > 1507.5 & 5 <= 3.5, 5 > 1.5 & 0 > 0.5 & 9 > 1507.5 & 5 > 3.5, 10 <= 1.5 & 9 <= 1631.0, 10 <= 1.5 & 9 > 1631.0, 10 <= 1.5 & 9 <= 2155.5, 10 <= 1.5 & 9 > 2155.5 & 5 <= 1.5, 10 <= 1.5 & 9 > 2155.5 & 5 > 1.5, 13 > 12.5 & 5 <= 1.5 & 5 <= 0.5 & 9 <= 719.0, 13 > 12.5 & 5 <= 1.5 & 5 <= 0.5 & 9 > 719.0, 13 > 12.5 & 5 <= 1.5 & 5 > 0.5, 13 > 12.5 & 5 > 1.5, 13 > 19.5 & 11 <= 4.5 & 0 <= 0.5, 13 > 19.5 & 11 <= 4.5 & 0 > 0.5, 13 > 19.5 & 11 > 4.5, 13 <= 29.5 & 5 <= 1.5 & 5 <= 0.5, 13 <= 29.5 & 5 <= 1.5 & 5 > 0.5, 13 <= 29.5 & 5 > 1.5, 13 > 29.5 & 10 <= 1.5, 13 > 29.5 & 10 > 1.5, 9 <= 2725.5, 9 > 2725.5, 5 > 1.5 & 9 <= 752.0, 5 > 1.5 & 9 > 752.0, 9 <= 2761.5 & 11 <= 2.5, 9 <= 2761.5 & 11 > 2.5 & 10 <= 0.5, 9 <= 2761.5 & 11 > 2.5 & 10 > 0.5, 9 > 2761.5, 11 <= 4.5 & 8 <= 2.5, 8 > 0.5 & 8 <= 2.5 & 5 <= 0.5, 8 > 0.5 & 8 <= 2.5 & 5 > 0.5 & 5 <= 1.5, 8 > 0.5 & 8 <= 2.5 & 5 > 0.5 & 5 > 1.5, 8 > 0.5 & 8 > 2.5, 9 <= 2455.0 & 9 <= 304.0, 9 <= 2455.0 & 9 > 304.0, 9 > 2455.0, 9 <= 2210.5, 9 > 2210.5 & 5 <= 0.5, 9 > 2210.5 & 5 > 0.5, 9 <= 577.5, 9 > 577.5 & 5 <= 0.5, 9 > 577.5 & 5 > 0.5 & 5 <= 1.5, 9 > 577.5 & 5 > 0.5 & 5 > 1.5 & 8 <= 2.5, 9 > 577.5 & 5 > 0.5 & 5 > 1.5 & 8 > 2.5, 5 > 3.5 & 9 <= 1032.5, 5 > 3.5 & 9 > 1032.5, 13 > 28.5 & 11 <= 3.5, 13 > 28.5 & 11 > 3.5 & 10 <= 1.5, 13 > 28.5 & 11 > 3.5 & 10 > 1.5, 13 <= 40.5 & 5 <= 1.5 & 5 <= 0.5, 13 <= 40.5 & 5 <= 1.5 & 5 > 0.5, 13 <= 40.5 & 5 > 1.5, 13 > 40.5, 10 <= 2.5, 9 <= 796.0, 9 > 796.0 & 0 <= 0.5, 9 > 796.0 & 0 > 0.5 & 5 <= 3.5, 9 > 796.0 & 0 > 0.5 & 5 > 3.5, 16 <= 13.5 & 13 <= 17.5, 16 <= 13.5 & 13 > 17.5, 16 > 13.5, 11 <= 1.5, 11 > 1.5, 9 <= 2745.0 & 8 <= 2.5 & 8 <= 0.5, 9 <= 2745.0 & 8 <= 2.5 & 8 > 0.5, 9 <= 2745.0 & 8 > 2.5, 9 > 2745.0, 9 <= 389.5, 9 > 389.5 & 5 <= 2.5, 9 > 389.5 & 5 > 2.5, 10 <= 0.5, 10 > 0.5, 9 <= 328.0, 9 > 328.0, 11 > 2.5 & 10 <= 1.5, 11 > 2.5 & 10 > 1.5 & 13 <= 47.5, 11 > 2.5 & 10 > 1.5 & 13 > 47.5, 9 <= 2260.0, 9 > 2260.0, 13 > 28.5 & 9 <= 2424.5, 13 > 28.5 & 9 > 2424.5, 7 <= 76.5, 7 > 76.5, 11 <= 0.5, 11 > 0.5 & 10 <= 0.5 & 8 <= 2.5, 11 > 0.5 & 10 <= 0.5 & 8 > 2.5, 11 > 0.5 & 10 > 0.5 & 13 <= 7.5, 11 > 0.5 & 10 > 0.5 & 13 > 7.5 & 9 <= 1158.5, 11 > 0.5 & 10 > 0.5 & 13 > 7.5 & 9 > 1158.5 & 5 <= 3.5, 11 > 0.5 & 10 > 0.5 & 13 > 7.5 & 9 > 1158.5 & 5 > 3.5, 9 <= 2436.5 & 13 <= 29.5, 9 <= 2436.5 & 13 > 29.5, 9 > 2436.5 & 5 <= 0.5, 9 > 2436.5 & 5 > 0.5, 13 > 14.5 & 8 <= 2.5 & 8 <= 0.5 & 5 <= 3.5, 13 > 14.5 & 8 <= 2.5 & 8 <= 0.5 & 5 > 3.5, 13 > 14.5 & 8 <= 2.5 & 8 > 0.5 & 9 <= 2037.0, 13 > 14.5 & 8 <= 2.5 & 8 > 0.5 & 9 > 2037.0, 13 > 18.5 & 9 <= 548.0, 13 > 18.5 & 9 > 548.0, 5 > 0.5 & 5 > 1.5 & 9 <= 180.0, 5 > 0.5 & 5 > 1.5 & 9 > 180.0, 9 <= 585.0, 9 > 585.0 & 5 <= 0.5, 9 > 585.0 & 5 > 0.5 & 5 <= 1.5 & 9 <= 1781.5, 9 > 585.0 & 5 > 0.5 & 5 <= 1.5 & 9 > 1781.5, 9 > 585.0 & 5 > 0.5 & 5 > 1.5, 0 > 0.5 & 9 <= 969.0, 0 > 0.5 & 9 > 969.0, 9 <= 1034.0, 9 > 1034.0 & 5 <= 0.5, 9 > 1034.0 & 5 > 0.5 & 5 <= 1.5 & 9 <= 1658.5, 9 > 1034.0 & 5 > 0.5 & 5 <= 1.5 & 9 > 1658.5, 9 > 1034.0 & 5 > 0.5 & 5 > 1.5 & 11 <= 4.5, 9 > 1034.0 & 5 > 0.5 & 5 > 1.5 & 11 > 4.5, 5 > 0.5 & 5 > 3.5 & 9 <= 840.5, 5 > 0.5 & 5 > 3.5 & 9 > 840.5, 13 > 17.5 & 5 > 3.5, 5 <= 3.5 & 0 <= 0.5 & 10 <= 1.5, 5 <= 3.5 & 0 <= 0.5 & 10 > 1.5, 5 <= 3.5 & 0 > 0.5 & 5 <= 0.5, 5 <= 3.5 & 0 > 0.5 & 5 > 0.5, 5 > 3.5 & 9 <= 2429.0 & 0 <= 0.5, 5 > 3.5 & 9 <= 2429.0 & 0 > 0.5, 5 > 3.5 & 9 > 2429.0 & 13 <= 21.5, 5 > 3.5 & 9 > 2429.0 & 13 > 21.5, 9 <= 516.0, 9 > 516.0 & 5 <= 3.5 & 8 <= 0.5, 9 > 516.0 & 5 <= 3.5 & 8 > 0.5, 9 > 516.0 & 5 > 3.5, 8 <= 2.5 & 5 <= 3.5 & 5 <= 0.5, 8 <= 2.5 & 5 <= 3.5 & 5 > 0.5 & 5 <= 1.5 & 9 <= 1491.5, 8 <= 2.5 & 5 <= 3.5 & 5 > 0.5 & 5 <= 1.5 & 9 > 1491.5, 8 <= 2.5 & 5 <= 3.5 & 5 > 0.5 & 5 > 1.5, 0 > 0.5 & 5 > 3.5 & 9 <= 742.5, 0 > 0.5 & 5 > 3.5 & 9 > 742.5, 5 > 3.5 & 13 <= 16.5, 5 > 3.5 & 13 > 16.5, 0 > 0.5 & 9 <= 2057.0, 0 > 0.5 & 9 > 2057.0, 5 <= 1.5 & 5 <= 0.5 & 9 <= 1197.5, 5 <= 1.5 & 5 <= 0.5 & 9 > 1197.5, 5 > 1.5 & 9 <= 1398.0, 5 > 1.5 & 9 > 1398.0, 10 <= 1.5 & 8 <= 2.5, 10 <= 1.5 & 8 > 2.5, 11 <= 3.5 & 13 <= 26.5, 11 <= 3.5 & 13 > 26.5 & 14 <= 13.5, 11 <= 3.5 & 13 > 26.5 & 14 > 13.5, 11 > 3.5 & 10 <= 1.5 & 0 <= 0.5 & 5 <= 0.5, 11 > 3.5 & 10 <= 1.5 & 0 <= 0.5 & 5 > 0.5, 11 > 3.5 & 10 <= 1.5 & 0 > 0.5 & 9 <= 2672.5, 11 > 3.5 & 10 <= 1.5 & 0 > 0.5 & 9 > 2672.5, 11 > 3.5 & 10 > 1.5 & 9 <= 2605.5, 11 > 3.5 & 10 > 1.5 & 9 > 2605.5, 13 <= 39.5 & 9 <= 465.0, 13 <= 39.5 & 9 > 465.0 & 7 <= 179.5, 13 <= 39.5 & 9 > 465.0 & 7 > 179.5, 13 > 39.5 & 3 <= 0.5, 13 > 39.5 & 3 > 0.5, 11 <= 4.5 & 13 <= 18.5, 11 <= 4.5 & 13 > 18.5 & 3 <= 0.5, 11 <= 4.5 & 13 > 18.5 & 3 > 0.5, 11 > 4.5 & 0 <= 0.5 & 9 <= 2312.0, 11 > 4.5 & 0 <= 0.5 & 9 > 2312.0, 11 > 4.5 & 0 > 0.5, 9 <= 1983.5, 9 > 1983.5, 3 > 0.5 & 5 <= 3.5, 3 > 0.5 & 5 > 3.5, 5 > 3.5 & 9 <= 1369.0, 5 > 3.5 & 9 > 1369.0, 13 <= 11.5, 13 > 11.5 & 5 <= 2.5 & 5 <= 0.5, 13 > 11.5 & 5 <= 2.5 & 5 > 0.5, 13 > 11.5 & 5 > 2.5 & 9 <= 700.5, 13 > 11.5 & 5 > 2.5 & 9 > 700.5, 11 <= 3.5 & 5 <= 3.5, 11 <= 3.5 & 5 > 3.5, 11 > 3.5 & 13 <= 8.5, 11 > 3.5 & 13 > 8.5, 8 <= 2.5 & 5 <= 0.5 & 9 <= 925.5, 8 <= 2.5 & 5 <= 0.5 & 9 > 925.5, 8 <= 2.5 & 5 > 0.5 & 5 <= 1.5 & 9 <= 1648.5, 8 <= 2.5 & 5 > 0.5 & 5 <= 1.5 & 9 > 1648.5, 8 <= 2.5 & 5 > 0.5 & 5 > 1.5 & 9 <= 256.0, 8 <= 2.5 & 5 > 0.5 & 5 > 1.5 & 9 > 256.0, 8 > 2.5 & 9 <= 2499.5 & 13 <= 12.5, 8 > 2.5 & 9 <= 2499.5 & 13 > 12.5, 8 > 2.5 & 9 > 2499.5 & 1 <= 2.5, 8 > 2.5 & 9 > 2499.5 & 1 > 2.5, 9 <= 285.5, 9 > 285.5, 13 <= 17.5 & 7 <= 162.5, 13 <= 17.5 & 7 > 162.5, 5 > 2.5 & 9 <= 2665.0, 5 > 2.5 & 9 > 2665.0, 5 <= 3.5 & 13 > 17.5 & 5 <= 0.5, 5 <= 3.5 & 13 > 17.5 & 5 > 0.5 & 5 <= 1.5 & 9 <= 1096.0, 5 <= 3.5 & 13 > 17.5 & 5 > 0.5 & 5 <= 1.5 & 9 > 1096.0, 5 <= 3.5 & 13 > 17.5 & 5 > 0.5 & 5 > 1.5, 5 > 3.5 & 9 <= 2764.0, 5 > 3.5 & 9 > 2764.0, 9 <= 1611.5 & 13 <= 36.5 & 10 <= 1.5, 9 <= 1611.5 & 13 <= 36.5 & 10 > 1.5 & 16 <= 0.5, 9 <= 1611.5 & 13 <= 36.5 & 10 > 1.5 & 16 > 0.5, 9 <= 1611.5 & 13 > 36.5, 9 > 1611.5 & 8 <= 2.5 & 5 <= 2.5 & 5 <= 0.5, 9 > 1611.5 & 8 <= 2.5 & 5 <= 2.5 & 5 > 0.5 & 5 <= 1.5, 9 > 1611.5 & 8 <= 2.5 & 5 <= 2.5 & 5 > 0.5 & 5 > 1.5, 9 > 1611.5 & 8 <= 2.5 & 5 > 2.5, 9 > 1611.5 & 8 > 2.5 & 11 <= 4.5, 9 > 1611.5 & 8 > 2.5 & 11 > 4.5 & 12 <= 17.5, 9 > 1611.5 & 8 > 2.5 & 11 > 4.5 & 12 > 17.5 & 3 <= 1.0, 9 > 1611.5 & 8 > 2.5 & 11 > 4.5 & 12 > 17.5 & 3 > 1.0, 13 <= 32.5, 13 > 32.5, 11 > 2.5 & 5 > 3.5, 8 <= 2.5 & 8 > 0.5 & 5 <= 1.5, 8 <= 2.5 & 8 > 0.5 & 5 > 1.5, 8 > 2.5 & 7 > 134.0, 0 > 0.5 & 3 <= 0.5, 0 > 0.5 & 3 > 0.5, 13 > 17.5 & 9 <= 2763.5 & 11 <= 3.5 & 1 <= 0.5, 13 > 17.5 & 9 <= 2763.5 & 11 <= 3.5 & 1 > 0.5 & 16 <= 12.5, 13 > 17.5 & 9 <= 2763.5 & 11 <= 3.5 & 1 > 0.5 & 16 > 12.5, 13 > 17.5 & 9 <= 2763.5 & 11 > 3.5, 13 > 17.5 & 9 > 2763.5 & 13 <= 23.5, 13 > 17.5 & 9 > 2763.5 & 13 > 23.5, 0 > 0.5 & 6 <= 0.5, 0 > 0.5 & 6 > 0.5, 13 > 12.5 & 11 <= 3.5, 13 > 12.5 & 11 > 3.5 & 7 <= 213.0, 13 > 12.5 & 11 > 3.5 & 7 > 213.0, 8 > 2.5 & 9 <= 1759.5, 8 > 2.5 & 9 > 1759.5, 8 > 2.5 & 9 <= 2747.5, 8 > 2.5 & 9 > 2747.5, 8 > 2.5 & 9 <= 1301.5, 8 > 2.5 & 9 > 1301.5 & 0 <= 0.5, 8 > 2.5 & 9 > 1301.5 & 0 > 0.5, 5 <= 3.5 & 8 <= 2.5 & 3 <= 0.5, 5 <= 3.5 & 8 <= 2.5 & 3 > 0.5, 9 <= 2596.0 & 10 <= 1.5 & 8 <= 2.5, 9 <= 2596.0 & 10 <= 1.5 & 8 > 2.5, 9 <= 2596.0 & 10 > 1.5, 9 > 2596.0, 10 <= 2.5 & 8 <= 2.5 & 8 <= 0.5, 10 <= 2.5 & 8 <= 2.5 & 8 > 0.5, 10 <= 2.5 & 8 > 2.5 & 11 <= 3.5, 10 <= 2.5 & 8 > 2.5 & 11 > 3.5, 0 > 0.5 & 9 <= 1210.0, 0 > 0.5 & 9 > 1210.0 & 5 <= 1.5, 0 > 0.5 & 9 > 1210.0 & 5 > 1.5, 9 <= 340.0, 9 > 340.0, 13 <= 26.5, 13 > 26.5, 9 <= 2353.0, 9 > 2353.0, 9 <= 2071.5, 9 > 2071.5, 5 > 2.5 & 9 <= 1382.0, 5 > 2.5 & 9 > 1382.0, 9 <= 517.5, 9 > 517.5, 0 > 0.5 & 16 <= 13.5, 0 > 0.5 & 16 > 13.5, 11 > 1.5 & 10 <= 2.5 & 7 <= 18.5, 11 > 1.5 & 10 <= 2.5 & 7 > 18.5 & 16 <= 11.5, 11 > 1.5 & 10 <= 2.5 & 7 > 18.5 & 16 > 11.5, 11 > 1.5 & 10 > 2.5, 5 > 0.5 & 5 > 1.5, 13 <= 23.5, 9 <= 200.5, 9 > 200.5 & 0 <= 0.5, 9 > 200.5 & 0 > 0.5 & 8 <= 2.5, 9 > 200.5 & 0 > 0.5 & 8 > 2.5, 0 > 0.5 & 9 <= 2036.5, 0 > 0.5 & 9 > 2036.5, 7 <= 53.5, 7 > 53.5 & 9 <= 283.0, 7 > 53.5 & 9 > 283.0 & 5 <= 2.5, 7 > 53.5 & 9 > 283.0 & 5 > 2.5, 10 <= 1.5 & 0 > 0.5, 11 <= 1.5 & 7 <= 69.5, 11 <= 1.5 & 7 > 69.5, 11 > 1.5 & 5 <= 0.5, 11 > 1.5 & 5 > 0.5 & 5 <= 2.5, 11 > 1.5 & 5 > 0.5 & 5 > 2.5 & 9 <= 1557.0, 11 > 1.5 & 5 > 0.5 & 5 > 2.5 & 9 > 1557.0, 9 <= 2661.0, 9 > 2661.0, 8 <= 0.5 & 1 <= 0.5, 8 <= 0.5 & 1 > 0.5, 8 > 0.5 & 8 <= 1.5 & 1 <= 0.5, 8 > 0.5 & 8 <= 1.5 & 1 > 0.5, 8 > 0.5 & 8 > 1.5 & 10 <= 2.5 & 9 <= 889.5, 8 > 0.5 & 8 > 1.5 & 10 <= 2.5 & 9 > 889.5 & 11 <= 2.5, 8 > 0.5 & 8 > 1.5 & 10 <= 2.5 & 9 > 889.5 & 11 > 2.5, 8 > 0.5 & 8 > 1.5 & 10 > 2.5, 13 > 18.5 & 9 <= 2788.0, 13 > 18.5 & 9 > 2788.0, 13 > 16.5 & 8 <= 2.5, 13 > 16.5 & 8 > 2.5, 8 > 2.5 & 0 <= 0.5 & 10 <= 0.5, 8 > 2.5 & 0 <= 0.5 & 10 > 0.5, 8 > 2.5 & 0 > 0.5 & 9 <= 2143.0, 8 > 2.5 & 0 > 0.5 & 9 > 2143.0, 0 > 0.5 & 13 <= 41.5 & 8 <= 2.5, 0 > 0.5 & 13 <= 41.5 & 8 > 2.5, 0 > 0.5 & 13 > 41.5, 11 <= 3.5 & 5 <= 2.5, 11 <= 3.5 & 5 > 2.5, 11 > 3.5 & 10 <= 2.5, 11 > 3.5 & 10 > 2.5, 5 > 2.5 & 11 <= 5.5, 5 > 2.5 & 11 > 5.5, 9 <= 2516.0 & 8 <= 0.5, 9 <= 2516.0 & 8 > 0.5, 9 > 2516.0, 11 > 0.5 & 10 <= 1.5 & 13 <= 12.5, 11 > 0.5 & 10 <= 1.5 & 13 > 12.5, 11 > 0.5 & 10 > 1.5, 9 <= 1135.5 & 8 <= 0.5, 9 <= 1135.5 & 8 > 0.5, 9 > 1135.5 & 5 <= 0.5, 9 > 1135.5 & 5 > 0.5 & 5 <= 1.5, 9 > 1135.5 & 5 > 0.5 & 5 > 1.5 & 0 <= 0.5, 9 > 1135.5 & 5 > 0.5 & 5 > 1.5 & 0 > 0.5, 9 <= 2080.5, 9 > 2080.5, 9 <= 481.5, 9 > 481.5, 9 <= 2705.5 & 7 <= 162.0 & 13 <= 20.5, 9 <= 2705.5 & 7 <= 162.0 & 13 > 20.5, 9 <= 2705.5 & 7 > 162.0, 9 > 2705.5, 13 <= 30.5, 13 > 30.5 & 11 <= 3.5, 13 > 30.5 & 11 > 3.5 & 16 <= 13.5, 13 > 30.5 & 11 > 3.5 & 16 > 13.5, 0 <= 0.5 & 16 <= 14.5, 0 <= 0.5 & 16 > 14.5, 0 > 0.5 & 8 > 2.5 & 9 <= 2739.5, 0 > 0.5 & 8 > 2.5 & 9 > 2739.5, 14 <= 3.5, 14 > 3.5 & 5 <= 3.5, 14 > 3.5 & 5 > 3.5, 9 <= 2684.5 & 0 <= 0.5 & 13 <= 13.5, 9 <= 2684.5 & 0 <= 0.5 & 13 > 13.5, 9 <= 2684.5 & 0 > 0.5, 9 > 2684.5, 9 <= 2632.5, 9 > 2632.5, 5 <= 2.5 & 5 <= 0.5 & 6 <= 0.5, 5 <= 2.5 & 5 <= 0.5 & 6 > 0.5, 5 <= 2.5 & 5 > 0.5 & 5 <= 1.5 & 9 <= 1485.0, 5 <= 2.5 & 5 > 0.5 & 5 <= 1.5 & 9 > 1485.0, 5 > 2.5 & 9 <= 1185.5, 5 > 2.5 & 9 > 1185.5 & 8 <= 0.5, 5 > 2.5 & 9 > 1185.5 & 8 > 0.5 & 8 <= 2.5, 5 > 2.5 & 9 > 1185.5 & 8 > 0.5 & 8 > 2.5]\n"
     ]
    }
   ],
   "source": [
    "\n",
    "re = RuleEnsemble(rf.tree_generator)\n",
    "\n",
    "rules = re.rules\n",
    "#rlf.extract_rules_from_tree(rf.tree_generator)\n",
    "#rules = rules[rules.coef != 0].sort_values(\"support\", ascending=False)\n",
    "\n",
    "print(rules)"
   ]
  }
 ],
 "metadata": {
  "kernelspec": {
   "display_name": "uu_courses",
   "language": "python",
   "name": "python3"
  },
  "language_info": {
   "codemirror_mode": {
    "name": "ipython",
    "version": 3
   },
   "file_extension": ".py",
   "mimetype": "text/x-python",
   "name": "python",
   "nbconvert_exporter": "python",
   "pygments_lexer": "ipython3",
   "version": "3.11.5"
  }
 },
 "nbformat": 4,
 "nbformat_minor": 2
}
