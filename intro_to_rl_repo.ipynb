{
 "cells": [
  {
   "cell_type": "code",
   "execution_count": 10,
   "metadata": {},
   "outputs": [
    {
     "name": "stdout",
     "output_type": "stream",
     "text": [
      "Collecting git+https://github.com/christophM/rulefit.git\n",
      "  Cloning https://github.com/christophM/rulefit.git to /tmp/pip-req-build-cszzc31n\n",
      "  Running command git clone --filter=blob:none --quiet https://github.com/christophM/rulefit.git /tmp/pip-req-build-cszzc31n\n",
      "  Resolved https://github.com/christophM/rulefit.git to commit 472b8574b4eb9e565caf1e05ed580998fe2c9a8e\n",
      "  Preparing metadata (setup.py) ... \u001b[?25ldone\n",
      "\u001b[?25hRequirement already satisfied: scikit-learn>=0.20.2 in /home/robin/anaconda3/envs/uu_courses/lib/python3.11/site-packages (from RuleFit==0.3) (1.2.2)\n",
      "Requirement already satisfied: numpy>=1.16.1 in /home/robin/anaconda3/envs/uu_courses/lib/python3.11/site-packages (from RuleFit==0.3) (1.23.5)\n",
      "Requirement already satisfied: pandas>=0.24.1 in /home/robin/anaconda3/envs/uu_courses/lib/python3.11/site-packages (from RuleFit==0.3) (2.0.3)\n",
      "Requirement already satisfied: ordered-set>=4.1.0 in /home/robin/anaconda3/envs/uu_courses/lib/python3.11/site-packages (from RuleFit==0.3) (4.1.0)\n",
      "Requirement already satisfied: python-dateutil>=2.8.2 in /home/robin/anaconda3/envs/uu_courses/lib/python3.11/site-packages (from pandas>=0.24.1->RuleFit==0.3) (2.8.2)\n",
      "Requirement already satisfied: pytz>=2020.1 in /home/robin/anaconda3/envs/uu_courses/lib/python3.11/site-packages (from pandas>=0.24.1->RuleFit==0.3) (2022.7)\n",
      "Requirement already satisfied: tzdata>=2022.1 in /home/robin/anaconda3/envs/uu_courses/lib/python3.11/site-packages (from pandas>=0.24.1->RuleFit==0.3) (2023.3)\n",
      "Requirement already satisfied: scipy>=1.3.2 in /home/robin/anaconda3/envs/uu_courses/lib/python3.11/site-packages (from scikit-learn>=0.20.2->RuleFit==0.3) (1.11.1)\n",
      "Requirement already satisfied: joblib>=1.1.1 in /home/robin/anaconda3/envs/uu_courses/lib/python3.11/site-packages (from scikit-learn>=0.20.2->RuleFit==0.3) (1.2.0)\n",
      "Requirement already satisfied: threadpoolctl>=2.0.0 in /home/robin/anaconda3/envs/uu_courses/lib/python3.11/site-packages (from scikit-learn>=0.20.2->RuleFit==0.3) (2.2.0)\n",
      "Requirement already satisfied: six>=1.5 in /home/robin/anaconda3/envs/uu_courses/lib/python3.11/site-packages (from python-dateutil>=2.8.2->pandas>=0.24.1->RuleFit==0.3) (1.16.0)\n"
     ]
    }
   ],
   "source": [
    "!pip install git+https://github.com/christophM/rulefit.git"
   ]
  },
  {
   "cell_type": "code",
   "execution_count": 11,
   "metadata": {},
   "outputs": [],
   "source": [
    "import numpy as np\n",
    "import pandas as pd\n",
    "\n",
    "from rulefit import RuleFit, RuleEnsemble\n",
    "\n",
    "from sklearn.preprocessing import LabelEncoder\n",
    "\n"
   ]
  },
  {
   "cell_type": "code",
   "execution_count": 12,
   "metadata": {},
   "outputs": [
    {
     "data": {
      "text/html": [
       "<div>\n",
       "<style scoped>\n",
       "    .dataframe tbody tr th:only-of-type {\n",
       "        vertical-align: middle;\n",
       "    }\n",
       "\n",
       "    .dataframe tbody tr th {\n",
       "        vertical-align: top;\n",
       "    }\n",
       "\n",
       "    .dataframe thead th {\n",
       "        text-align: right;\n",
       "    }\n",
       "</style>\n",
       "<table border=\"1\" class=\"dataframe\">\n",
       "  <thead>\n",
       "    <tr style=\"text-align: right;\">\n",
       "      <th></th>\n",
       "      <th>Sex</th>\n",
       "      <th>Diet</th>\n",
       "      <th>How Often Shower</th>\n",
       "      <th>Heating Energy Source</th>\n",
       "      <th>Transport</th>\n",
       "      <th>Vehicle Type</th>\n",
       "      <th>Social Activity</th>\n",
       "      <th>Monthly Grocery Bill</th>\n",
       "      <th>Frequency of Traveling by Air</th>\n",
       "      <th>Vehicle Monthly Distance Km</th>\n",
       "      <th>Waste Bag Size</th>\n",
       "      <th>Waste Bag Weekly Count</th>\n",
       "      <th>How Long TV PC Daily Hour</th>\n",
       "      <th>How Many New Clothes Monthly</th>\n",
       "      <th>How Long Internet Daily Hour</th>\n",
       "      <th>Energy efficiency</th>\n",
       "      <th>Recycling</th>\n",
       "      <th>Cooking_With</th>\n",
       "      <th>CarbonEmission</th>\n",
       "    </tr>\n",
       "    <tr>\n",
       "      <th>Body Type</th>\n",
       "      <th></th>\n",
       "      <th></th>\n",
       "      <th></th>\n",
       "      <th></th>\n",
       "      <th></th>\n",
       "      <th></th>\n",
       "      <th></th>\n",
       "      <th></th>\n",
       "      <th></th>\n",
       "      <th></th>\n",
       "      <th></th>\n",
       "      <th></th>\n",
       "      <th></th>\n",
       "      <th></th>\n",
       "      <th></th>\n",
       "      <th></th>\n",
       "      <th></th>\n",
       "      <th></th>\n",
       "      <th></th>\n",
       "    </tr>\n",
       "  </thead>\n",
       "  <tbody>\n",
       "    <tr>\n",
       "      <th>overweight</th>\n",
       "      <td>female</td>\n",
       "      <td>pescatarian</td>\n",
       "      <td>daily</td>\n",
       "      <td>coal</td>\n",
       "      <td>public</td>\n",
       "      <td>NaN</td>\n",
       "      <td>often</td>\n",
       "      <td>230</td>\n",
       "      <td>frequently</td>\n",
       "      <td>210</td>\n",
       "      <td>large</td>\n",
       "      <td>4</td>\n",
       "      <td>7</td>\n",
       "      <td>26</td>\n",
       "      <td>1</td>\n",
       "      <td>No</td>\n",
       "      <td>['Metal']</td>\n",
       "      <td>['Stove', 'Oven']</td>\n",
       "      <td>2238</td>\n",
       "    </tr>\n",
       "    <tr>\n",
       "      <th>obese</th>\n",
       "      <td>female</td>\n",
       "      <td>vegetarian</td>\n",
       "      <td>less frequently</td>\n",
       "      <td>natural gas</td>\n",
       "      <td>walk/bicycle</td>\n",
       "      <td>NaN</td>\n",
       "      <td>often</td>\n",
       "      <td>114</td>\n",
       "      <td>rarely</td>\n",
       "      <td>9</td>\n",
       "      <td>extra large</td>\n",
       "      <td>3</td>\n",
       "      <td>9</td>\n",
       "      <td>38</td>\n",
       "      <td>5</td>\n",
       "      <td>No</td>\n",
       "      <td>['Metal']</td>\n",
       "      <td>['Stove', 'Microwave']</td>\n",
       "      <td>1892</td>\n",
       "    </tr>\n",
       "    <tr>\n",
       "      <th>overweight</th>\n",
       "      <td>male</td>\n",
       "      <td>omnivore</td>\n",
       "      <td>more frequently</td>\n",
       "      <td>wood</td>\n",
       "      <td>private</td>\n",
       "      <td>petrol</td>\n",
       "      <td>never</td>\n",
       "      <td>138</td>\n",
       "      <td>never</td>\n",
       "      <td>2472</td>\n",
       "      <td>small</td>\n",
       "      <td>1</td>\n",
       "      <td>14</td>\n",
       "      <td>47</td>\n",
       "      <td>6</td>\n",
       "      <td>Sometimes</td>\n",
       "      <td>['Metal']</td>\n",
       "      <td>['Oven', 'Microwave']</td>\n",
       "      <td>2595</td>\n",
       "    </tr>\n",
       "    <tr>\n",
       "      <th>overweight</th>\n",
       "      <td>male</td>\n",
       "      <td>omnivore</td>\n",
       "      <td>twice a day</td>\n",
       "      <td>wood</td>\n",
       "      <td>walk/bicycle</td>\n",
       "      <td>NaN</td>\n",
       "      <td>sometimes</td>\n",
       "      <td>157</td>\n",
       "      <td>rarely</td>\n",
       "      <td>74</td>\n",
       "      <td>medium</td>\n",
       "      <td>3</td>\n",
       "      <td>20</td>\n",
       "      <td>5</td>\n",
       "      <td>7</td>\n",
       "      <td>Sometimes</td>\n",
       "      <td>['Paper', 'Plastic', 'Glass', 'Metal']</td>\n",
       "      <td>['Microwave', 'Grill', 'Airfryer']</td>\n",
       "      <td>1074</td>\n",
       "    </tr>\n",
       "    <tr>\n",
       "      <th>obese</th>\n",
       "      <td>female</td>\n",
       "      <td>vegetarian</td>\n",
       "      <td>daily</td>\n",
       "      <td>coal</td>\n",
       "      <td>private</td>\n",
       "      <td>diesel</td>\n",
       "      <td>often</td>\n",
       "      <td>266</td>\n",
       "      <td>very frequently</td>\n",
       "      <td>8457</td>\n",
       "      <td>large</td>\n",
       "      <td>1</td>\n",
       "      <td>3</td>\n",
       "      <td>5</td>\n",
       "      <td>6</td>\n",
       "      <td>Yes</td>\n",
       "      <td>['Paper']</td>\n",
       "      <td>['Oven']</td>\n",
       "      <td>4743</td>\n",
       "    </tr>\n",
       "  </tbody>\n",
       "</table>\n",
       "</div>"
      ],
      "text/plain": [
       "               Sex         Diet How Often Shower Heating Energy Source  \\\n",
       "Body Type                                                                \n",
       "overweight  female  pescatarian            daily                  coal   \n",
       "obese       female   vegetarian  less frequently           natural gas   \n",
       "overweight    male     omnivore  more frequently                  wood   \n",
       "overweight    male     omnivore      twice a day                  wood   \n",
       "obese       female   vegetarian            daily                  coal   \n",
       "\n",
       "               Transport Vehicle Type Social Activity  Monthly Grocery Bill  \\\n",
       "Body Type                                                                     \n",
       "overweight        public          NaN           often                   230   \n",
       "obese       walk/bicycle          NaN           often                   114   \n",
       "overweight       private       petrol           never                   138   \n",
       "overweight  walk/bicycle          NaN       sometimes                   157   \n",
       "obese            private       diesel           often                   266   \n",
       "\n",
       "           Frequency of Traveling by Air  Vehicle Monthly Distance Km  \\\n",
       "Body Type                                                               \n",
       "overweight                    frequently                          210   \n",
       "obese                             rarely                            9   \n",
       "overweight                         never                         2472   \n",
       "overweight                        rarely                           74   \n",
       "obese                    very frequently                         8457   \n",
       "\n",
       "           Waste Bag Size  Waste Bag Weekly Count  How Long TV PC Daily Hour  \\\n",
       "Body Type                                                                      \n",
       "overweight          large                       4                          7   \n",
       "obese         extra large                       3                          9   \n",
       "overweight          small                       1                         14   \n",
       "overweight         medium                       3                         20   \n",
       "obese               large                       1                          3   \n",
       "\n",
       "            How Many New Clothes Monthly  How Long Internet Daily Hour  \\\n",
       "Body Type                                                                \n",
       "overweight                            26                             1   \n",
       "obese                                 38                             5   \n",
       "overweight                            47                             6   \n",
       "overweight                             5                             7   \n",
       "obese                                  5                             6   \n",
       "\n",
       "           Energy efficiency                               Recycling  \\\n",
       "Body Type                                                              \n",
       "overweight                No                               ['Metal']   \n",
       "obese                     No                               ['Metal']   \n",
       "overweight         Sometimes                               ['Metal']   \n",
       "overweight         Sometimes  ['Paper', 'Plastic', 'Glass', 'Metal']   \n",
       "obese                    Yes                               ['Paper']   \n",
       "\n",
       "                                  Cooking_With  CarbonEmission  \n",
       "Body Type                                                       \n",
       "overweight                   ['Stove', 'Oven']            2238  \n",
       "obese                   ['Stove', 'Microwave']            1892  \n",
       "overweight               ['Oven', 'Microwave']            2595  \n",
       "overweight  ['Microwave', 'Grill', 'Airfryer']            1074  \n",
       "obese                                 ['Oven']            4743  "
      ]
     },
     "execution_count": 12,
     "metadata": {},
     "output_type": "execute_result"
    }
   ],
   "source": [
    "\n",
    "carbon_data = pd.read_csv(\"res/carbon_emissions.csv\", index_col=0)\n",
    "carbon_data.head()"
   ]
  },
  {
   "cell_type": "code",
   "execution_count": 13,
   "metadata": {},
   "outputs": [],
   "source": [
    "def get_encoded(label, data, encoder):\n",
    "    le = LabelEncoder()\n",
    "    le.fit(data[label])\n",
    "    encoder[label] = le\n",
    "    return le.transform(data[label])\n",
    "    "
   ]
  },
  {
   "cell_type": "code",
   "execution_count": 14,
   "metadata": {},
   "outputs": [
    {
     "data": {
      "text/plain": [
       "(10000, 18)"
      ]
     },
     "execution_count": 14,
     "metadata": {},
     "output_type": "execute_result"
    }
   ],
   "source": [
    "# preprocessing of data:\n",
    "#carbon_data = carbon_data.dropna(how='any') # drop Nan Values for now in a way i dont care\n",
    "\n",
    "y = carbon_data.CarbonEmission.values\n",
    "\n",
    "X = carbon_data.drop(\"CarbonEmission\", axis=1)\n",
    "#X = carbon_data[[\"Sex\", \"Diet\"]]\n",
    "features = X.columns\n",
    "encoder_dict = {}\n",
    "for label in X.columns:\n",
    "    if X[label].dtype != \"int\" or X[label].dtype != \"float\":\n",
    "        X[label] = get_encoded(label, X, encoder_dict)\n",
    "\n",
    "\n",
    "X = X.to_numpy()\n",
    "X.shape\n"
   ]
  },
  {
   "cell_type": "code",
   "execution_count": 15,
   "metadata": {},
   "outputs": [
    {
     "name": "stderr",
     "output_type": "stream",
     "text": [
      "/home/robin/anaconda3/envs/uu_courses/lib/python3.11/site-packages/sklearn/linear_model/_coordinate_descent.py:631: ConvergenceWarning: Objective did not converge. You might want to increase the number of iterations, check the scale of the features or consider increasing regularisation. Duality gap: 2.456e+06, tolerance: 1.036e+06\n",
      "  model = cd_fast.enet_coordinate_descent(\n"
     ]
    },
    {
     "data": {
      "text/html": [
       "<style>#sk-container-id-3 {color: black;background-color: white;}#sk-container-id-3 pre{padding: 0;}#sk-container-id-3 div.sk-toggleable {background-color: white;}#sk-container-id-3 label.sk-toggleable__label {cursor: pointer;display: block;width: 100%;margin-bottom: 0;padding: 0.3em;box-sizing: border-box;text-align: center;}#sk-container-id-3 label.sk-toggleable__label-arrow:before {content: \"▸\";float: left;margin-right: 0.25em;color: #696969;}#sk-container-id-3 label.sk-toggleable__label-arrow:hover:before {color: black;}#sk-container-id-3 div.sk-estimator:hover label.sk-toggleable__label-arrow:before {color: black;}#sk-container-id-3 div.sk-toggleable__content {max-height: 0;max-width: 0;overflow: hidden;text-align: left;background-color: #f0f8ff;}#sk-container-id-3 div.sk-toggleable__content pre {margin: 0.2em;color: black;border-radius: 0.25em;background-color: #f0f8ff;}#sk-container-id-3 input.sk-toggleable__control:checked~div.sk-toggleable__content {max-height: 200px;max-width: 100%;overflow: auto;}#sk-container-id-3 input.sk-toggleable__control:checked~label.sk-toggleable__label-arrow:before {content: \"▾\";}#sk-container-id-3 div.sk-estimator input.sk-toggleable__control:checked~label.sk-toggleable__label {background-color: #d4ebff;}#sk-container-id-3 div.sk-label input.sk-toggleable__control:checked~label.sk-toggleable__label {background-color: #d4ebff;}#sk-container-id-3 input.sk-hidden--visually {border: 0;clip: rect(1px 1px 1px 1px);clip: rect(1px, 1px, 1px, 1px);height: 1px;margin: -1px;overflow: hidden;padding: 0;position: absolute;width: 1px;}#sk-container-id-3 div.sk-estimator {font-family: monospace;background-color: #f0f8ff;border: 1px dotted black;border-radius: 0.25em;box-sizing: border-box;margin-bottom: 0.5em;}#sk-container-id-3 div.sk-estimator:hover {background-color: #d4ebff;}#sk-container-id-3 div.sk-parallel-item::after {content: \"\";width: 100%;border-bottom: 1px solid gray;flex-grow: 1;}#sk-container-id-3 div.sk-label:hover label.sk-toggleable__label {background-color: #d4ebff;}#sk-container-id-3 div.sk-serial::before {content: \"\";position: absolute;border-left: 1px solid gray;box-sizing: border-box;top: 0;bottom: 0;left: 50%;z-index: 0;}#sk-container-id-3 div.sk-serial {display: flex;flex-direction: column;align-items: center;background-color: white;padding-right: 0.2em;padding-left: 0.2em;position: relative;}#sk-container-id-3 div.sk-item {position: relative;z-index: 1;}#sk-container-id-3 div.sk-parallel {display: flex;align-items: stretch;justify-content: center;background-color: white;position: relative;}#sk-container-id-3 div.sk-item::before, #sk-container-id-3 div.sk-parallel-item::before {content: \"\";position: absolute;border-left: 1px solid gray;box-sizing: border-box;top: 0;bottom: 0;left: 50%;z-index: -1;}#sk-container-id-3 div.sk-parallel-item {display: flex;flex-direction: column;z-index: 1;position: relative;background-color: white;}#sk-container-id-3 div.sk-parallel-item:first-child::after {align-self: flex-end;width: 50%;}#sk-container-id-3 div.sk-parallel-item:last-child::after {align-self: flex-start;width: 50%;}#sk-container-id-3 div.sk-parallel-item:only-child::after {width: 0;}#sk-container-id-3 div.sk-dashed-wrapped {border: 1px dashed gray;margin: 0 0.4em 0.5em 0.4em;box-sizing: border-box;padding-bottom: 0.4em;background-color: white;}#sk-container-id-3 div.sk-label label {font-family: monospace;font-weight: bold;display: inline-block;line-height: 1.2em;}#sk-container-id-3 div.sk-label-container {text-align: center;}#sk-container-id-3 div.sk-container {/* jupyter's `normalize.less` sets `[hidden] { display: none; }` but bootstrap.min.css set `[hidden] { display: none !important; }` so we also need the `!important` here to be able to override the default hidden behavior on the sphinx rendered scikit-learn.org. See: https://github.com/scikit-learn/scikit-learn/issues/21755 */display: inline-block !important;position: relative;}#sk-container-id-3 div.sk-text-repr-fallback {display: none;}</style><div id=\"sk-container-id-3\" class=\"sk-top-container\"><div class=\"sk-text-repr-fallback\"><pre>RuleFit(max_iter=1000,\n",
       "        tree_generator=GradientBoostingRegressor(learning_rate=0.01,\n",
       "                                                 max_depth=10, max_leaf_nodes=2,\n",
       "                                                 n_estimators=554,\n",
       "                                                 random_state=553))</pre><b>In a Jupyter environment, please rerun this cell to show the HTML representation or trust the notebook. <br />On GitHub, the HTML representation is unable to render, please try loading this page with nbviewer.org.</b></div><div class=\"sk-container\" hidden><div class=\"sk-item sk-dashed-wrapped\"><div class=\"sk-label-container\"><div class=\"sk-label sk-toggleable\"><input class=\"sk-toggleable__control sk-hidden--visually\" id=\"sk-estimator-id-7\" type=\"checkbox\" ><label for=\"sk-estimator-id-7\" class=\"sk-toggleable__label sk-toggleable__label-arrow\">RuleFit</label><div class=\"sk-toggleable__content\"><pre>RuleFit(max_iter=1000,\n",
       "        tree_generator=GradientBoostingRegressor(learning_rate=0.01,\n",
       "                                                 max_depth=10, max_leaf_nodes=2,\n",
       "                                                 n_estimators=554,\n",
       "                                                 random_state=553))</pre></div></div></div><div class=\"sk-parallel\"><div class=\"sk-parallel-item\"><div class=\"sk-item\"><div class=\"sk-label-container\"><div class=\"sk-label sk-toggleable\"><input class=\"sk-toggleable__control sk-hidden--visually\" id=\"sk-estimator-id-8\" type=\"checkbox\" ><label for=\"sk-estimator-id-8\" class=\"sk-toggleable__label sk-toggleable__label-arrow\">tree_generator: GradientBoostingRegressor</label><div class=\"sk-toggleable__content\"><pre>GradientBoostingRegressor(learning_rate=0.01, max_depth=10, max_leaf_nodes=2,\n",
       "                          n_estimators=554, random_state=553)</pre></div></div></div><div class=\"sk-serial\"><div class=\"sk-item\"><div class=\"sk-estimator sk-toggleable\"><input class=\"sk-toggleable__control sk-hidden--visually\" id=\"sk-estimator-id-9\" type=\"checkbox\" ><label for=\"sk-estimator-id-9\" class=\"sk-toggleable__label sk-toggleable__label-arrow\">GradientBoostingRegressor</label><div class=\"sk-toggleable__content\"><pre>GradientBoostingRegressor(learning_rate=0.01, max_depth=10, max_leaf_nodes=2,\n",
       "                          n_estimators=554, random_state=553)</pre></div></div></div></div></div></div></div></div></div></div>"
      ],
      "text/plain": [
       "RuleFit(max_iter=1000,\n",
       "        tree_generator=GradientBoostingRegressor(learning_rate=0.01,\n",
       "                                                 max_depth=10, max_leaf_nodes=2,\n",
       "                                                 n_estimators=554,\n",
       "                                                 random_state=553))"
      ]
     },
     "execution_count": 15,
     "metadata": {},
     "output_type": "execute_result"
    }
   ],
   "source": [
    "from sklearn.ensemble import GradientBoostingRegressor\n",
    "gb = GradientBoostingRegressor(n_estimators=500, max_depth=10, learning_rate=0.01)\n",
    "rf = RuleFit(tree_generator=gb, max_iter=1000)\n",
    "\n",
    "rf.fit(X, y, feature_names=features)"
   ]
  },
  {
   "cell_type": "code",
   "execution_count": 16,
   "metadata": {},
   "outputs": [
    {
     "data": {
      "text/plain": [
       "array([2072.87729873, 1456.24833325, 2301.67931226, ..., 2391.15164361,\n",
       "       4900.86411716, 1154.38923984])"
      ]
     },
     "execution_count": 16,
     "metadata": {},
     "output_type": "execute_result"
    }
   ],
   "source": [
    "rf.predict(X)"
   ]
  },
  {
   "cell_type": "code",
   "execution_count": 17,
   "metadata": {},
   "outputs": [
    {
     "name": "stdout",
     "output_type": "stream",
     "text": [
      "[9 <= 2205.5 & 8 <= 2.5, 9 <= 2205.5 & 8 > 2.5, 9 > 2205.5, 9 <= 2063.5, 9 > 2063.5, 9 <= 2205.5 & 8 <= 2.5 & 8 <= 0.5, 9 <= 2205.5 & 8 <= 2.5 & 8 > 0.5, 9 > 2205.5 & 5 <= 2.5 & 5 <= 0.5, 9 > 2205.5 & 5 <= 2.5 & 5 > 0.5 & 5 <= 1.5, 9 > 2205.5 & 5 <= 2.5 & 5 > 0.5 & 5 > 1.5, 9 > 2205.5 & 5 > 2.5, 9 <= 2205.5, 9 <= 2063.5 & 8 <= 2.5, 9 <= 2063.5 & 8 > 2.5, 9 > 2063.5 & 5 <= 2.5 & 5 <= 0.5, 9 > 2063.5 & 5 <= 2.5 & 5 > 0.5, 9 > 2063.5 & 5 > 2.5, 9 <= 2063.5 & 8 <= 2.5 & 8 <= 0.5, 9 <= 2063.5 & 8 <= 2.5 & 8 > 0.5, 9 <= 2031.5 & 8 <= 2.5, 9 <= 2031.5 & 8 > 2.5, 9 > 2031.5 & 5 <= 2.5 & 5 <= 0.5, 9 > 2031.5 & 5 <= 2.5 & 5 > 0.5, 9 > 2031.5 & 5 > 2.5, 9 <= 2031.5, 9 > 2031.5, 9 <= 2370.5 & 8 <= 2.5 & 8 <= 0.5, 9 <= 2370.5 & 8 <= 2.5 & 8 > 0.5, 9 <= 2370.5 & 8 > 2.5, 9 > 2370.5 & 5 <= 2.5 & 5 <= 0.5, 9 > 2370.5 & 5 <= 2.5 & 5 > 0.5 & 5 <= 1.5, 9 > 2370.5 & 5 <= 2.5 & 5 > 0.5 & 5 > 1.5, 9 > 2370.5 & 5 > 2.5, 9 <= 2031.5 & 8 <= 2.5 & 8 <= 0.5, 9 <= 2031.5 & 8 <= 2.5 & 8 > 0.5, 9 <= 2448.5, 9 > 2448.5, 9 <= 2370.5, 9 > 2370.5, 9 > 2031.5 & 5 > 2.5 & 9 <= 2898.5, 9 > 2031.5 & 5 > 2.5 & 9 > 2898.5, 9 <= 2687.5, 9 > 2687.5, 9 <= 1937.5 & 8 <= 2.5, 9 <= 1937.5 & 8 > 2.5, 9 > 1937.5, 9 <= 2687.5 & 8 <= 2.5, 9 <= 2687.5 & 8 > 2.5, 9 > 2687.5 & 5 <= 2.5, 9 > 2687.5 & 5 > 2.5, 9 <= 2701.5 & 8 <= 2.5 & 8 <= 0.5, 9 <= 2701.5 & 8 <= 2.5 & 8 > 0.5, 9 <= 2701.5 & 8 > 2.5, 9 > 2701.5 & 5 <= 2.5, 9 > 2701.5 & 5 > 2.5, 9 > 1937.5 & 5 <= 2.5 & 5 <= 0.5, 9 > 1937.5 & 5 <= 2.5 & 5 > 0.5, 9 > 1937.5 & 5 > 2.5, 9 <= 2448.5 & 8 <= 2.5, 9 <= 2448.5 & 8 > 2.5, 9 > 2448.5 & 5 <= 2.5, 9 > 2448.5 & 5 > 2.5, 9 <= 2701.5, 9 > 2701.5, 9 <= 1894.5 & 8 <= 2.5 & 8 <= 0.5, 9 <= 1894.5 & 8 <= 2.5 & 8 > 0.5, 9 <= 1894.5 & 8 > 2.5, 9 > 1894.5 & 5 <= 2.5 & 5 <= 0.5, 9 > 1894.5 & 5 <= 2.5 & 5 > 0.5, 9 > 1894.5 & 5 > 2.5, 9 <= 1733.5 & 8 <= 2.5, 9 <= 1733.5 & 8 > 2.5, 9 > 1733.5, 9 <= 2745.5, 9 > 2745.5, 9 <= 1894.5 & 8 <= 2.5, 9 > 1894.5, 9 <= 1733.5, 9 > 2701.5 & 5 <= 2.5 & 5 <= 0.5, 9 > 2701.5 & 5 <= 2.5 & 5 > 0.5, 9 <= 2745.5 & 8 <= 2.5, 9 <= 2745.5 & 8 > 2.5, 9 > 2745.5 & 5 <= 2.5, 9 > 2745.5 & 5 > 2.5, 9 <= 2877.5 & 8 <= 2.5 & 8 <= 0.5, 9 <= 2877.5 & 8 <= 2.5 & 8 > 0.5, 9 <= 2877.5 & 8 > 2.5, 9 > 2877.5 & 5 <= 2.5 & 5 <= 0.5, 9 > 2877.5 & 5 <= 2.5 & 5 > 0.5, 9 > 2877.5 & 5 > 2.5, 9 <= 2877.5 & 8 <= 2.5, 9 > 2877.5 & 5 <= 2.5, 9 > 2877.5, 9 <= 1710.5, 9 > 1710.5, 9 <= 2877.5, 9 <= 2448.5 & 8 <= 2.5 & 8 <= 0.5, 9 <= 2448.5 & 8 <= 2.5 & 8 > 0.5, 9 > 2448.5 & 5 <= 2.5 & 5 <= 0.5, 9 > 2448.5 & 5 <= 2.5 & 5 > 0.5, 9 <= 1710.5 & 8 <= 2.5, 9 <= 1710.5 & 8 > 2.5, 8 <= 2.5 & 9 <= 3098.5 & 8 <= 0.5 & 13 <= 24.5, 8 <= 2.5 & 9 <= 3098.5 & 8 <= 0.5 & 13 > 24.5, 8 <= 2.5 & 9 <= 3098.5 & 8 > 0.5 & 13 <= 26.5, 8 <= 2.5 & 9 <= 3098.5 & 8 > 0.5 & 13 > 26.5, 8 <= 2.5 & 9 > 3098.5 & 5 <= 2.5 & 5 <= 0.5, 8 <= 2.5 & 9 > 3098.5 & 5 <= 2.5 & 5 > 0.5 & 5 <= 1.5, 8 <= 2.5 & 9 > 3098.5 & 5 <= 2.5 & 5 > 0.5 & 5 > 1.5, 8 <= 2.5 & 9 > 3098.5 & 5 > 2.5, 8 > 2.5 & 9 <= 2087.5 & 0 <= 0.5, 8 > 2.5 & 9 <= 2087.5 & 0 > 0.5, 8 > 2.5 & 9 > 2087.5 & 5 <= 2.5 & 5 <= 0.5, 8 > 2.5 & 9 > 2087.5 & 5 <= 2.5 & 5 > 0.5, 8 > 2.5 & 9 > 2087.5 & 5 > 2.5, 8 <= 2.5 & 9 <= 3098.5, 8 <= 2.5 & 9 > 3098.5, 8 > 2.5, 8 <= 2.5 & 9 <= 3098.5 & 8 <= 0.5, 8 <= 2.5 & 9 <= 3098.5 & 8 > 0.5, 8 > 2.5 & 9 > 2205.5, 8 <= 2.5, 9 <= 1710.5 & 8 <= 2.5 & 8 <= 0.5, 9 <= 1710.5 & 8 <= 2.5 & 8 > 0.5, 9 > 1710.5 & 5 <= 2.5 & 5 <= 0.5, 9 > 1710.5 & 5 <= 2.5 & 5 > 0.5, 9 > 1710.5 & 5 > 2.5, 9 > 1710.5 & 5 <= 2.5, 9 <= 1710.5 & 8 <= 2.5 & 8 > 0.5 & 13 <= 26.5, 9 <= 1710.5 & 8 <= 2.5 & 8 > 0.5 & 13 > 26.5, 9 > 1710.5 & 5 <= 2.5 & 5 > 0.5 & 5 <= 1.5, 9 > 1710.5 & 5 <= 2.5 & 5 > 0.5 & 5 > 1.5, 9 > 1710.5 & 5 > 2.5 & 9 <= 2898.5, 9 > 1710.5 & 5 > 2.5 & 9 > 2898.5, 8 > 2.5 & 9 <= 2087.5, 8 > 2.5 & 9 > 2087.5, 9 <= 2446.5 & 8 <= 2.5, 9 <= 2446.5 & 8 > 2.5, 9 > 2446.5, 8 <= 2.5 & 9 > 3098.5 & 5 <= 2.5 & 5 > 0.5, 8 > 2.5 & 9 <= 2211.5, 8 > 2.5 & 9 > 2211.5, 8 > 2.5 & 9 <= 2250.5, 8 > 2.5 & 9 > 2250.5, 9 > 1733.5 & 5 <= 2.5, 9 > 1733.5 & 5 > 2.5, 8 > 2.5 & 9 <= 2356.5, 8 > 2.5 & 9 > 2356.5, 9 <= 2701.5 & 8 <= 2.5, 9 <= 2891.5 & 8 <= 2.5, 9 <= 2891.5 & 8 > 2.5, 9 > 2891.5, 9 <= 2891.5, 9 <= 2469.5 & 8 <= 2.5, 9 <= 2469.5 & 8 > 2.5, 9 > 2469.5 & 5 <= 2.5, 9 > 2469.5 & 5 > 2.5, 8 <= 2.5 & 9 <= 3100.5, 8 <= 2.5 & 9 > 3100.5, 9 <= 2891.5 & 8 <= 2.5 & 8 <= 0.5, 9 <= 2891.5 & 8 <= 2.5 & 8 > 0.5, 9 > 2891.5 & 5 <= 2.5 & 5 <= 0.5, 9 > 2891.5 & 5 <= 2.5 & 5 > 0.5, 9 > 2891.5 & 5 > 2.5, 8 <= 2.5 & 8 <= 0.5, 8 <= 2.5 & 8 > 0.5 & 9 <= 3212.0, 8 <= 2.5 & 8 > 0.5 & 9 > 3212.0, 8 <= 2.5 & 8 > 0.5, 8 > 2.5 & 9 <= 2082.5, 8 > 2.5 & 9 > 2082.5, 9 <= 3201.5, 9 > 3201.5, 9 <= 3201.5 & 8 <= 2.5, 9 <= 3201.5 & 8 > 2.5, 9 <= 3201.5 & 8 <= 2.5 & 8 <= 0.5 & 13 <= 24.5, 9 <= 3201.5 & 8 <= 2.5 & 8 <= 0.5 & 13 > 24.5, 9 <= 3201.5 & 8 <= 2.5 & 8 > 0.5 & 13 <= 24.5 & 11 <= 2.5, 9 <= 3201.5 & 8 <= 2.5 & 8 > 0.5 & 13 <= 24.5 & 11 > 2.5, 9 <= 3201.5 & 8 <= 2.5 & 8 > 0.5 & 13 > 24.5 & 11 <= 3.5, 9 <= 3201.5 & 8 <= 2.5 & 8 > 0.5 & 13 > 24.5 & 11 > 3.5, 9 <= 3201.5 & 8 > 2.5 & 0 <= 0.5, 9 <= 3201.5 & 8 > 2.5 & 0 > 0.5 & 9 <= 1878.5, 9 <= 3201.5 & 8 > 2.5 & 0 > 0.5 & 9 > 1878.5, 9 > 3201.5 & 5 <= 2.5 & 5 <= 0.5, 9 > 3201.5 & 5 <= 2.5 & 5 > 0.5 & 5 <= 1.5, 9 > 3201.5 & 5 <= 2.5 & 5 > 0.5 & 5 > 1.5, 9 > 3201.5 & 5 > 2.5 & 5 <= 3.5, 9 > 3201.5 & 5 > 2.5 & 5 > 3.5, 9 <= 3201.5 & 8 <= 2.5 & 8 <= 0.5, 9 <= 3201.5 & 8 <= 2.5 & 8 > 0.5, 9 <= 2898.5, 9 > 2898.5 & 5 <= 2.5, 9 > 2898.5 & 5 > 2.5, 8 <= 2.5 & 8 <= 0.5 & 9 <= 2974.5, 8 <= 2.5 & 8 <= 0.5 & 9 > 2974.5, 8 <= 2.5 & 8 > 0.5 & 9 > 3212.0 & 5 <= 2.5, 8 <= 2.5 & 8 > 0.5 & 9 > 3212.0 & 5 > 2.5, 9 > 3201.5 & 5 <= 2.5, 9 > 3201.5 & 5 > 2.5, 9 <= 2469.5, 9 <= 1710.5 & 13 <= 27.5, 9 <= 1710.5 & 13 > 27.5, 9 <= 2898.5 & 13 <= 26.5, 9 <= 2898.5 & 13 > 26.5, 9 <= 3201.5 & 13 <= 26.5, 9 <= 3201.5 & 13 > 26.5, 9 > 3201.5 & 5 <= 2.5 & 5 > 0.5, 9 <= 2750.5, 9 > 2750.5 & 5 <= 2.5, 9 > 2750.5 & 5 > 2.5, 9 <= 1733.5 & 13 <= 27.5, 9 <= 1733.5 & 13 > 27.5, 9 > 1733.5 & 5 <= 2.5 & 5 <= 0.5, 9 > 1733.5 & 5 <= 2.5 & 5 > 0.5, 8 <= 2.5 & 8 <= 0.5 & 9 <= 2974.5 & 13 <= 24.5, 8 <= 2.5 & 8 <= 0.5 & 9 <= 2974.5 & 13 > 24.5, 8 <= 2.5 & 8 <= 0.5 & 9 > 2974.5 & 5 <= 3.5, 8 <= 2.5 & 8 <= 0.5 & 9 > 2974.5 & 5 > 3.5, 8 <= 2.5 & 8 > 0.5 & 13 <= 26.5, 8 <= 2.5 & 8 > 0.5 & 13 > 26.5 & 9 <= 3212.0, 8 <= 2.5 & 8 > 0.5 & 13 > 26.5 & 9 > 3212.0, 8 > 2.5 & 9 <= 2356.5 & 0 <= 0.5, 8 > 2.5 & 9 <= 2356.5 & 0 > 0.5, 8 > 2.5 & 9 > 2356.5 & 0 <= 0.5, 8 > 2.5 & 9 > 2356.5 & 0 > 0.5, 9 <= 3201.5 & 13 <= 29.5, 9 <= 3201.5 & 13 > 29.5, 8 <= 2.5 & 8 <= 0.5 & 13 <= 23.5, 8 <= 2.5 & 8 <= 0.5 & 13 > 23.5, 8 <= 2.5 & 8 > 0.5 & 13 > 26.5, 8 <= 2.5 & 8 > 0.5 & 13 <= 19.5, 8 <= 2.5 & 8 > 0.5 & 13 > 19.5, 9 <= 3201.5 & 13 <= 24.5, 9 <= 3201.5 & 13 > 24.5, 9 > 2469.5, 0 <= 0.5, 0 > 0.5, 8 > 2.5 & 9 <= 2739.0, 8 > 2.5 & 9 > 2739.0, 0 <= 0.5 & 13 <= 17.5, 0 <= 0.5 & 13 > 17.5, 0 > 0.5 & 9 <= 2724.0 & 8 <= 2.5, 0 > 0.5 & 9 <= 2724.0 & 8 > 2.5, 0 > 0.5 & 9 > 2724.0 & 5 <= 2.5 & 5 <= 0.5, 0 > 0.5 & 9 > 2724.0 & 5 <= 2.5 & 5 > 0.5, 0 > 0.5 & 9 > 2724.0 & 5 > 2.5, 0 > 0.5 & 9 <= 2724.0 & 13 <= 26.5 & 8 <= 2.5, 0 > 0.5 & 9 <= 2724.0 & 13 <= 26.5 & 8 > 2.5, 0 > 0.5 & 9 <= 2724.0 & 13 > 26.5 & 8 <= 2.5, 0 > 0.5 & 9 <= 2724.0 & 13 > 26.5 & 8 > 2.5, 0 > 0.5 & 9 > 2724.0 & 5 <= 2.5 & 5 > 0.5 & 5 <= 1.5, 0 > 0.5 & 9 > 2724.0 & 5 <= 2.5 & 5 > 0.5 & 5 > 1.5, 8 <= 2.5 & 8 > 0.5 & 13 <= 26.5 & 11 <= 2.5, 8 <= 2.5 & 8 > 0.5 & 13 <= 26.5 & 11 > 2.5, 8 > 2.5 & 9 <= 2082.5 & 0 <= 0.5, 8 > 2.5 & 9 <= 2082.5 & 0 > 0.5, 8 > 2.5 & 9 > 2082.5 & 0 <= 0.5, 8 > 2.5 & 9 > 2082.5 & 0 > 0.5, 9 <= 3201.5 & 13 <= 29.5 & 8 <= 2.5 & 8 <= 0.5, 9 <= 3201.5 & 13 <= 29.5 & 8 <= 2.5 & 8 > 0.5, 9 <= 3201.5 & 13 <= 29.5 & 8 > 2.5, 9 <= 3201.5 & 13 > 29.5 & 0 <= 0.5, 9 <= 3201.5 & 13 > 29.5 & 0 > 0.5 & 8 <= 2.5 & 8 <= 0.5, 9 <= 3201.5 & 13 > 29.5 & 0 > 0.5 & 8 <= 2.5 & 8 > 0.5, 9 <= 3201.5 & 13 > 29.5 & 0 > 0.5 & 8 > 2.5, 9 > 3201.5 & 5 <= 3.5 & 5 <= 0.5, 9 > 3201.5 & 5 <= 3.5 & 5 > 0.5 & 5 <= 1.5, 9 > 3201.5 & 5 <= 3.5 & 5 > 0.5 & 5 > 1.5, 9 > 3201.5 & 5 > 3.5, 0 > 0.5 & 9 <= 2724.0 & 13 <= 26.5, 5 <= 4.5 & 5 <= 2.5 & 5 <= 0.5, 5 <= 4.5 & 5 <= 2.5 & 5 > 0.5, 5 <= 4.5 & 5 > 2.5, 5 > 4.5, 0 > 0.5 & 9 <= 2724.0, 0 > 0.5 & 9 > 2724.0, 13 <= 17.5, 13 > 17.5 & 9 <= 2835.0 & 11 <= 3.5, 13 > 17.5 & 9 <= 2835.0 & 11 > 3.5 & 10 <= 1.5, 13 > 17.5 & 9 <= 2835.0 & 11 > 3.5 & 10 > 1.5, 13 > 17.5 & 9 > 2835.0 & 5 <= 3.5, 13 > 17.5 & 9 > 2835.0 & 5 > 3.5, 8 <= 2.5 & 8 > 0.5 & 11 <= 2.5, 8 <= 2.5 & 8 > 0.5 & 11 > 2.5, 5 <= 4.5 & 5 <= 3.5, 5 <= 4.5 & 5 > 3.5, 13 > 17.5 & 9 <= 2835.0, 8 <= 2.5 & 8 > 0.5 & 11 > 2.5 & 10 <= 1.5, 8 <= 2.5 & 8 > 0.5 & 11 > 2.5 & 10 > 1.5, 13 <= 29.5 & 9 <= 3307.5 & 11 <= 2.5, 13 <= 29.5 & 9 <= 3307.5 & 11 > 2.5, 13 <= 29.5 & 9 > 3307.5 & 5 <= 2.5, 13 <= 29.5 & 9 > 3307.5 & 5 > 2.5, 13 > 29.5 & 0 <= 0.5, 13 > 29.5 & 0 > 0.5, 13 > 17.5, 5 <= 4.5 & 5 <= 2.5 & 5 > 0.5 & 5 <= 1.5, 5 <= 4.5 & 5 <= 2.5 & 5 > 0.5 & 5 > 1.5, 13 <= 29.5 & 9 <= 3307.5, 13 <= 29.5 & 9 > 3307.5, 13 > 29.5, 5 <= 4.5, 13 > 17.5 & 9 <= 2964.5, 13 > 17.5 & 9 > 2964.5 & 5 <= 3.5, 13 > 17.5 & 9 > 2964.5 & 5 > 3.5, 13 <= 29.5 & 9 > 3307.5 & 5 <= 3.5, 13 <= 29.5 & 9 > 3307.5 & 5 > 3.5, 13 <= 17.5 & 11 <= 2.5, 13 <= 17.5 & 11 > 2.5, 13 > 17.5 & 9 <= 2505.5 & 11 <= 3.5, 13 > 17.5 & 9 <= 2505.5 & 11 > 3.5 & 10 <= 1.5, 13 > 17.5 & 9 <= 2505.5 & 11 > 3.5 & 10 > 1.5, 13 > 17.5 & 9 > 2505.5 & 5 <= 3.5 & 5 <= 0.5, 13 > 17.5 & 9 > 2505.5 & 5 <= 3.5 & 5 > 0.5 & 5 <= 1.5, 13 > 17.5 & 9 > 2505.5 & 5 <= 3.5 & 5 > 0.5 & 5 > 1.5, 13 > 17.5 & 9 > 2505.5 & 5 > 3.5, 5 > 4.5 & 11 <= 2.5, 5 > 4.5 & 11 > 2.5, 13 > 17.5 & 9 <= 2964.5 & 11 <= 3.5, 13 > 17.5 & 9 <= 2964.5 & 11 > 3.5 & 10 <= 1.5, 13 > 17.5 & 9 <= 2964.5 & 11 > 3.5 & 10 > 1.5, 4 <= 0.5 & 5 <= 2.5, 4 <= 0.5 & 5 > 2.5, 4 > 0.5, 13 <= 29.5 & 11 <= 2.5, 13 <= 29.5 & 11 > 2.5, 9 <= 3302.5 & 13 <= 24.5 & 11 <= 2.5, 9 <= 3302.5 & 13 <= 24.5 & 11 > 2.5 & 10 <= 1.5, 9 <= 3302.5 & 13 <= 24.5 & 11 > 2.5 & 10 > 1.5, 9 <= 3302.5 & 13 > 24.5 & 0 <= 0.5, 9 <= 3302.5 & 13 > 24.5 & 0 > 0.5, 9 > 3302.5 & 5 <= 3.5, 9 > 3302.5 & 5 > 3.5, 8 <= 2.5 & 8 > 0.5 & 11 <= 2.5 & 3 <= 0.5, 8 <= 2.5 & 8 > 0.5 & 11 <= 2.5 & 3 > 0.5, 8 > 2.5 & 9 <= 1899.5 & 0 <= 0.5, 8 > 2.5 & 9 <= 1899.5 & 0 > 0.5, 8 > 2.5 & 9 > 1899.5 & 0 <= 0.5, 8 > 2.5 & 9 > 1899.5 & 0 > 0.5, 8 > 2.5 & 9 <= 1899.5, 8 > 2.5 & 9 > 1899.5, 9 <= 3302.5, 9 > 3302.5, 11 <= 2.5 & 4 <= 0.5, 11 <= 2.5 & 4 > 0.5, 11 > 2.5 & 10 <= 1.5, 11 > 2.5 & 10 > 1.5, 8 <= 2.5 & 8 > 0.5 & 11 <= 3.5, 8 <= 2.5 & 8 > 0.5 & 11 > 3.5 & 10 <= 1.5, 8 <= 2.5 & 8 > 0.5 & 11 > 3.5 & 10 > 1.5, 13 > 17.5 & 9 <= 3296.5, 13 > 17.5 & 9 > 3296.5, 0 > 0.5 & 9 <= 2203.0, 0 > 0.5 & 9 > 2203.0, 13 <= 29.5 & 11 <= 2.5 & 8 <= 2.5, 13 <= 29.5 & 11 <= 2.5 & 8 > 2.5, 13 <= 29.5 & 11 > 2.5 & 10 <= 1.5, 13 <= 29.5 & 11 > 2.5 & 10 > 1.5 & 9 <= 3302.5, 13 <= 29.5 & 11 > 2.5 & 10 > 1.5 & 9 > 3302.5, 13 > 29.5 & 0 > 0.5 & 9 <= 2440.5, 13 > 29.5 & 0 > 0.5 & 9 > 2440.5 & 5 <= 2.5 & 5 <= 0.5, 13 > 29.5 & 0 > 0.5 & 9 > 2440.5 & 5 <= 2.5 & 5 > 0.5 & 5 <= 1.5, 13 > 29.5 & 0 > 0.5 & 9 > 2440.5 & 5 <= 2.5 & 5 > 0.5 & 5 > 1.5, 13 > 29.5 & 0 > 0.5 & 9 > 2440.5 & 5 > 2.5, 13 > 17.5 & 8 <= 2.5 & 8 <= 0.5, 13 > 17.5 & 8 <= 2.5 & 8 > 0.5, 13 > 17.5 & 8 > 2.5, 11 <= 2.5 & 4 <= 0.5 & 5 <= 3.5 & 5 <= 0.5, 11 <= 2.5 & 4 <= 0.5 & 5 <= 3.5 & 5 > 0.5 & 5 <= 1.5, 11 <= 2.5 & 4 <= 0.5 & 5 <= 3.5 & 5 > 0.5 & 5 > 1.5, 11 <= 2.5 & 4 <= 0.5 & 5 > 3.5, 11 > 2.5 & 10 <= 1.5 & 0 <= 0.5, 11 > 2.5 & 10 <= 1.5 & 0 > 0.5, 11 > 2.5 & 10 > 1.5 & 9 <= 3027.0, 11 > 2.5 & 10 > 1.5 & 9 > 3027.0, 0 > 0.5 & 9 > 2203.0 & 5 <= 2.5 & 5 <= 0.5, 0 > 0.5 & 9 > 2203.0 & 5 <= 2.5 & 5 > 0.5, 0 > 0.5 & 9 > 2203.0 & 5 > 2.5, 13 <= 29.5, 11 <= 2.5, 4 <= 0.5 & 5 <= 3.5, 4 <= 0.5 & 5 > 3.5, 11 <= 3.5, 11 > 3.5 & 10 <= 1.5, 11 > 3.5 & 10 > 1.5, 11 > 3.5, 13 > 17.5 & 9 <= 3302.5 & 11 <= 3.5, 13 > 17.5 & 9 <= 3302.5 & 11 > 3.5, 13 > 17.5 & 9 > 3302.5 & 5 <= 3.5, 13 > 17.5 & 9 > 3302.5 & 5 > 3.5, 5 <= 4.5 & 5 <= 3.5 & 5 <= 0.5, 5 <= 4.5 & 5 <= 3.5 & 5 > 0.5, 11 <= 2.5 & 3 <= 0.5, 11 <= 2.5 & 3 > 0.5, 13 > 17.5 & 5 <= 4.5, 13 > 17.5 & 5 > 4.5, 8 <= 2.5 & 8 > 0.5 & 3 <= 0.5, 8 <= 2.5 & 8 > 0.5 & 3 > 0.5 & 11 > 2.5 & 10 <= 1.5, 8 <= 2.5 & 8 > 0.5 & 3 > 0.5 & 11 > 2.5 & 10 > 1.5, 13 <= 29.5 & 10 <= 1.5 & 11 <= 3.5, 13 <= 29.5 & 10 <= 1.5 & 11 > 3.5, 13 <= 29.5 & 10 > 1.5, 11 <= 3.5 & 3 <= 0.5, 11 <= 3.5 & 3 > 0.5 & 9 <= 3435.5 & 13 <= 33.5 & 8 <= 2.5, 11 <= 3.5 & 3 > 0.5 & 9 <= 3435.5 & 13 <= 33.5 & 8 > 2.5, 11 <= 3.5 & 3 > 0.5 & 9 <= 3435.5 & 13 > 33.5, 11 <= 3.5 & 3 > 0.5 & 9 > 3435.5 & 5 <= 3.5, 11 <= 3.5 & 3 > 0.5 & 9 > 3435.5 & 5 > 3.5, 11 > 3.5 & 10 <= 1.5 & 0 <= 0.5, 11 > 3.5 & 10 <= 1.5 & 0 > 0.5 & 8 <= 2.5, 11 > 3.5 & 10 <= 1.5 & 0 > 0.5 & 8 > 2.5, 11 > 3.5 & 10 > 1.5 & 9 <= 3027.0 & 13 <= 24.5, 11 > 3.5 & 10 > 1.5 & 9 <= 3027.0 & 13 > 24.5, 11 > 3.5 & 10 > 1.5 & 9 > 3027.0 & 5 <= 3.5, 11 > 3.5 & 10 > 1.5 & 9 > 3027.0 & 5 > 3.5, 13 > 17.5 & 9 <= 3302.5, 13 > 17.5 & 9 > 3302.5, 11 > 2.5, 8 <= 2.5 & 8 > 0.5 & 3 > 0.5 & 11 > 2.5, 5 <= 4.5 & 5 <= 2.5, 11 <= 3.5 & 3 > 0.5, 13 <= 29.5 & 10 <= 1.5, 5 <= 4.5 & 5 <= 3.5 & 5 > 0.5 & 5 <= 1.5, 5 <= 4.5 & 5 <= 3.5 & 5 > 0.5 & 5 > 1.5, 5 <= 4.5 & 5 > 3.5 & 9 <= 3331.5, 5 <= 4.5 & 5 > 3.5 & 9 > 3331.5, 5 > 4.5 & 3 <= 0.5, 5 > 4.5 & 3 > 0.5 & 11 <= 2.5, 5 > 4.5 & 3 > 0.5 & 11 > 2.5, 13 > 17.5 & 9 <= 3302.5 & 3 <= 0.5, 13 > 17.5 & 9 <= 3302.5 & 3 > 0.5 & 11 <= 3.5, 13 > 17.5 & 9 <= 3302.5 & 3 > 0.5 & 11 > 3.5 & 10 <= 1.5, 13 > 17.5 & 9 <= 3302.5 & 3 > 0.5 & 11 > 3.5 & 10 > 1.5, 5 > 4.5 & 13 <= 34.5 & 11 <= 3.5, 5 > 4.5 & 13 <= 34.5 & 11 > 3.5, 5 > 4.5 & 13 > 34.5, 3 <= 0.5, 3 > 0.5 & 11 > 3.5 & 10 <= 1.5, 3 > 0.5 & 11 > 3.5 & 10 > 1.5, 13 <= 32.5, 13 > 32.5, 3 <= 0.5 & 13 <= 32.5, 3 <= 0.5 & 13 > 32.5, 3 > 0.5 & 11 > 2.5 & 10 <= 1.5, 3 > 0.5 & 11 > 2.5 & 10 > 1.5 & 9 <= 3027.0, 3 > 0.5 & 11 > 2.5 & 10 > 1.5 & 9 > 3027.0, 10 <= 1.5, 10 > 1.5, 13 > 17.5 & 8 > 2.5 & 9 <= 2786.5, 13 > 17.5 & 8 > 2.5 & 9 > 2786.5, 3 > 0.5, 4 <= 0.5 & 5 <= 2.5 & 5 <= 0.5, 4 <= 0.5 & 5 <= 2.5 & 5 > 0.5, 11 <= 3.5 & 3 > 0.5 & 9 <= 3435.5, 11 <= 3.5 & 3 > 0.5 & 9 > 3435.5, 0 > 0.5 & 9 > 2203.0 & 5 <= 2.5, 3 > 0.5 & 5 <= 4.5, 3 > 0.5 & 5 > 4.5, 8 <= 2.5 & 8 > 0.5 & 3 > 0.5, 8 > 2.5 & 9 > 2739.0 & 5 <= 2.5, 8 > 2.5 & 9 > 2739.0 & 5 > 2.5, 13 <= 32.5 & 9 <= 1713.5, 13 <= 32.5 & 9 > 1713.5 & 5 <= 2.5 & 5 <= 0.5, 13 <= 32.5 & 9 > 1713.5 & 5 <= 2.5 & 5 > 0.5, 13 <= 32.5 & 9 > 1713.5 & 5 > 2.5, 10 <= 1.5 & 11 <= 3.5, 10 > 1.5 & 8 <= 2.5 & 8 <= 0.5, 10 > 1.5 & 8 <= 2.5 & 8 > 0.5, 10 > 1.5 & 8 > 2.5, 3 > 0.5 & 3 <= 1.5, 3 > 0.5 & 3 > 1.5, 13 <= 32.5 & 9 > 1713.5 & 5 <= 2.5, 3 > 0.5 & 3 > 1.5 & 0 <= 0.5, 3 > 0.5 & 3 > 1.5 & 0 > 0.5 & 8 <= 2.5, 3 > 0.5 & 3 > 1.5 & 0 > 0.5 & 8 > 2.5 & 9 <= 2788.5, 3 > 0.5 & 3 > 1.5 & 0 > 0.5 & 8 > 2.5 & 9 > 2788.5, 8 <= 2.5 & 8 > 0.5 & 3 > 0.5 & 11 <= 1.5, 8 <= 2.5 & 8 > 0.5 & 3 > 0.5 & 11 > 1.5 & 10 <= 1.5, 8 <= 2.5 & 8 > 0.5 & 3 > 0.5 & 11 > 1.5 & 10 > 1.5, 8 > 2.5 & 9 > 1899.5 & 5 <= 2.5 & 5 <= 0.5, 8 > 2.5 & 9 > 1899.5 & 5 <= 2.5 & 5 > 0.5, 8 > 2.5 & 9 > 1899.5 & 5 > 2.5, 13 > 17.5 & 5 <= 4.5 & 5 <= 3.5 & 5 <= 0.5, 13 > 17.5 & 5 <= 4.5 & 5 <= 3.5 & 5 > 0.5, 13 > 17.5 & 5 <= 4.5 & 5 > 3.5, 13 <= 29.5 & 10 <= 1.5 & 11 <= 4.5, 13 <= 29.5 & 10 <= 1.5 & 11 > 4.5, 13 > 29.5 & 0 > 0.5 & 9 > 2440.5, 10 <= 1.5 & 11 <= 3.5 & 9 <= 1583.5, 10 <= 1.5 & 11 <= 3.5 & 9 > 1583.5, 10 > 1.5 & 13 > 29.5, 11 > 2.5 & 10 > 1.5 & 9 <= 3323.5, 11 > 2.5 & 10 > 1.5 & 9 > 3323.5, 8 > 2.5 & 9 <= 1878.5, 8 > 2.5 & 9 > 1878.5, 11 <= 3.5 & 9 <= 3430.0 & 13 <= 35.5, 11 <= 3.5 & 9 <= 3430.0 & 13 > 35.5, 11 <= 3.5 & 9 > 3430.0 & 5 <= 3.5 & 5 <= 0.5, 11 <= 3.5 & 9 > 3430.0 & 5 <= 3.5 & 5 > 0.5, 11 <= 3.5 & 9 > 3430.0 & 5 > 3.5, 4 <= 0.5, 13 <= 17.5 & 11 > 2.5 & 10 <= 2.5, 13 <= 17.5 & 11 > 2.5 & 10 > 2.5, 13 > 17.5 & 3 <= 0.5 & 0 <= 0.5, 13 > 17.5 & 3 <= 0.5 & 0 > 0.5, 13 > 17.5 & 3 > 0.5 & 3 <= 1.5, 13 > 17.5 & 3 > 0.5 & 3 > 1.5 & 0 <= 0.5, 13 > 17.5 & 3 > 0.5 & 3 > 1.5 & 0 > 0.5 & 8 <= 2.5, 13 > 17.5 & 3 > 0.5 & 3 > 1.5 & 0 > 0.5 & 8 > 2.5 & 9 <= 1708.5, 13 > 17.5 & 3 > 0.5 & 3 > 1.5 & 0 > 0.5 & 8 > 2.5 & 9 > 1708.5, 13 <= 32.5 & 9 <= 1372.0, 13 <= 32.5 & 9 > 1372.0, 0 <= 0.5 & 3 <= 0.5, 0 <= 0.5 & 3 > 0.5, 0 > 0.5 & 9 <= 2724.0 & 8 <= 2.5 & 8 <= 0.5, 0 > 0.5 & 9 <= 2724.0 & 8 <= 2.5 & 8 > 0.5, 13 > 17.5 & 9 <= 3302.5 & 11 > 3.5 & 10 <= 1.5, 13 > 17.5 & 9 <= 3302.5 & 11 > 3.5 & 10 > 1.5, 13 > 17.5 & 9 > 3302.5 & 5 <= 3.5 & 5 <= 0.5, 13 > 17.5 & 9 > 3302.5 & 5 <= 3.5 & 5 > 0.5, 3 > 0.5 & 3 > 1.5 & 0 > 0.5, 8 <= 2.5 & 8 > 0.5 & 3 > 0.5 & 3 <= 1.5, 8 <= 2.5 & 8 > 0.5 & 3 > 0.5 & 3 > 1.5, 10 <= 1.5 & 11 <= 4.5, 10 <= 1.5 & 11 > 4.5, 11 <= 2.5 & 5 <= 0.5, 11 <= 2.5 & 5 > 0.5, 11 <= 2.5 & 5 > 0.5 & 5 <= 1.5, 11 <= 2.5 & 5 > 0.5 & 5 > 1.5 & 9 <= 1961.0, 11 <= 2.5 & 5 > 0.5 & 5 > 1.5 & 9 > 1961.0, 13 <= 17.5 & 11 <= 1.5, 13 <= 17.5 & 11 > 1.5, 13 > 17.5 & 8 <= 2.5 & 8 > 0.5 & 11 <= 4.5, 13 > 17.5 & 8 <= 2.5 & 8 > 0.5 & 11 > 4.5, 13 > 17.5 & 8 > 2.5 & 9 <= 1093.5, 13 > 17.5 & 8 > 2.5 & 9 > 1093.5, 9 > 3302.5 & 5 <= 2.5 & 5 <= 0.5, 9 > 3302.5 & 5 <= 2.5 & 5 > 0.5, 9 > 3302.5 & 5 > 2.5, 3 > 0.5 & 3 > 1.5 & 0 > 0.5 & 8 > 2.5, 11 <= 3.5 & 9 <= 3430.0, 11 <= 3.5 & 9 > 3430.0, 11 > 3.5 & 10 <= 2.5, 11 > 3.5 & 10 > 2.5, 8 <= 2.5 & 8 > 0.5 & 13 <= 41.5, 8 <= 2.5 & 8 > 0.5 & 13 > 41.5, 9 <= 1057.5, 9 > 1057.5 & 5 <= 1.5, 9 > 1057.5 & 5 > 1.5, 13 > 17.5 & 5 <= 0.5, 13 > 17.5 & 5 > 0.5 & 5 <= 1.5 & 9 <= 2468.5, 13 > 17.5 & 5 > 0.5 & 5 <= 1.5 & 9 > 2468.5, 13 > 17.5 & 5 > 0.5 & 5 > 1.5 & 9 <= 2420.5 & 3 <= 0.5, 13 > 17.5 & 5 > 0.5 & 5 > 1.5 & 9 <= 2420.5 & 3 > 0.5 & 3 <= 1.5, 13 > 17.5 & 5 > 0.5 & 5 > 1.5 & 9 <= 2420.5 & 3 > 0.5 & 3 > 1.5, 13 > 17.5 & 5 > 0.5 & 5 > 1.5 & 9 > 2420.5 & 5 <= 3.5, 13 > 17.5 & 5 > 0.5 & 5 > 1.5 & 9 > 2420.5 & 5 > 3.5, 10 > 1.5 & 9 <= 3323.5, 10 > 1.5 & 9 > 3323.5 & 5 <= 3.5, 10 > 1.5 & 9 > 3323.5 & 5 > 3.5, 0 > 0.5 & 9 <= 2192.5, 0 > 0.5 & 9 > 2192.5 & 5 <= 2.5 & 5 <= 0.5, 0 > 0.5 & 9 > 2192.5 & 5 <= 2.5 & 5 > 0.5, 0 > 0.5 & 9 > 2192.5 & 5 > 2.5, 11 > 2.5 & 10 <= 2.5, 11 > 2.5 & 10 > 2.5, 11 <= 1.5, 11 > 1.5, 8 <= 2.5 & 8 > 0.5 & 8 <= 1.5, 8 <= 2.5 & 8 > 0.5 & 8 > 1.5, 8 > 2.5 & 9 > 1878.5 & 5 <= 2.5 & 5 <= 0.5, 8 > 2.5 & 9 > 1878.5 & 5 <= 2.5 & 5 > 0.5 & 5 <= 1.5, 8 > 2.5 & 9 > 1878.5 & 5 <= 2.5 & 5 > 0.5 & 5 > 1.5, 8 > 2.5 & 9 > 1878.5 & 5 > 2.5, 0 > 0.5 & 9 <= 2826.5, 0 > 0.5 & 9 > 2826.5 & 5 <= 2.5 & 5 <= 0.5, 0 > 0.5 & 9 > 2826.5 & 5 <= 2.5 & 5 > 0.5, 0 > 0.5 & 9 > 2826.5 & 5 > 2.5, 13 <= 18.5, 13 > 18.5 & 9 <= 3324.5 & 11 <= 3.5, 13 > 18.5 & 9 <= 3324.5 & 11 > 3.5 & 10 <= 2.5, 13 > 18.5 & 9 <= 3324.5 & 11 > 3.5 & 10 > 2.5, 13 > 18.5 & 9 > 3324.5 & 5 <= 3.5, 13 > 18.5 & 9 > 3324.5 & 5 > 3.5, 0 > 0.5 & 9 > 2192.5, 11 > 1.5 & 10 <= 1.5 & 0 <= 0.5, 11 > 1.5 & 10 <= 1.5 & 0 > 0.5 & 8 <= 2.5, 11 > 1.5 & 10 <= 1.5 & 0 > 0.5 & 8 > 2.5, 11 > 1.5 & 10 > 1.5 & 9 <= 3323.5 & 13 <= 21.5, 11 > 1.5 & 10 > 1.5 & 9 <= 3323.5 & 13 > 21.5, 11 > 1.5 & 10 > 1.5 & 9 > 3323.5 & 5 <= 1.5 & 5 <= 0.5, 11 > 1.5 & 10 > 1.5 & 9 > 3323.5 & 5 <= 1.5 & 5 > 0.5, 11 > 1.5 & 10 > 1.5 & 9 > 3323.5 & 5 > 1.5, 13 <= 13.5, 13 > 13.5 & 9 <= 3323.5, 13 > 13.5 & 9 > 3323.5 & 5 <= 3.5, 13 > 13.5 & 9 > 3323.5 & 5 > 3.5, 13 > 13.5 & 5 <= 0.5, 13 > 13.5 & 5 > 0.5, 11 > 1.5 & 10 <= 1.5 & 0 > 0.5, 11 > 1.5 & 10 > 1.5, 11 > 3.5 & 10 <= 0.5, 11 > 3.5 & 10 > 0.5, 13 > 18.5 & 5 <= 0.5, 13 > 18.5 & 5 > 0.5 & 5 <= 1.5, 13 > 18.5 & 5 > 0.5 & 5 > 1.5, 0 <= 0.5 & 10 <= 0.5 & 11 <= 4.5, 0 <= 0.5 & 10 <= 0.5 & 11 > 4.5, 0 <= 0.5 & 10 > 0.5 & 3 <= 0.5, 0 <= 0.5 & 10 > 0.5 & 3 > 0.5, 0 > 0.5 & 9 <= 2192.5 & 8 <= 2.5 & 8 <= 0.5, 0 > 0.5 & 9 <= 2192.5 & 8 <= 2.5 & 8 > 0.5 & 13 <= 41.5, 0 > 0.5 & 9 <= 2192.5 & 8 <= 2.5 & 8 > 0.5 & 13 > 41.5, 0 > 0.5 & 9 <= 2192.5 & 8 > 2.5, 0 > 0.5 & 9 > 2192.5 & 5 <= 2.5 & 5 > 0.5 & 5 <= 1.5, 0 > 0.5 & 9 > 2192.5 & 5 <= 2.5 & 5 > 0.5 & 5 > 1.5, 0 > 0.5 & 9 > 2192.5 & 5 > 2.5 & 5 <= 3.5, 0 > 0.5 & 9 > 2192.5 & 5 > 2.5 & 5 > 3.5, 9 > 1057.5 & 5 <= 1.5 & 5 <= 0.5, 9 > 1057.5 & 5 <= 1.5 & 5 > 0.5, 9 > 1057.5 & 5 > 1.5 & 9 <= 2515.5, 9 > 1057.5 & 5 > 1.5 & 9 > 2515.5, 13 <= 32.5 & 9 <= 1052.5, 13 <= 32.5 & 9 > 1052.5 & 5 <= 1.5 & 5 <= 0.5, 13 <= 32.5 & 9 > 1052.5 & 5 <= 1.5 & 5 > 0.5, 13 <= 32.5 & 9 > 1052.5 & 5 > 1.5 & 9 <= 2508.5, 13 <= 32.5 & 9 > 1052.5 & 5 > 1.5 & 9 > 2508.5 & 5 <= 3.5, 13 <= 32.5 & 9 > 1052.5 & 5 > 1.5 & 9 > 2508.5 & 5 > 3.5, 13 > 13.5, 11 <= 3.5 & 9 > 3430.0 & 5 <= 3.5, 10 <= 1.5 & 11 <= 4.5 & 5 <= 0.5, 10 <= 1.5 & 11 <= 4.5 & 5 > 0.5, 10 > 1.5 & 13 <= 41.5 & 8 <= 2.5 & 8 <= 0.5, 10 > 1.5 & 13 <= 41.5 & 8 <= 2.5 & 8 > 0.5, 10 > 1.5 & 13 <= 41.5 & 8 > 2.5, 10 > 1.5 & 13 > 41.5, 11 > 1.5 & 10 > 1.5 & 9 <= 3323.5, 11 > 1.5 & 10 > 1.5 & 9 > 3323.5 & 5 <= 3.5, 11 > 1.5 & 10 > 1.5 & 9 > 3323.5 & 5 > 3.5, 10 <= 2.5, 10 > 2.5, 13 > 32.5 & 0 <= 0.5, 13 > 32.5 & 0 > 0.5, 0 > 0.5 & 8 <= 2.5 & 8 <= 0.5, 0 > 0.5 & 8 <= 2.5 & 8 > 0.5, 0 > 0.5 & 8 > 2.5 & 9 <= 2379.0, 0 > 0.5 & 8 > 2.5 & 9 > 2379.0, 13 > 13.5 & 11 <= 4.5 & 8 <= 2.5, 13 > 13.5 & 11 <= 4.5 & 8 > 2.5, 13 > 13.5 & 11 > 4.5 & 10 <= 0.5, 13 > 13.5 & 11 > 4.5 & 10 > 0.5, 3 <= 0.5 & 9 <= 3769.5, 3 <= 0.5 & 9 > 3769.5, 10 <= 2.5 & 11 <= 4.5 & 3 <= 0.5, 10 <= 2.5 & 11 <= 4.5 & 3 > 0.5 & 3 <= 1.5, 10 <= 2.5 & 11 <= 4.5 & 3 > 0.5 & 3 > 1.5, 10 <= 2.5 & 11 > 4.5, 13 > 18.5, 9 <= 3302.5 & 13 <= 35.5 & 10 <= 2.5 & 11 <= 3.5, 9 <= 3302.5 & 13 <= 35.5 & 10 <= 2.5 & 11 > 3.5 & 0 <= 0.5, 9 <= 3302.5 & 13 <= 35.5 & 10 <= 2.5 & 11 > 3.5 & 0 > 0.5, 9 <= 3302.5 & 13 <= 35.5 & 10 > 2.5, 9 <= 3302.5 & 13 > 35.5 & 10 <= 0.5 & 11 <= 1.5, 9 <= 3302.5 & 13 > 35.5 & 10 <= 0.5 & 11 > 1.5, 9 <= 3302.5 & 13 > 35.5 & 10 > 0.5 & 3 <= 0.5, 9 <= 3302.5 & 13 > 35.5 & 10 > 0.5 & 3 > 0.5 & 3 <= 1.5, 9 <= 3302.5 & 13 > 35.5 & 10 > 0.5 & 3 > 0.5 & 3 > 1.5, 9 > 3302.5 & 5 <= 3.5 & 5 <= 0.5, 9 > 3302.5 & 5 <= 3.5 & 5 > 0.5 & 5 <= 1.5, 9 > 3302.5 & 5 <= 3.5 & 5 > 0.5 & 5 > 1.5, 9 <= 1093.5, 9 > 1093.5 & 5 <= 1.5, 9 > 1093.5 & 5 > 1.5, 11 > 1.5 & 10 <= 0.5, 11 > 1.5 & 10 > 0.5 & 9 <= 3323.5, 11 > 1.5 & 10 > 0.5 & 9 > 3323.5, 5 <= 0.5, 5 > 0.5 & 5 <= 1.5, 5 > 0.5 & 5 > 1.5, 10 <= 2.5 & 11 <= 4.5, 0 > 0.5 & 8 <= 2.5, 0 > 0.5 & 8 > 2.5, 3 > 0.5 & 3 > 1.5 & 13 <= 23.5, 3 > 0.5 & 3 > 1.5 & 13 > 23.5, 11 > 2.5 & 10 <= 0.5, 11 > 2.5 & 10 > 0.5 & 9 <= 3027.0, 11 > 2.5 & 10 > 0.5 & 9 > 3027.0 & 5 <= 2.5 & 5 <= 0.5, 11 > 2.5 & 10 > 0.5 & 9 > 3027.0 & 5 <= 2.5 & 5 > 0.5 & 5 <= 1.5, 11 > 2.5 & 10 > 0.5 & 9 > 3027.0 & 5 <= 2.5 & 5 > 0.5 & 5 > 1.5, 11 > 2.5 & 10 > 0.5 & 9 > 3027.0 & 5 > 2.5, 13 > 13.5 & 9 > 3323.5 & 5 <= 2.5, 13 > 13.5 & 9 > 3323.5 & 5 > 2.5, 10 <= 2.5 & 11 <= 4.5 & 3 > 0.5, 10 > 1.5 & 13 <= 41.5, 9 > 1057.5, 13 <= 32.5 & 9 > 1052.5, 0 > 0.5 & 9 <= 2928.0, 0 > 0.5 & 9 > 2928.0 & 5 <= 2.5, 0 > 0.5 & 9 > 2928.0 & 5 > 2.5, 10 <= 0.5, 10 > 0.5 & 5 <= 4.5 & 5 <= 3.5 & 5 <= 0.5, 10 > 0.5 & 5 <= 4.5 & 5 <= 3.5 & 5 > 0.5 & 5 <= 1.5 & 9 <= 2181.5, 10 > 0.5 & 5 <= 4.5 & 5 <= 3.5 & 5 > 0.5 & 5 <= 1.5 & 9 > 2181.5, 10 > 0.5 & 5 <= 4.5 & 5 <= 3.5 & 5 > 0.5 & 5 > 1.5, 10 > 0.5 & 5 <= 4.5 & 5 > 3.5, 10 > 0.5 & 5 > 4.5, 11 > 1.5 & 10 > 0.5, 0 > 0.5 & 5 <= 4.5 & 5 <= 3.5, 0 > 0.5 & 5 <= 4.5 & 5 > 3.5, 0 > 0.5 & 5 > 4.5]\n"
     ]
    }
   ],
   "source": [
    "\n",
    "re = RuleEnsemble(rf.tree_generator)\n",
    "\n",
    "rules = re.rules\n",
    "#rules = rules[rules.coef != 0].sort_values(\"support\", ascending=False)\n",
    "\n",
    "print(rules)"
   ]
  }
 ],
 "metadata": {
  "kernelspec": {
   "display_name": "uu_courses",
   "language": "python",
   "name": "python3"
  },
  "language_info": {
   "codemirror_mode": {
    "name": "ipython",
    "version": 3
   },
   "file_extension": ".py",
   "mimetype": "text/x-python",
   "name": "python",
   "nbconvert_exporter": "python",
   "pygments_lexer": "ipython3",
   "version": "3.11.5"
  }
 },
 "nbformat": 4,
 "nbformat_minor": 2
}
