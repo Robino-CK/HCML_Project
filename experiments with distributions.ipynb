{
 "cells": [
  {
   "cell_type": "code",
   "execution_count": 2,
   "metadata": {},
   "outputs": [],
   "source": [
    "import pandas as pd\n",
    "from sklearn.model_selection import train_test_split\n",
    "import data_processing \n",
    "import numpy as np\n",
    "from sklearn.inspection import partial_dependence\n",
    "\n",
    "from sklearn.inspection import PartialDependenceDisplay\n",
    "import shap\n",
    "from sklearn.inspection import permutation_importance\n",
    "import importlib\n",
    "from interpret.glassbox import ExplainableBoostingClassifier\n",
    "from sklearn.metrics import mean_squared_error, accuracy_score, f1_score\n",
    "import models\n",
    "\n",
    "import pickle\n",
    "import plot_helper as ph\n"
   ]
  },
  {
   "cell_type": "code",
   "execution_count": 3,
   "metadata": {},
   "outputs": [],
   "source": [
    "x_train, x_test, y_train, y_test = data_processing.data_selected_features()"
   ]
  },
  {
   "cell_type": "code",
   "execution_count": 4,
   "metadata": {},
   "outputs": [],
   "source": [
    "### SHAP\n",
    "def get_shap_values(model, x_train, x_test):\n",
    "    explainer = shap.KernelExplainer(model.predict,x_train)\n",
    "    shap_values = explainer.shap_values(x_test)\n",
    "    return shap_values\n"
   ]
  },
  {
   "cell_type": "code",
   "execution_count": 5,
   "metadata": {},
   "outputs": [],
   "source": [
    "def get_random_feature(x_train, x_test, distributions=None, split_column= None, scaling = 0.01):\n",
    "    if distributions ==  None:\n",
    "        return  0, 0\n",
    "    \n",
    "    elif split_column ==  \"\":\n",
    "        return  distributions[0], distributions[1]\n",
    "    else:\n",
    "        return x_train.copy()[split_column] + distributions[0] * scaling, x_test.copy()[split_column] + distributions[1] * scaling\n",
    "\n",
    "        "
   ]
  },
  {
   "cell_type": "code",
   "execution_count": 70,
   "metadata": {},
   "outputs": [
    {
     "data": {
      "text/plain": [
       "0.8938820316758074"
      ]
     },
     "execution_count": 70,
     "metadata": {},
     "output_type": "execute_result"
    }
   ],
   "source": [
    "weibull = (np.random.weibull(1.5,  size=x_train.shape[0]),np.random.weibull(1.5,  size=x_test.shape[0]))\n",
    "weibull[0].mean(0)"
   ]
  },
  {
   "cell_type": "code",
   "execution_count": 209,
   "metadata": {},
   "outputs": [
    {
     "name": "stderr",
     "output_type": "stream",
     "text": [
      "Using 3749 background data samples could cause slower run times. Consider using shap.sample(data, K) or shap.kmeans(data, K) to summarize the background as K samples.\n"
     ]
    },
    {
     "name": "stdout",
     "output_type": "stream",
     "text": [
      "Accuracy 0.8411513859275054 of Baseline 0.01 isReplacing of NN\n"
     ]
    },
    {
     "data": {
      "application/vnd.jupyter.widget-view+json": {
       "model_id": "5a92628f7b6a4e799a9604d9732ec07b",
       "version_major": 2,
       "version_minor": 0
      },
      "text/plain": [
       "  0%|          | 0/15 [00:00<?, ?it/s]"
      ]
     },
     "metadata": {},
     "output_type": "display_data"
    },
    {
     "name": "stderr",
     "output_type": "stream",
     "text": [
      "/home/robin/uu/hcml/HCML_Project/data_processing.py:46: RuntimeWarning: invalid value encountered in double_scalars\n",
      "  ebm_values.append((v-min_ebm)/(max_ebm-min_ebm))\n"
     ]
    },
    {
     "name": "stdout",
     "output_type": "stream",
     "text": [
      "[nan, nan, nan, nan, nan]\n",
      "[0. 0. 0. 0. 0.]\n"
     ]
    },
    {
     "name": "stderr",
     "output_type": "stream",
     "text": [
      "/home/robin/uu/hcml/HCML_Project/data_processing.py:46: RuntimeWarning: invalid value encountered in double_scalars\n",
      "  ebm_values.append((v-min_ebm)/(max_ebm-min_ebm))\n"
     ]
    },
    {
     "name": "stdout",
     "output_type": "stream",
     "text": [
      "Accuracy 0.9968017057569296 of Baseline0.01isReplacing of ebm\n",
      "[7.79264071 4.35723929 3.53674934 0.36421049]\n"
     ]
    },
    {
     "name": "stderr",
     "output_type": "stream",
     "text": [
      "Using 3749 background data samples could cause slower run times. Consider using shap.sample(data, K) or shap.kmeans(data, K) to summarize the background as K samples.\n"
     ]
    },
    {
     "name": "stdout",
     "output_type": "stream",
     "text": [
      "Accuracy 0.9925373134328358 of Baseline 0.01 isNotReplacing of NN\n"
     ]
    },
    {
     "data": {
      "application/vnd.jupyter.widget-view+json": {
       "model_id": "ea75c1536ad842b098a32a93e7417068",
       "version_major": 2,
       "version_minor": 0
      },
      "text/plain": [
       "  0%|          | 0/15 [00:00<?, ?it/s]"
      ]
     },
     "metadata": {},
     "output_type": "display_data"
    },
    {
     "name": "stdout",
     "output_type": "stream",
     "text": [
      "[1.0, 0.4231024074210399, 0.01588382536994705, 0.005613634690422401, 0.0]\n",
      "[ 0.25610874  0.24522388  0.00662047 -0.00268657  0.        ]\n",
      "Accuracy 0.9968017057569296 of Baseline0.01isNotReplacing of ebm\n",
      "[7.79264071 4.35723929 3.53674934 0.36421049]\n"
     ]
    },
    {
     "name": "stderr",
     "output_type": "stream",
     "text": [
      "Using 3749 background data samples could cause slower run times. Consider using shap.sample(data, K) or shap.kmeans(data, K) to summarize the background as K samples.\n"
     ]
    },
    {
     "name": "stdout",
     "output_type": "stream",
     "text": [
      "Accuracy 0.9946695095948828 of Normaldistribution 0.01 isReplacing of NN\n"
     ]
    },
    {
     "data": {
      "application/vnd.jupyter.widget-view+json": {
       "model_id": "6dacefe8ea3e40699af7c79115de08f6",
       "version_major": 2,
       "version_minor": 0
      },
      "text/plain": [
       "  0%|          | 0/15 [00:00<?, ?it/s]"
      ]
     },
     "metadata": {},
     "output_type": "display_data"
    },
    {
     "name": "stdout",
     "output_type": "stream",
     "text": [
      "[1.0, 0.4184576415338522, 0.017984321266130716, 0.0, 0.007118293088784326]\n",
      "[ 0.25697228  0.24872068  0.0124307  -0.00157783  0.00079957]\n",
      "Accuracy 0.9957356076759062 of Normaldistribution0.01isReplacing of ebm\n",
      "[6.49074297 3.6339388  2.92520837 0.19681671]\n"
     ]
    },
    {
     "name": "stderr",
     "output_type": "stream",
     "text": [
      "Using 3749 background data samples could cause slower run times. Consider using shap.sample(data, K) or shap.kmeans(data, K) to summarize the background as K samples.\n"
     ]
    },
    {
     "name": "stdout",
     "output_type": "stream",
     "text": [
      "Accuracy 0.9893390191897654 of Normaldistribution 0.01 isNotReplacing of NN\n"
     ]
    },
    {
     "data": {
      "application/vnd.jupyter.widget-view+json": {
       "model_id": "2ff3ce7987bb457390f8fd65159c11d9",
       "version_major": 2,
       "version_minor": 0
      },
      "text/plain": [
       "  0%|          | 0/15 [00:00<?, ?it/s]"
      ]
     },
     "metadata": {},
     "output_type": "display_data"
    },
    {
     "name": "stdout",
     "output_type": "stream",
     "text": [
      "[1.0, 0.4050815519855551, 0.019013313000112827, 0.0, 0.004276987528374377]\n",
      "[ 0.25689765  0.24708955  0.00697228 -0.0048081   0.00074627]\n",
      "Accuracy 0.9957356076759062 of Normaldistribution0.01isNotReplacing of ebm\n",
      "[6.49074297 3.6339388  2.92520837 0.19681671]\n"
     ]
    },
    {
     "name": "stderr",
     "output_type": "stream",
     "text": [
      "Using 3749 background data samples could cause slower run times. Consider using shap.sample(data, K) or shap.kmeans(data, K) to summarize the background as K samples.\n"
     ]
    },
    {
     "name": "stdout",
     "output_type": "stream",
     "text": [
      "Accuracy 0.9925373134328358 of Weibulldistribution 0.01 isReplacing of NN\n"
     ]
    },
    {
     "data": {
      "application/vnd.jupyter.widget-view+json": {
       "model_id": "bb123acc411a468caaff9beba0c0696a",
       "version_major": 2,
       "version_minor": 0
      },
      "text/plain": [
       "  0%|          | 0/15 [00:00<?, ?it/s]"
      ]
     },
     "metadata": {},
     "output_type": "display_data"
    },
    {
     "name": "stdout",
     "output_type": "stream",
     "text": [
      "[1.0, 0.4036456473612785, 0.018862029565092194, 0.0022762979361564935, 0.0]\n",
      "[ 0.25858209  0.24428571  0.01399787 -0.00415778 -0.00109808]\n",
      "Accuracy 0.9968017057569296 of Weibulldistribution0.01isReplacing of ebm\n",
      "[7.07939719 3.96475988 3.20194497 0.27155656]\n"
     ]
    },
    {
     "name": "stderr",
     "output_type": "stream",
     "text": [
      "Using 3749 background data samples could cause slower run times. Consider using shap.sample(data, K) or shap.kmeans(data, K) to summarize the background as K samples.\n"
     ]
    },
    {
     "name": "stdout",
     "output_type": "stream",
     "text": [
      "Accuracy 0.9936034115138592 of Weibulldistribution 0.01 isNotReplacing of NN\n"
     ]
    },
    {
     "data": {
      "application/vnd.jupyter.widget-view+json": {
       "model_id": "97dbbcd5f385462a84caf7c1301aa71e",
       "version_major": 2,
       "version_minor": 0
      },
      "text/plain": [
       "  0%|          | 0/15 [00:00<?, ?it/s]"
      ]
     },
     "metadata": {},
     "output_type": "display_data"
    },
    {
     "name": "stdout",
     "output_type": "stream",
     "text": [
      "[1.0, 0.41843847464479517, 0.015937247314311984, 0.004629562781564043, 0.0]\n",
      "[ 0.26006397  0.25313433  0.00847548 -0.00208955  0.00051173]\n",
      "Accuracy 0.9968017057569296 of Weibulldistribution0.01isNotReplacing of ebm\n",
      "[7.07939719 3.96475988 3.20194497 0.27155656]\n"
     ]
    },
    {
     "name": "stderr",
     "output_type": "stream",
     "text": [
      "Using 3749 background data samples could cause slower run times. Consider using shap.sample(data, K) or shap.kmeans(data, K) to summarize the background as K samples.\n"
     ]
    },
    {
     "name": "stdout",
     "output_type": "stream",
     "text": [
      "Accuracy 0.8432835820895522 of BaselineMOI 0.01 isReplacing of NN\n"
     ]
    },
    {
     "data": {
      "application/vnd.jupyter.widget-view+json": {
       "model_id": "f7e7c205e1df4b82a12554f53e8e8ec4",
       "version_major": 2,
       "version_minor": 0
      },
      "text/plain": [
       "  0%|          | 0/15 [00:00<?, ?it/s]"
      ]
     },
     "metadata": {},
     "output_type": "display_data"
    },
    {
     "name": "stdout",
     "output_type": "stream",
     "text": [
      "[0.0, 0.2620515695067265, 1.0, 0.2839125560538091, 0.0]\n",
      "[0.         0.0025693  0.00189765 0.00352878 0.        ]\n",
      "Accuracy 0.8390191897654584 of BaselineMOI0.01isReplacing of ebm\n",
      "[3.96508223e-18 1.54592000e+00 1.48499625e+00 1.85288453e-01]\n"
     ]
    },
    {
     "name": "stderr",
     "output_type": "stream",
     "text": [
      "Using 3749 background data samples could cause slower run times. Consider using shap.sample(data, K) or shap.kmeans(data, K) to summarize the background as K samples.\n"
     ]
    },
    {
     "name": "stdout",
     "output_type": "stream",
     "text": [
      "Accuracy 0.8411513859275054 of BaselineMOI 0.01 isNotReplacing of NN\n"
     ]
    },
    {
     "data": {
      "application/vnd.jupyter.widget-view+json": {
       "model_id": "fc2784cedc534d0193324839cf740769",
       "version_major": 2,
       "version_minor": 0
      },
      "text/plain": [
       "  0%|          | 0/15 [00:00<?, ?it/s]"
      ]
     },
     "metadata": {},
     "output_type": "display_data"
    },
    {
     "name": "stderr",
     "output_type": "stream",
     "text": [
      "/home/robin/uu/hcml/HCML_Project/data_processing.py:46: RuntimeWarning: invalid value encountered in double_scalars\n",
      "  ebm_values.append((v-min_ebm)/(max_ebm-min_ebm))\n"
     ]
    },
    {
     "name": "stdout",
     "output_type": "stream",
     "text": [
      "[nan, nan, nan, nan, nan]\n",
      "[0. 0. 0. 0. 0.]\n"
     ]
    },
    {
     "name": "stderr",
     "output_type": "stream",
     "text": [
      "/home/robin/uu/hcml/HCML_Project/data_processing.py:46: RuntimeWarning: invalid value encountered in double_scalars\n",
      "  ebm_values.append((v-min_ebm)/(max_ebm-min_ebm))\n"
     ]
    },
    {
     "name": "stdout",
     "output_type": "stream",
     "text": [
      "Accuracy 0.9968017057569296 of BaselineMOI0.01isNotReplacing of ebm\n",
      "[7.79264071 4.35723929 3.53674934 0.36421049]\n"
     ]
    },
    {
     "name": "stderr",
     "output_type": "stream",
     "text": [
      "Using 3749 background data samples could cause slower run times. Consider using shap.sample(data, K) or shap.kmeans(data, K) to summarize the background as K samples.\n"
     ]
    },
    {
     "name": "stdout",
     "output_type": "stream",
     "text": [
      "Accuracy 0.8827292110874201 of NormaldistributionMOI 0.01 isReplacing of NN\n"
     ]
    },
    {
     "data": {
      "application/vnd.jupyter.widget-view+json": {
       "model_id": "f5cbdfe514cc43919d5c01485f160ea1",
       "version_major": 2,
       "version_minor": 0
      },
      "text/plain": [
       "  0%|          | 0/15 [00:00<?, ?it/s]"
      ]
     },
     "metadata": {},
     "output_type": "display_data"
    },
    {
     "name": "stdout",
     "output_type": "stream",
     "text": [
      "[0.0, 1.0, 0.11933483652762203, 0.05704622322435089, 0.8093010146561443]\n",
      "[0.         0.14405117 0.00207889 0.00318763 0.1134968 ]\n",
      "Accuracy 0.8859275053304904 of NormaldistributionMOI0.01isReplacing of ebm\n",
      "[7.93016446e-18 1.71065209e+00 1.55028624e+00 1.50663828e-01]\n"
     ]
    },
    {
     "name": "stderr",
     "output_type": "stream",
     "text": [
      "Using 3749 background data samples could cause slower run times. Consider using shap.sample(data, K) or shap.kmeans(data, K) to summarize the background as K samples.\n"
     ]
    },
    {
     "name": "stdout",
     "output_type": "stream",
     "text": [
      "Accuracy 0.9925373134328358 of NormaldistributionMOI 0.01 isNotReplacing of NN\n"
     ]
    },
    {
     "data": {
      "application/vnd.jupyter.widget-view+json": {
       "model_id": "61a61f34cc5b4061a2f4dee200771b55",
       "version_major": 2,
       "version_minor": 0
      },
      "text/plain": [
       "  0%|          | 0/15 [00:00<?, ?it/s]"
      ]
     },
     "metadata": {},
     "output_type": "display_data"
    },
    {
     "name": "stdout",
     "output_type": "stream",
     "text": [
      "[1.0, 0.4093236269435815, 0.02185051095865744, 0.0, 0.013639172445531636]\n",
      "[ 0.25591684  0.24195096  0.0098081  -0.00251599  0.00028785]\n",
      "Accuracy 0.9957356076759062 of NormaldistributionMOI0.01isNotReplacing of ebm\n",
      "[6.52483777 3.73046892 3.02482166 0.20377423]\n"
     ]
    },
    {
     "name": "stderr",
     "output_type": "stream",
     "text": [
      "Using 3749 background data samples could cause slower run times. Consider using shap.sample(data, K) or shap.kmeans(data, K) to summarize the background as K samples.\n"
     ]
    },
    {
     "name": "stdout",
     "output_type": "stream",
     "text": [
      "Accuracy 0.9914712153518124 of WeibulldistributionMOI 0.01 isReplacing of NN\n"
     ]
    },
    {
     "data": {
      "application/vnd.jupyter.widget-view+json": {
       "model_id": "13e1800174e748718bca122f742d357d",
       "version_major": 2,
       "version_minor": 0
      },
      "text/plain": [
       "  0%|          | 0/15 [00:00<?, ?it/s]"
      ]
     },
     "metadata": {},
     "output_type": "display_data"
    },
    {
     "name": "stdout",
     "output_type": "stream",
     "text": [
      "[0.0, 0.4050348412402254, 0.016079904891657323, 0.0024037418537442177, 1.0]\n",
      "[ 0.          0.25095949  0.01408316 -0.00036247  0.25911514]\n",
      "Accuracy 0.9968017057569296 of WeibulldistributionMOI0.01isReplacing of ebm\n",
      "[7.93016446e-18 4.71944638e+00 3.19695440e+00 3.56255819e-01]\n"
     ]
    },
    {
     "name": "stderr",
     "output_type": "stream",
     "text": [
      "Using 3749 background data samples could cause slower run times. Consider using shap.sample(data, K) or shap.kmeans(data, K) to summarize the background as K samples.\n"
     ]
    },
    {
     "name": "stdout",
     "output_type": "stream",
     "text": [
      "Accuracy 0.9925373134328358 of WeibulldistributionMOI 0.01 isNotReplacing of NN\n"
     ]
    },
    {
     "data": {
      "application/vnd.jupyter.widget-view+json": {
       "model_id": "09d6fe0b3d6241c1b5a722b8ef78097d",
       "version_major": 2,
       "version_minor": 0
      },
      "text/plain": [
       "  0%|          | 0/15 [00:00<?, ?it/s]"
      ]
     },
     "metadata": {},
     "output_type": "display_data"
    },
    {
     "name": "stdout",
     "output_type": "stream",
     "text": [
      "[0.8931142591732473, 0.5838945657222454, 0.038512153584143616, 0.0, 1.0]\n",
      "[0.08869936 0.24601279 0.01633262 0.0004371  0.09528785]\n",
      "Accuracy 0.9968017057569296 of WeibulldistributionMOI0.01isNotReplacing of ebm\n",
      "[4.05423049 4.42435774 3.4272872  0.32671743]\n"
     ]
    },
    {
     "name": "stderr",
     "output_type": "stream",
     "text": [
      "Using 3749 background data samples could cause slower run times. Consider using shap.sample(data, K) or shap.kmeans(data, K) to summarize the background as K samples.\n"
     ]
    },
    {
     "name": "stdout",
     "output_type": "stream",
     "text": [
      "Accuracy 0.9925373134328358 of BaselineAM 0.01 isReplacing of NN\n"
     ]
    },
    {
     "data": {
      "application/vnd.jupyter.widget-view+json": {
       "model_id": "4adb98ad34f34b2581bc32a8bf6caaad",
       "version_major": 2,
       "version_minor": 0
      },
      "text/plain": [
       "  0%|          | 0/15 [00:00<?, ?it/s]"
      ]
     },
     "metadata": {},
     "output_type": "display_data"
    },
    {
     "name": "stdout",
     "output_type": "stream",
     "text": [
      "[1.0, 0.0, 0.42439096576089824, 0.0028116387044255925, 0.0]\n",
      "[ 0.2565565   0.          0.25506397 -0.0021855   0.        ]\n",
      "Accuracy 0.9968017057569296 of BaselineAM0.01isReplacing of ebm\n",
      "[7.82675725e+00 3.96508223e-18 7.83946810e+00 3.78609232e-01]\n"
     ]
    },
    {
     "name": "stderr",
     "output_type": "stream",
     "text": [
      "Using 3749 background data samples could cause slower run times. Consider using shap.sample(data, K) or shap.kmeans(data, K) to summarize the background as K samples.\n"
     ]
    },
    {
     "name": "stdout",
     "output_type": "stream",
     "text": [
      "Accuracy 0.9946695095948828 of BaselineAM 0.01 isNotReplacing of NN\n"
     ]
    },
    {
     "data": {
      "application/vnd.jupyter.widget-view+json": {
       "model_id": "8c47d4d8a5c6409b8e5b99a75b1d934c",
       "version_major": 2,
       "version_minor": 0
      },
      "text/plain": [
       "  0%|          | 0/15 [00:00<?, ?it/s]"
      ]
     },
     "metadata": {},
     "output_type": "display_data"
    },
    {
     "name": "stdout",
     "output_type": "stream",
     "text": [
      "[1.0, 0.41138327868551217, 0.017073999577512006, 0.0005786239770760878, 0.0]\n",
      "[ 0.25817697  0.24384861  0.01794243 -0.00118337  0.        ]\n",
      "Accuracy 0.9968017057569296 of BaselineAM0.01isNotReplacing of ebm\n",
      "[7.79264071 4.35723929 3.53674934 0.36421049]\n"
     ]
    },
    {
     "name": "stderr",
     "output_type": "stream",
     "text": [
      "Using 3749 background data samples could cause slower run times. Consider using shap.sample(data, K) or shap.kmeans(data, K) to summarize the background as K samples.\n"
     ]
    },
    {
     "name": "stdout",
     "output_type": "stream",
     "text": [
      "Accuracy 0.9957356076759062 of NormaldistributionAM 0.01 isReplacing of NN\n"
     ]
    },
    {
     "data": {
      "application/vnd.jupyter.widget-view+json": {
       "model_id": "edd5e0cf78344822a652368f8f687ca1",
       "version_major": 2,
       "version_minor": 0
      },
      "text/plain": [
       "  0%|          | 0/15 [00:00<?, ?it/s]"
      ]
     },
     "metadata": {},
     "output_type": "display_data"
    },
    {
     "name": "stdout",
     "output_type": "stream",
     "text": [
      "[1.0, 0.0, 0.4217516282792985, 0.001964850998800009, 0.007713859476768]\n",
      "[0.25986141 0.         0.26490405 0.00081023 0.00529851]\n",
      "Accuracy 0.9936034115138592 of NormaldistributionAM0.01isReplacing of ebm\n",
      "[6.63106532e+00 3.96508223e-18 6.50648995e+00 2.21338046e-01]\n"
     ]
    },
    {
     "name": "stderr",
     "output_type": "stream",
     "text": [
      "Using 3749 background data samples could cause slower run times. Consider using shap.sample(data, K) or shap.kmeans(data, K) to summarize the background as K samples.\n"
     ]
    },
    {
     "name": "stdout",
     "output_type": "stream",
     "text": [
      "Accuracy 0.9936034115138592 of NormaldistributionAM 0.01 isNotReplacing of NN\n"
     ]
    },
    {
     "data": {
      "application/vnd.jupyter.widget-view+json": {
       "model_id": "a189afaa3bdb43fca4a1f2e79a99550e",
       "version_major": 2,
       "version_minor": 0
      },
      "text/plain": [
       "  0%|          | 0/15 [00:00<?, ?it/s]"
      ]
     },
     "metadata": {},
     "output_type": "display_data"
    },
    {
     "name": "stdout",
     "output_type": "stream",
     "text": [
      "[1.0, 0.4030750070165579, 0.017295818130787864, 0.0039292730844786156, 0.0]\n",
      "[ 0.25845416  0.25448827  0.0128145  -0.00044776  0.00343284]\n",
      "Accuracy 0.9946695095948828 of NormaldistributionAM0.01isNotReplacing of ebm\n",
      "[6.78475317 3.77738523 3.02180822 0.2250627 ]\n"
     ]
    },
    {
     "name": "stderr",
     "output_type": "stream",
     "text": [
      "Using 3749 background data samples could cause slower run times. Consider using shap.sample(data, K) or shap.kmeans(data, K) to summarize the background as K samples.\n"
     ]
    },
    {
     "name": "stdout",
     "output_type": "stream",
     "text": [
      "Accuracy 0.9936034115138592 of WeibulldistributionAM 0.01 isReplacing of NN\n"
     ]
    },
    {
     "data": {
      "application/vnd.jupyter.widget-view+json": {
       "model_id": "9fe9a9f5e08d4bba964f6f71772d928a",
       "version_major": 2,
       "version_minor": 0
      },
      "text/plain": [
       "  0%|          | 0/15 [00:00<?, ?it/s]"
      ]
     },
     "metadata": {},
     "output_type": "display_data"
    },
    {
     "name": "stdout",
     "output_type": "stream",
     "text": [
      "[1.0, 0.0, 0.010384035800720802, 0.004520754372346422, 0.42687793963194576]\n",
      "[ 0.25581023  0.          0.00663113 -0.00160981  0.24881663]\n",
      "Accuracy 0.9946695095948828 of WeibulldistributionAM0.01isReplacing of ebm\n",
      "[7.67034703 0.         3.15931912 0.42736   ]\n"
     ]
    },
    {
     "name": "stderr",
     "output_type": "stream",
     "text": [
      "Using 3749 background data samples could cause slower run times. Consider using shap.sample(data, K) or shap.kmeans(data, K) to summarize the background as K samples.\n"
     ]
    },
    {
     "name": "stdout",
     "output_type": "stream",
     "text": [
      "Accuracy 0.9957356076759062 of WeibulldistributionAM 0.01 isNotReplacing of NN\n"
     ]
    },
    {
     "data": {
      "application/vnd.jupyter.widget-view+json": {
       "model_id": "d2ef1df4beb242b6864b71d3d914a1e7",
       "version_major": 2,
       "version_minor": 0
      },
      "text/plain": [
       "  0%|          | 0/15 [00:00<?, ?it/s]"
      ]
     },
     "metadata": {},
     "output_type": "display_data"
    },
    {
     "name": "stdout",
     "output_type": "stream",
     "text": [
      "[1.0, 0.17709996868639313, 0.020424299358070015, 0.0, 0.16838108658211878]\n",
      "[ 0.26061834  0.09832623  0.00479744 -0.00109808  0.09628998]\n",
      "Accuracy 0.9946695095948828 of WeibulldistributionAM0.01isNotReplacing of ebm\n",
      "[6.99504017 2.20142834 1.97186593 0.30385529]\n"
     ]
    }
   ],
   "source": [
    "importlib.reload(data_processing)\n",
    "# beta \n",
    "normal = (np.random.normal(0,1,  size=x_train.shape[0]), np.random.normal(0,1,  size=x_test.shape[0]))\n",
    "weibull = (np.random.weibull(15,  size=x_train.shape[0]),np.random.weibull(15,  size=x_test.shape[0]))\n",
    "\n",
    "\n",
    "distributions = [None,normal, weibull]\n",
    "distributions_names = [\"Baseline\", \"Normaldistribution\", \"Weibulldistribution\"] #,, \n",
    "sharp_results = {}\n",
    "sharp_results_unnormal = {}\n",
    "ebm_results = {}\n",
    "ebm_results_unnormal = {}\n",
    "pfi_results = {}\n",
    "pfi_results_unnormal = {}\n",
    "split_column = [\"\", \"MOI\", \"AM\"] #, \"MOI +, \"AM\"\n",
    "scaling = [0.01]  #,2,3,4,4,5 #0.05, , 0.1, 1\n",
    "number_features = 15\n",
    "replacing = [True, False] #, False , False\n",
    "\n",
    "for split in split_column:\n",
    "    \n",
    "    for names, dis in zip(distributions_names, distributions):\n",
    "        for replace_t in replacing:\n",
    "            for scale in scaling:\n",
    "                x_train_copy, x_test_copy = x_train.copy(), x_test.copy()\n",
    "                if names == \"Weibulldistribution\":\n",
    "                    x_train_copy[\"Random\"] , x_test_copy[\"Random\"] = get_random_feature(x_train_copy, x_test_copy, dis, scaling=scale, split_column=split)\n",
    "                else:\n",
    "                    x_train_copy[\"Random\"] , x_test_copy[\"Random\"] = get_random_feature(x_train_copy, x_test_copy, dis, scaling=1, split_column=split)\n",
    "                if replace_t:\n",
    "                    is_replacing = \"isReplacing\"\n",
    "                        \n",
    "                    if split != \"\":\n",
    "                    \n",
    "                        x_train_copy[split] = 0\n",
    "                        x_test_copy[split] = 0\n",
    "                    \n",
    "                else:\n",
    "                    is_replacing = \"isNotReplacing\"\n",
    "                \n",
    "                nn = models.nn_model()\n",
    "                nn.fit(x_train_copy, y_train)\n",
    "                y_predict = nn.predict(x_test_copy)\n",
    "                acc = accuracy_score(y_test, y_predict)\n",
    "                print(f\"Accuracy {acc} of {names}{split} {scale} {is_replacing} of NN\")\n",
    "                s = get_shap_values(nn, x_train_copy, x_test_copy.iloc[0:number_features]).mean(axis=0)\n",
    "                sharp_results_unnormal[f\"{names}{split}{scale}{is_replacing}\"] = s\n",
    "                shap_values = data_processing.normalize_data(abs(s))    \n",
    "                print(shap_values)\n",
    "                sharp_results[f\"{names}{split}{scale}{is_replacing}\"] = shap_values\n",
    "                #print(permutation_importance(nn, x_test_copy, y_test, n_repeats=50))\n",
    "                #print(x_test_copy)\n",
    "                #print(y_test)\n",
    "                print(permutation_importance(nn, x_test_copy, y_test, n_repeats=100)[\"importances_mean\"])\n",
    "                pfi_results[f\"{names}{split}{scale}{is_replacing}\"] = data_processing.normalize_data(permutation_importance(nn, x_test_copy, y_test, n_repeats=10)[\"importances_mean\"])\n",
    "                \n",
    "                pfi_results_unnormal[f\"{names}{split}{scale}{is_replacing}\"] = permutation_importance(nn, x_test_copy, y_test, n_repeats=10)[\"importances_mean\"]\n",
    "                ebm = ExplainableBoostingClassifier().fit(x_train_copy, y_train)\n",
    "                y_predict = ebm.predict(x_test_copy)\n",
    "                acc = accuracy_score(y_test, y_predict)\n",
    "                print(f\"Accuracy {acc} of {names}{split}{scale}{is_replacing} of ebm\")\n",
    "                ebm_values = data_processing.normalize_data(ebm.term_importances()[0:len(x_train_copy.columns)])\n",
    "                print(ebm.term_importances()[0:len(x_train.columns)])\n",
    "                ebm_results_unnormal[f\"{names}{split}{scale}{is_replacing}\"] = ebm.term_importances()[0:len(x_train.columns)]\n",
    "                ebm_results[f\"{names}{split}{scale}{is_replacing}\"] = ebm_values\n",
    " \n",
    "res = {\"sharp_results\": sharp_results, \"sharp_results_unnormal\": sharp_results_unnormal, \"ebm_results\": ebm_results, \"ebm_results_unnormal\": ebm_results_unnormal, \"pfi_results\": pfi_results, \"pfi_results_unnormal\": pfi_results_unnormal}       \n",
    "\n",
    "with open( f\"res/results{number_features}2layer.p\", \"wb\" ) as f:\n",
    "\tpickle.dump(res, f)"
   ]
  },
  {
   "cell_type": "code",
   "execution_count": 208,
   "metadata": {},
   "outputs": [
    {
     "data": {
      "image/png": "[encoded data removed]",
      "text/plain": [
       "<Figure size 432x288 with 1 Axes>"
      ]
     },
     "metadata": {
      "needs_background": "light"
     },
     "output_type": "display_data"
    },
    {
     "data": {
      "image/png": "[encoded data removed]",
      "text/plain": [
       "<Figure size 432x288 with 1 Axes>"
      ]
     },
     "metadata": {
      "needs_background": "light"
     },
     "output_type": "display_data"
    }
   ],
   "source": [
    "d = np.random.weibull(1.5,  size=x_train.shape[0])\n",
    "ph.plot_distribution(d, \"Weibull\")\n",
    "d = np.random.weibull(15,  size=x_train.shape[0])\n",
    "\n",
    "d = d * 0.1\n",
    "ph.plot_distribution(d, \"Weibull\")\n"
   ]
  },
  {
   "cell_type": "code",
   "execution_count": 190,
   "metadata": {},
   "outputs": [
    {
     "ename": "TypeError",
     "evalue": "'NoneType' object is not subscriptable",
     "output_type": "error",
     "traceback": [
      "\u001b[0;31m---------------------------------------------------------------------------\u001b[0m",
      "\u001b[0;31mTypeError\u001b[0m                                 Traceback (most recent call last)",
      "Cell \u001b[0;32mIn[190], line 2\u001b[0m\n\u001b[1;32m      1\u001b[0m \u001b[38;5;28;01mfor\u001b[39;00m name, dist \u001b[38;5;129;01min\u001b[39;00m \u001b[38;5;28mzip\u001b[39m(distributions_names, distributions):\n\u001b[0;32m----> 2\u001b[0m     ph\u001b[38;5;241m.\u001b[39mplot_distribution(dist[\u001b[38;5;241m0\u001b[39m], name)\n",
      "\u001b[0;31mTypeError\u001b[0m: 'NoneType' object is not subscriptable"
     ]
    }
   ],
   "source": [
    "for name, dist in zip(distributions_names, distributions):\n",
    "    ph.plot_distribution(dist[0], name)"
   ]
  },
  {
   "cell_type": "code",
   "execution_count": 56,
   "metadata": {},
   "outputs": [
    {
     "data": {
      "text/plain": [
       "[1.0, 0.7092843543509894, 0.09980960913875976, 0.0, 0.5879717773546865]"
      ]
     },
     "execution_count": 56,
     "metadata": {},
     "output_type": "execute_result"
    }
   ],
   "source": [
    "res[\"sharp_results\"][\"WeibulldistributionMOI0.01isNotReplacing\"]\n"
   ]
  },
  {
   "cell_type": "code",
   "execution_count": null,
   "metadata": {},
   "outputs": [
    {
     "data": {
      "text/html": [
       "<div>\n",
       "<style scoped>\n",
       "    .dataframe tbody tr th:only-of-type {\n",
       "        vertical-align: middle;\n",
       "    }\n",
       "\n",
       "    .dataframe tbody tr th {\n",
       "        vertical-align: top;\n",
       "    }\n",
       "\n",
       "    .dataframe thead th {\n",
       "        text-align: right;\n",
       "    }\n",
       "</style>\n",
       "<table border=\"1\" class=\"dataframe\">\n",
       "  <thead>\n",
       "    <tr style=\"text-align: right;\">\n",
       "      <th></th>\n",
       "      <th>MOI</th>\n",
       "      <th>AM</th>\n",
       "      <th>EDKM</th>\n",
       "      <th>Eccentricity</th>\n",
       "      <th>Random</th>\n",
       "    </tr>\n",
       "  </thead>\n",
       "  <tbody>\n",
       "    <tr>\n",
       "      <th>2349</th>\n",
       "      <td>-0.661600</td>\n",
       "      <td>-0.162578</td>\n",
       "      <td>-0.290351</td>\n",
       "      <td>-0.915936</td>\n",
       "      <td>0</td>\n",
       "    </tr>\n",
       "    <tr>\n",
       "      <th>3038</th>\n",
       "      <td>-0.683760</td>\n",
       "      <td>0.045884</td>\n",
       "      <td>-0.386654</td>\n",
       "      <td>1.044756</td>\n",
       "      <td>0</td>\n",
       "    </tr>\n",
       "    <tr>\n",
       "      <th>794</th>\n",
       "      <td>-0.605223</td>\n",
       "      <td>-1.100654</td>\n",
       "      <td>0.693882</td>\n",
       "      <td>-0.361054</td>\n",
       "      <td>0</td>\n",
       "    </tr>\n",
       "    <tr>\n",
       "      <th>989</th>\n",
       "      <td>0.854746</td>\n",
       "      <td>-0.371039</td>\n",
       "      <td>-0.163398</td>\n",
       "      <td>-0.295951</td>\n",
       "      <td>0</td>\n",
       "    </tr>\n",
       "    <tr>\n",
       "      <th>3865</th>\n",
       "      <td>1.050608</td>\n",
       "      <td>-0.232065</td>\n",
       "      <td>-0.251866</td>\n",
       "      <td>-1.037511</td>\n",
       "      <td>0</td>\n",
       "    </tr>\n",
       "    <tr>\n",
       "      <th>...</th>\n",
       "      <td>...</td>\n",
       "      <td>...</td>\n",
       "      <td>...</td>\n",
       "      <td>...</td>\n",
       "      <td>...</td>\n",
       "    </tr>\n",
       "    <tr>\n",
       "      <th>3664</th>\n",
       "      <td>-0.688332</td>\n",
       "      <td>0.289089</td>\n",
       "      <td>-0.470039</td>\n",
       "      <td>2.449910</td>\n",
       "      <td>0</td>\n",
       "    </tr>\n",
       "    <tr>\n",
       "      <th>2880</th>\n",
       "      <td>0.212160</td>\n",
       "      <td>0.601781</td>\n",
       "      <td>-0.544419</td>\n",
       "      <td>-0.450122</td>\n",
       "      <td>0</td>\n",
       "    </tr>\n",
       "    <tr>\n",
       "      <th>4675</th>\n",
       "      <td>-0.847108</td>\n",
       "      <td>1.400884</td>\n",
       "      <td>-0.639032</td>\n",
       "      <td>1.360010</td>\n",
       "      <td>0</td>\n",
       "    </tr>\n",
       "    <tr>\n",
       "      <th>1001</th>\n",
       "      <td>-0.858094</td>\n",
       "      <td>1.053448</td>\n",
       "      <td>-0.609659</td>\n",
       "      <td>-1.073023</td>\n",
       "      <td>0</td>\n",
       "    </tr>\n",
       "    <tr>\n",
       "      <th>2002</th>\n",
       "      <td>-0.262334</td>\n",
       "      <td>-0.961680</td>\n",
       "      <td>0.461189</td>\n",
       "      <td>1.730650</td>\n",
       "      <td>0</td>\n",
       "    </tr>\n",
       "  </tbody>\n",
       "</table>\n",
       "<p>3749 rows × 5 columns</p>\n",
       "</div>"
      ],
      "text/plain": [
       "           MOI        AM      EDKM  Eccentricity  Random\n",
       "2349 -0.661600 -0.162578 -0.290351     -0.915936       0\n",
       "3038 -0.683760  0.045884 -0.386654      1.044756       0\n",
       "794  -0.605223 -1.100654  0.693882     -0.361054       0\n",
       "989   0.854746 -0.371039 -0.163398     -0.295951       0\n",
       "3865  1.050608 -0.232065 -0.251866     -1.037511       0\n",
       "...        ...       ...       ...           ...     ...\n",
       "3664 -0.688332  0.289089 -0.470039      2.449910       0\n",
       "2880  0.212160  0.601781 -0.544419     -0.450122       0\n",
       "4675 -0.847108  1.400884 -0.639032      1.360010       0\n",
       "1001 -0.858094  1.053448 -0.609659     -1.073023       0\n",
       "2002 -0.262334 -0.961680  0.461189      1.730650       0\n",
       "\n",
       "[3749 rows x 5 columns]"
      ]
     },
     "execution_count": 77,
     "metadata": {},
     "output_type": "execute_result"
    }
   ],
   "source": [
    "x_train"
   ]
  },
  {
   "cell_type": "code",
   "execution_count": null,
   "metadata": {},
   "outputs": [
    {
     "data": {
      "text/html": [
       "<div>\n",
       "<style scoped>\n",
       "    .dataframe tbody tr th:only-of-type {\n",
       "        vertical-align: middle;\n",
       "    }\n",
       "\n",
       "    .dataframe tbody tr th {\n",
       "        vertical-align: top;\n",
       "    }\n",
       "\n",
       "    .dataframe thead th {\n",
       "        text-align: right;\n",
       "    }\n",
       "</style>\n",
       "<table border=\"1\" class=\"dataframe\">\n",
       "  <thead>\n",
       "    <tr style=\"text-align: right;\">\n",
       "      <th></th>\n",
       "      <th>MOI</th>\n",
       "      <th>AM</th>\n",
       "      <th>EDKM</th>\n",
       "      <th>Eccentricity</th>\n",
       "      <th>Random</th>\n",
       "    </tr>\n",
       "  </thead>\n",
       "  <tbody>\n",
       "    <tr>\n",
       "      <th>2193</th>\n",
       "      <td>0</td>\n",
       "      <td>1.157679</td>\n",
       "      <td>-0.619929</td>\n",
       "      <td>-0.696176</td>\n",
       "      <td>-0.592478</td>\n",
       "    </tr>\n",
       "    <tr>\n",
       "      <th>4596</th>\n",
       "      <td>0</td>\n",
       "      <td>1.088192</td>\n",
       "      <td>-0.613242</td>\n",
       "      <td>-0.997236</td>\n",
       "      <td>-0.660698</td>\n",
       "    </tr>\n",
       "    <tr>\n",
       "      <th>3931</th>\n",
       "      <td>0</td>\n",
       "      <td>0.567038</td>\n",
       "      <td>-0.537593</td>\n",
       "      <td>-0.723997</td>\n",
       "      <td>-0.338082</td>\n",
       "    </tr>\n",
       "    <tr>\n",
       "      <th>3615</th>\n",
       "      <td>0</td>\n",
       "      <td>-1.795526</td>\n",
       "      <td>2.785020</td>\n",
       "      <td>1.370671</td>\n",
       "      <td>-0.360760</td>\n",
       "    </tr>\n",
       "    <tr>\n",
       "      <th>2245</th>\n",
       "      <td>0</td>\n",
       "      <td>0.783143</td>\n",
       "      <td>-0.575366</td>\n",
       "      <td>-1.502642</td>\n",
       "      <td>-0.412312</td>\n",
       "    </tr>\n",
       "    <tr>\n",
       "      <th>...</th>\n",
       "      <td>...</td>\n",
       "      <td>...</td>\n",
       "      <td>...</td>\n",
       "      <td>...</td>\n",
       "      <td>...</td>\n",
       "    </tr>\n",
       "    <tr>\n",
       "      <th>4514</th>\n",
       "      <td>0</td>\n",
       "      <td>-0.127834</td>\n",
       "      <td>-0.308304</td>\n",
       "      <td>-0.779459</td>\n",
       "      <td>1.052179</td>\n",
       "    </tr>\n",
       "    <tr>\n",
       "      <th>2354</th>\n",
       "      <td>0</td>\n",
       "      <td>-1.517577</td>\n",
       "      <td>1.714358</td>\n",
       "      <td>-0.595041</td>\n",
       "      <td>0.960834</td>\n",
       "    </tr>\n",
       "    <tr>\n",
       "      <th>2359</th>\n",
       "      <td>0</td>\n",
       "      <td>1.366140</td>\n",
       "      <td>-0.636665</td>\n",
       "      <td>-0.025538</td>\n",
       "      <td>-0.812175</td>\n",
       "    </tr>\n",
       "    <tr>\n",
       "      <th>1275</th>\n",
       "      <td>0</td>\n",
       "      <td>-0.371039</td>\n",
       "      <td>-0.163398</td>\n",
       "      <td>0.648788</td>\n",
       "      <td>1.357062</td>\n",
       "    </tr>\n",
       "    <tr>\n",
       "      <th>446</th>\n",
       "      <td>0</td>\n",
       "      <td>-0.127834</td>\n",
       "      <td>-0.308304</td>\n",
       "      <td>0.362620</td>\n",
       "      <td>-0.686647</td>\n",
       "    </tr>\n",
       "  </tbody>\n",
       "</table>\n",
       "<p>938 rows × 5 columns</p>\n",
       "</div>"
      ],
      "text/plain": [
       "      MOI        AM      EDKM  Eccentricity    Random\n",
       "2193    0  1.157679 -0.619929     -0.696176 -0.592478\n",
       "4596    0  1.088192 -0.613242     -0.997236 -0.660698\n",
       "3931    0  0.567038 -0.537593     -0.723997 -0.338082\n",
       "3615    0 -1.795526  2.785020      1.370671 -0.360760\n",
       "2245    0  0.783143 -0.575366     -1.502642 -0.412312\n",
       "...   ...       ...       ...           ...       ...\n",
       "4514    0 -0.127834 -0.308304     -0.779459  1.052179\n",
       "2354    0 -1.517577  1.714358     -0.595041  0.960834\n",
       "2359    0  1.366140 -0.636665     -0.025538 -0.812175\n",
       "1275    0 -0.371039 -0.163398      0.648788  1.357062\n",
       "446     0 -0.127834 -0.308304      0.362620 -0.686647\n",
       "\n",
       "[938 rows x 5 columns]"
      ]
     },
     "execution_count": 75,
     "metadata": {},
     "output_type": "execute_result"
    }
   ],
   "source": [
    "x_test_copy"
   ]
  },
  {
   "cell_type": "code",
   "execution_count": 8,
   "metadata": {},
   "outputs": [
    {
     "ename": "ValueError",
     "evalue": "All arrays must be of the same length",
     "output_type": "error",
     "traceback": [
      "\u001b[0;31m---------------------------------------------------------------------------\u001b[0m",
      "\u001b[0;31mValueError\u001b[0m                                Traceback (most recent call last)",
      "Cell \u001b[0;32mIn[8], line 1\u001b[0m\n\u001b[0;32m----> 1\u001b[0m df \u001b[38;5;241m=\u001b[39m pd\u001b[38;5;241m.\u001b[39mDataFrame(res[\u001b[38;5;124m\"\u001b[39m\u001b[38;5;124msharp_results\u001b[39m\u001b[38;5;124m\"\u001b[39m])\n\u001b[1;32m      2\u001b[0m df\n",
      "File \u001b[0;32m~/anaconda3/envs/uu_courses/lib/python3.11/site-packages/pandas/core/frame.py:709\u001b[0m, in \u001b[0;36mDataFrame.__init__\u001b[0;34m(self, data, index, columns, dtype, copy)\u001b[0m\n\u001b[1;32m    703\u001b[0m     mgr \u001b[38;5;241m=\u001b[39m \u001b[38;5;28mself\u001b[39m\u001b[38;5;241m.\u001b[39m_init_mgr(\n\u001b[1;32m    704\u001b[0m         data, axes\u001b[38;5;241m=\u001b[39m{\u001b[38;5;124m\"\u001b[39m\u001b[38;5;124mindex\u001b[39m\u001b[38;5;124m\"\u001b[39m: index, \u001b[38;5;124m\"\u001b[39m\u001b[38;5;124mcolumns\u001b[39m\u001b[38;5;124m\"\u001b[39m: columns}, dtype\u001b[38;5;241m=\u001b[39mdtype, copy\u001b[38;5;241m=\u001b[39mcopy\n\u001b[1;32m    705\u001b[0m     )\n\u001b[1;32m    707\u001b[0m \u001b[38;5;28;01melif\u001b[39;00m \u001b[38;5;28misinstance\u001b[39m(data, \u001b[38;5;28mdict\u001b[39m):\n\u001b[1;32m    708\u001b[0m     \u001b[38;5;66;03m# GH#38939 de facto copy defaults to False only in non-dict cases\u001b[39;00m\n\u001b[0;32m--> 709\u001b[0m     mgr \u001b[38;5;241m=\u001b[39m dict_to_mgr(data, index, columns, dtype\u001b[38;5;241m=\u001b[39mdtype, copy\u001b[38;5;241m=\u001b[39mcopy, typ\u001b[38;5;241m=\u001b[39mmanager)\n\u001b[1;32m    710\u001b[0m \u001b[38;5;28;01melif\u001b[39;00m \u001b[38;5;28misinstance\u001b[39m(data, ma\u001b[38;5;241m.\u001b[39mMaskedArray):\n\u001b[1;32m    711\u001b[0m     \u001b[38;5;28;01mfrom\u001b[39;00m \u001b[38;5;21;01mnumpy\u001b[39;00m\u001b[38;5;21;01m.\u001b[39;00m\u001b[38;5;21;01mma\u001b[39;00m \u001b[38;5;28;01mimport\u001b[39;00m mrecords\n",
      "File \u001b[0;32m~/anaconda3/envs/uu_courses/lib/python3.11/site-packages/pandas/core/internals/construction.py:481\u001b[0m, in \u001b[0;36mdict_to_mgr\u001b[0;34m(data, index, columns, dtype, typ, copy)\u001b[0m\n\u001b[1;32m    477\u001b[0m     \u001b[38;5;28;01melse\u001b[39;00m:\n\u001b[1;32m    478\u001b[0m         \u001b[38;5;66;03m# dtype check to exclude e.g. range objects, scalars\u001b[39;00m\n\u001b[1;32m    479\u001b[0m         arrays \u001b[38;5;241m=\u001b[39m [x\u001b[38;5;241m.\u001b[39mcopy() \u001b[38;5;28;01mif\u001b[39;00m \u001b[38;5;28mhasattr\u001b[39m(x, \u001b[38;5;124m\"\u001b[39m\u001b[38;5;124mdtype\u001b[39m\u001b[38;5;124m\"\u001b[39m) \u001b[38;5;28;01melse\u001b[39;00m x \u001b[38;5;28;01mfor\u001b[39;00m x \u001b[38;5;129;01min\u001b[39;00m arrays]\n\u001b[0;32m--> 481\u001b[0m \u001b[38;5;28;01mreturn\u001b[39;00m arrays_to_mgr(arrays, columns, index, dtype\u001b[38;5;241m=\u001b[39mdtype, typ\u001b[38;5;241m=\u001b[39mtyp, consolidate\u001b[38;5;241m=\u001b[39mcopy)\n",
      "File \u001b[0;32m~/anaconda3/envs/uu_courses/lib/python3.11/site-packages/pandas/core/internals/construction.py:115\u001b[0m, in \u001b[0;36marrays_to_mgr\u001b[0;34m(arrays, columns, index, dtype, verify_integrity, typ, consolidate)\u001b[0m\n\u001b[1;32m    112\u001b[0m \u001b[38;5;28;01mif\u001b[39;00m verify_integrity:\n\u001b[1;32m    113\u001b[0m     \u001b[38;5;66;03m# figure out the index, if necessary\u001b[39;00m\n\u001b[1;32m    114\u001b[0m     \u001b[38;5;28;01mif\u001b[39;00m index \u001b[38;5;129;01mis\u001b[39;00m \u001b[38;5;28;01mNone\u001b[39;00m:\n\u001b[0;32m--> 115\u001b[0m         index \u001b[38;5;241m=\u001b[39m _extract_index(arrays)\n\u001b[1;32m    116\u001b[0m     \u001b[38;5;28;01melse\u001b[39;00m:\n\u001b[1;32m    117\u001b[0m         index \u001b[38;5;241m=\u001b[39m ensure_index(index)\n",
      "File \u001b[0;32m~/anaconda3/envs/uu_courses/lib/python3.11/site-packages/pandas/core/internals/construction.py:655\u001b[0m, in \u001b[0;36m_extract_index\u001b[0;34m(data)\u001b[0m\n\u001b[1;32m    653\u001b[0m lengths \u001b[38;5;241m=\u001b[39m \u001b[38;5;28mlist\u001b[39m(\u001b[38;5;28mset\u001b[39m(raw_lengths))\n\u001b[1;32m    654\u001b[0m \u001b[38;5;28;01mif\u001b[39;00m \u001b[38;5;28mlen\u001b[39m(lengths) \u001b[38;5;241m>\u001b[39m \u001b[38;5;241m1\u001b[39m:\n\u001b[0;32m--> 655\u001b[0m     \u001b[38;5;28;01mraise\u001b[39;00m \u001b[38;5;167;01mValueError\u001b[39;00m(\u001b[38;5;124m\"\u001b[39m\u001b[38;5;124mAll arrays must be of the same length\u001b[39m\u001b[38;5;124m\"\u001b[39m)\n\u001b[1;32m    657\u001b[0m \u001b[38;5;28;01mif\u001b[39;00m have_dicts:\n\u001b[1;32m    658\u001b[0m     \u001b[38;5;28;01mraise\u001b[39;00m \u001b[38;5;167;01mValueError\u001b[39;00m(\n\u001b[1;32m    659\u001b[0m         \u001b[38;5;124m\"\u001b[39m\u001b[38;5;124mMixing dicts with non-Series may lead to ambiguous ordering.\u001b[39m\u001b[38;5;124m\"\u001b[39m\n\u001b[1;32m    660\u001b[0m     )\n",
      "\u001b[0;31mValueError\u001b[0m: All arrays must be of the same length"
     ]
    }
   ],
   "source": [
    "df = pd.DataFrame(res[\"sharp_results\"])\n",
    "df"
   ]
  },
  {
   "cell_type": "code",
   "execution_count": 119,
   "metadata": {},
   "outputs": [
    {
     "name": "stdout",
     "output_type": "stream",
     "text": [
      "dict_keys(['Baseline1isNotReplacing', 'Normaldistribution1isNotReplacing', 'Weibulldistribution1isNotReplacing'])\n",
      "{'Baseline1isNotReplacing': [1.0, 0.3138544348233078, 0.02206880411888518, 0.007395272642172462, 0.0], 'Normaldistribution1isNotReplacing': [1.0, 0.3102769365850152, 0.020371548372067973, 0.0008735463293135478, 0.0], 'Weibulldistribution1isNotReplacing': [1.0, 0.3442336042634034, 0.01701524934238354, 0.0024964458494615947, 0.0]}\n",
      "[1.0, 0.9761415055532703, 0.04730563554092967, 0.0, 0.02632661456190874]\n"
     ]
    }
   ],
   "source": [
    "print(res[\"sharp_results\"].keys())\n",
    "print(res[\"sharp_results\"])\n",
    "print(res[\"pfi_results\"][\"Normaldistribution1isNotReplacing\" ])"
   ]
  },
  {
   "cell_type": "markdown",
   "metadata": {},
   "source": []
  },
  {
   "cell_type": "code",
   "execution_count": 115,
   "metadata": {},
   "outputs": [
    {
     "data": {
      "text/plain": [
       "dict_keys(['Baseline1isNotReplacing', 'Normaldistribution1isNotReplacing', 'Weibulldistribution1isNotReplacing'])"
      ]
     },
     "execution_count": 115,
     "metadata": {},
     "output_type": "execute_result"
    }
   ],
   "source": [
    "res[\"pfi_results\"].keys()"
   ]
  },
  {
   "cell_type": "code",
   "execution_count": 186,
   "metadata": {},
   "outputs": [
    {
     "ename": "KeyError",
     "evalue": "'Baseline1isNotReplacing'",
     "output_type": "error",
     "traceback": [
      "\u001b[0;31m---------------------------------------------------------------------------\u001b[0m",
      "\u001b[0;31mKeyError\u001b[0m                                  Traceback (most recent call last)",
      "Cell \u001b[0;32mIn[186], line 3\u001b[0m\n\u001b[1;32m      1\u001b[0m experiments\u001b[38;5;241m=\u001b[39m[\u001b[38;5;124m\"\u001b[39m\u001b[38;5;124mBaseline\u001b[39m\u001b[38;5;124m\"\u001b[39m, \u001b[38;5;124m\"\u001b[39m\u001b[38;5;124mNormaldistribution\u001b[39m\u001b[38;5;124m\"\u001b[39m, \u001b[38;5;124m\"\u001b[39m\u001b[38;5;124mWeibulldistribution\u001b[39m\u001b[38;5;124m\"\u001b[39m]\n\u001b[1;32m      2\u001b[0m c\u001b[38;5;241m=\u001b[39m x_train\u001b[38;5;241m.\u001b[39mcolumns\u001b[38;5;241m.\u001b[39mtolist() \u001b[38;5;241m+\u001b[39m [\u001b[38;5;124m\"\u001b[39m\u001b[38;5;124mRandom\u001b[39m\u001b[38;5;124m\"\u001b[39m]\n\u001b[0;32m----> 3\u001b[0m ph\u001b[38;5;241m.\u001b[39mplot_bar_per_scale(res[\u001b[38;5;124m\"\u001b[39m\u001b[38;5;124mpfi_results\u001b[39m\u001b[38;5;124m\"\u001b[39m], c,experiments\u001b[38;5;241m=\u001b[39m[\u001b[38;5;124m\"\u001b[39m\u001b[38;5;124mBaseline1isNotReplacing\u001b[39m\u001b[38;5;124m\"\u001b[39m, \u001b[38;5;124m\"\u001b[39m\u001b[38;5;124mNormaldistribution1isNotReplacing\u001b[39m\u001b[38;5;124m\"\u001b[39m, \u001b[38;5;124m\"\u001b[39m\u001b[38;5;124mWeibulldistribution1isNotReplacing\u001b[39m\u001b[38;5;124m\"\u001b[39m], experiments_names\u001b[38;5;241m=\u001b[39mexperiments, header\u001b[38;5;241m=\u001b[39m\u001b[38;5;124m\"\u001b[39m\u001b[38;5;124mPFI\u001b[39m\u001b[38;5;124m\"\u001b[39m)\n\u001b[1;32m      4\u001b[0m ph\u001b[38;5;241m.\u001b[39mplot_bar_per_scale(res[\u001b[38;5;124m\"\u001b[39m\u001b[38;5;124msharp_results\u001b[39m\u001b[38;5;124m\"\u001b[39m],c,experiments\u001b[38;5;241m=\u001b[39m[\u001b[38;5;124m\"\u001b[39m\u001b[38;5;124mBaseline1isNotReplacing\u001b[39m\u001b[38;5;124m\"\u001b[39m, \u001b[38;5;124m\"\u001b[39m\u001b[38;5;124mNormaldistribution1isNotReplacing\u001b[39m\u001b[38;5;124m\"\u001b[39m, \u001b[38;5;124m\"\u001b[39m\u001b[38;5;124mWeibulldistribution1isNotReplacing\u001b[39m\u001b[38;5;124m\"\u001b[39m], experiments_names\u001b[38;5;241m=\u001b[39mexperiments, header\u001b[38;5;241m=\u001b[39m\u001b[38;5;124m\"\u001b[39m\u001b[38;5;124mSHAP\u001b[39m\u001b[38;5;124m\"\u001b[39m)\n\u001b[1;32m      5\u001b[0m ph\u001b[38;5;241m.\u001b[39mplot_bar_per_scale(res[\u001b[38;5;124m\"\u001b[39m\u001b[38;5;124mebm_results\u001b[39m\u001b[38;5;124m\"\u001b[39m], c,experiments\u001b[38;5;241m=\u001b[39m[\u001b[38;5;124m\"\u001b[39m\u001b[38;5;124mBaseline1isNotReplacing\u001b[39m\u001b[38;5;124m\"\u001b[39m, \u001b[38;5;124m\"\u001b[39m\u001b[38;5;124mNormaldistribution1isNotReplacing\u001b[39m\u001b[38;5;124m\"\u001b[39m, \u001b[38;5;124m\"\u001b[39m\u001b[38;5;124mWeibulldistribution1isNotReplacing\u001b[39m\u001b[38;5;124m\"\u001b[39m], experiments_names\u001b[38;5;241m=\u001b[39mexperiments, header\u001b[38;5;241m=\u001b[39m\u001b[38;5;124m\"\u001b[39m\u001b[38;5;124mEBM\u001b[39m\u001b[38;5;124m\"\u001b[39m)\n",
      "File \u001b[0;32m~/uu/hcml/HCML_Project/plot_helper.py:38\u001b[0m, in \u001b[0;36mplot_bar_per_scale\u001b[0;34m(metric_values, columns, experiments, experiments_names, header)\u001b[0m\n\u001b[1;32m     33\u001b[0m d_colors \u001b[38;5;241m=\u001b[39m {}\n\u001b[1;32m     35\u001b[0m \u001b[38;5;28;01mfor\u001b[39;00m exp_n,exp \u001b[38;5;129;01min\u001b[39;00m \u001b[38;5;28mzip\u001b[39m(experiments_names,experiments):\n\u001b[0;32m---> 38\u001b[0m     d[exp_n] \u001b[38;5;241m=\u001b[39m metric_values[\u001b[38;5;124mf\u001b[39m\u001b[38;5;124m\"\u001b[39m\u001b[38;5;132;01m{\u001b[39;00mexp\u001b[38;5;132;01m}\u001b[39;00m\u001b[38;5;124m\"\u001b[39m]\n\u001b[1;32m     39\u001b[0m     d_colors[exp_n] \u001b[38;5;241m=\u001b[39m color_list\u001b[38;5;241m.\u001b[39mpop()\n\u001b[1;32m     40\u001b[0m     \u001b[38;5;28;01mif\u001b[39;00m color_list \u001b[38;5;241m==\u001b[39m \u001b[38;5;28mset\u001b[39m():\n",
      "\u001b[0;31mKeyError\u001b[0m: 'Baseline1isNotReplacing'"
     ]
    }
   ],
   "source": [
    "experiments=[\"Baseline\", \"Normaldistribution\", \"Weibulldistribution\"]\n",
    "c= x_train.columns.tolist() + [\"Random\"]\n",
    "ph.plot_bar_per_scale(res[\"pfi_results\"], c,experiments=[\"Baseline1isNotReplacing\", \"Normaldistribution1isNotReplacing\", \"Weibulldistribution1isNotReplacing\"], experiments_names=experiments, header=\"PFI\")\n",
    "ph.plot_bar_per_scale(res[\"sharp_results\"],c,experiments=[\"Baseline1isNotReplacing\", \"Normaldistribution1isNotReplacing\", \"Weibulldistribution1isNotReplacing\"], experiments_names=experiments, header=\"SHAP\")\n",
    "ph.plot_bar_per_scale(res[\"ebm_results\"], c,experiments=[\"Baseline1isNotReplacing\", \"Normaldistribution1isNotReplacing\", \"Weibulldistribution1isNotReplacing\"], experiments_names=experiments, header=\"EBM\")"
   ]
  },
  {
   "cell_type": "code",
   "execution_count": 144,
   "metadata": {},
   "outputs": [
    {
     "data": {
      "text/html": [
       "<div>\n",
       "<style scoped>\n",
       "    .dataframe tbody tr th:only-of-type {\n",
       "        vertical-align: middle;\n",
       "    }\n",
       "\n",
       "    .dataframe tbody tr th {\n",
       "        vertical-align: top;\n",
       "    }\n",
       "\n",
       "    .dataframe thead th {\n",
       "        text-align: right;\n",
       "    }\n",
       "</style>\n",
       "<table border=\"1\" class=\"dataframe\">\n",
       "  <thead>\n",
       "    <tr style=\"text-align: right;\">\n",
       "      <th></th>\n",
       "      <th>MOI</th>\n",
       "      <th>AM</th>\n",
       "      <th>EDKM</th>\n",
       "      <th>Eccentricity</th>\n",
       "      <th>Random</th>\n",
       "    </tr>\n",
       "  </thead>\n",
       "  <tbody>\n",
       "    <tr>\n",
       "      <th>3984</th>\n",
       "      <td>0</td>\n",
       "      <td>-0.435064</td>\n",
       "      <td>-0.098886</td>\n",
       "      <td>1.856115</td>\n",
       "      <td>1.768283</td>\n",
       "    </tr>\n",
       "    <tr>\n",
       "      <th>2453</th>\n",
       "      <td>0</td>\n",
       "      <td>-0.992280</td>\n",
       "      <td>0.369710</td>\n",
       "      <td>1.471854</td>\n",
       "      <td>-0.202059</td>\n",
       "    </tr>\n",
       "    <tr>\n",
       "      <th>3833</th>\n",
       "      <td>0</td>\n",
       "      <td>-0.678846</td>\n",
       "      <td>0.064749</td>\n",
       "      <td>-0.320886</td>\n",
       "      <td>-0.566660</td>\n",
       "    </tr>\n",
       "    <tr>\n",
       "      <th>4633</th>\n",
       "      <td>0</td>\n",
       "      <td>0.296282</td>\n",
       "      <td>-0.365517</td>\n",
       "      <td>0.384051</td>\n",
       "      <td>0.343755</td>\n",
       "    </tr>\n",
       "    <tr>\n",
       "      <th>3457</th>\n",
       "      <td>0</td>\n",
       "      <td>0.574890</td>\n",
       "      <td>-0.415918</td>\n",
       "      <td>0.020139</td>\n",
       "      <td>-2.620570</td>\n",
       "    </tr>\n",
       "    <tr>\n",
       "      <th>...</th>\n",
       "      <td>...</td>\n",
       "      <td>...</td>\n",
       "      <td>...</td>\n",
       "      <td>...</td>\n",
       "      <td>...</td>\n",
       "    </tr>\n",
       "    <tr>\n",
       "      <th>3073</th>\n",
       "      <td>0</td>\n",
       "      <td>0.714195</td>\n",
       "      <td>-0.434954</td>\n",
       "      <td>-0.707030</td>\n",
       "      <td>-0.560266</td>\n",
       "    </tr>\n",
       "    <tr>\n",
       "      <th>1369</th>\n",
       "      <td>0</td>\n",
       "      <td>-0.191282</td>\n",
       "      <td>-0.217428</td>\n",
       "      <td>-1.395766</td>\n",
       "      <td>-1.884848</td>\n",
       "    </tr>\n",
       "    <tr>\n",
       "      <th>2250</th>\n",
       "      <td>0</td>\n",
       "      <td>1.166933</td>\n",
       "      <td>-0.477348</td>\n",
       "      <td>-1.586133</td>\n",
       "      <td>-0.576523</td>\n",
       "    </tr>\n",
       "    <tr>\n",
       "      <th>1519</th>\n",
       "      <td>0</td>\n",
       "      <td>-0.260934</td>\n",
       "      <td>-0.187362</td>\n",
       "      <td>-0.450465</td>\n",
       "      <td>0.813488</td>\n",
       "    </tr>\n",
       "    <tr>\n",
       "      <th>2224</th>\n",
       "      <td>0</td>\n",
       "      <td>-0.295760</td>\n",
       "      <td>-0.171258</td>\n",
       "      <td>0.596913</td>\n",
       "      <td>1.208501</td>\n",
       "    </tr>\n",
       "  </tbody>\n",
       "</table>\n",
       "<p>3749 rows × 5 columns</p>\n",
       "</div>"
      ],
      "text/plain": [
       "      MOI        AM      EDKM  Eccentricity    Random\n",
       "3984    0 -0.435064 -0.098886      1.856115  1.768283\n",
       "2453    0 -0.992280  0.369710      1.471854 -0.202059\n",
       "3833    0 -0.678846  0.064749     -0.320886 -0.566660\n",
       "4633    0  0.296282 -0.365517      0.384051  0.343755\n",
       "3457    0  0.574890 -0.415918      0.020139 -2.620570\n",
       "...   ...       ...       ...           ...       ...\n",
       "3073    0  0.714195 -0.434954     -0.707030 -0.560266\n",
       "1369    0 -0.191282 -0.217428     -1.395766 -1.884848\n",
       "2250    0  1.166933 -0.477348     -1.586133 -0.576523\n",
       "1519    0 -0.260934 -0.187362     -0.450465  0.813488\n",
       "2224    0 -0.295760 -0.171258      0.596913  1.208501\n",
       "\n",
       "[3749 rows x 5 columns]"
      ]
     },
     "execution_count": 144,
     "metadata": {},
     "output_type": "execute_result"
    }
   ],
   "source": [
    "x_train_copy"
   ]
  },
  {
   "cell_type": "code",
   "execution_count": 154,
   "metadata": {},
   "outputs": [
    {
     "data": {
      "text/plain": [
       "{'NormaldistributionMOI0isReplacing': [0.0,\n",
       "  0.5030638466100009,\n",
       "  0.02708045068195236,\n",
       "  0.0005930025696783671,\n",
       "  1.0],\n",
       " 'NormaldistributionMOI1isReplacing': [0.0,\n",
       "  0.35577098957380565,\n",
       "  0.027620267056886277,\n",
       "  0.1885860618254978,\n",
       "  1.0],\n",
       " 'NormaldistributionMOI2isReplacing': [nan, nan, nan, nan, nan],\n",
       " 'NormaldistributionMOI3isReplacing': [0.0,\n",
       "  0.4828571428571418,\n",
       "  0.2542857142857133,\n",
       "  0.32571428571428523,\n",
       "  1.0],\n",
       " 'NormaldistributionMOI4isReplacing': [nan, nan, nan, nan, nan],\n",
       " 'NormaldistributionMOI5isReplacing': [nan, nan, nan, nan, nan],\n",
       " 'NormaldistributionMOI6isReplacing': [nan, nan, nan, nan, nan],\n",
       " 'NormaldistributionMOI7isReplacing': [nan, nan, nan, nan, nan],\n",
       " 'NormaldistributionMOI8isReplacing': [nan, nan, nan, nan, nan],\n",
       " 'NormaldistributionMOI9isReplacing': [nan, nan, nan, nan, nan]}"
      ]
     },
     "execution_count": 154,
     "metadata": {},
     "output_type": "execute_result"
    }
   ],
   "source": [
    "res[\"sharp_results\"]"
   ]
  },
  {
   "cell_type": "code",
   "execution_count": 170,
   "metadata": {},
   "outputs": [
    {
     "data": {
      "text/plain": [
       "[<matplotlib.lines.Line2D at 0x7fab01efcad0>]"
      ]
     },
     "execution_count": 170,
     "metadata": {},
     "output_type": "execute_result"
    },
    {
     "data": {
      "image/png": "[encoded data removed]",
      "text/plain": [
       "<Figure size 432x288 with 1 Axes>"
      ]
     },
     "metadata": {
      "needs_background": "light"
     },
     "output_type": "display_data"
    }
   ],
   "source": [
    "import matplotlib.pyplot as plt\n",
    "moi_scale_values = []\n",
    "for scale in scaling:\n",
    "    moi_scale_values.append(res[\"sharp_results\"][f\"NormaldistributionMOI{scale}isReplacing\"][4]) \n",
    "#\n",
    "# plt.plot(scaling, moi_scale_values)    \n",
    "plt.plot(scaling, moi_scale_values )"
   ]
  },
  {
   "cell_type": "code",
   "execution_count": 211,
   "metadata": {},
   "outputs": [
    {
     "name": "stdout",
     "output_type": "stream",
     "text": [
      "dict_keys(['Baseline0.01isReplacing', 'Baseline0.01isNotReplacing', 'Normaldistribution0.01isReplacing', 'Normaldistribution0.01isNotReplacing', 'Weibulldistribution0.01isReplacing', 'Weibulldistribution0.01isNotReplacing', 'BaselineMOI0.01isReplacing', 'BaselineMOI0.01isNotReplacing', 'NormaldistributionMOI0.01isReplacing', 'NormaldistributionMOI0.01isNotReplacing', 'WeibulldistributionMOI0.01isReplacing', 'WeibulldistributionMOI0.01isNotReplacing', 'BaselineAM0.01isReplacing', 'BaselineAM0.01isNotReplacing', 'NormaldistributionAM0.01isReplacing', 'NormaldistributionAM0.01isNotReplacing', 'WeibulldistributionAM0.01isReplacing', 'WeibulldistributionAM0.01isNotReplacing'])\n"
     ]
    }
   ],
   "source": [
    "print(res[\"pfi_results\"].keys())"
   ]
  },
  {
   "cell_type": "code",
   "execution_count": null,
   "metadata": {},
   "outputs": [],
   "source": []
  },
  {
   "cell_type": "code",
   "execution_count": 216,
   "metadata": {},
   "outputs": [
    {
     "data": {
      "image/png": "[encoded data removed]",
      "text/plain": [
       "<Figure size 432x288 with 1 Axes>"
      ]
     },
     "metadata": {
      "needs_background": "light"
     },
     "output_type": "display_data"
    },
    {
     "data": {
      "image/png": "[encoded data removed]",
      "text/plain": [
       "<Figure size 432x288 with 1 Axes>"
      ]
     },
     "metadata": {
      "needs_background": "light"
     },
     "output_type": "display_data"
    },
    {
     "data": {
      "image/png": "[encoded data removed]",
      "text/plain": [
       "<Figure size 432x288 with 1 Axes>"
      ]
     },
     "metadata": {
      "needs_background": "light"
     },
     "output_type": "display_data"
    },
    {
     "data": {
      "image/png": "[encoded data removed]",
      "text/plain": [
       "<Figure size 432x288 with 1 Axes>"
      ]
     },
     "metadata": {
      "needs_background": "light"
     },
     "output_type": "display_data"
    },
    {
     "data": {
      "image/png": "[encoded data removed]",
      "text/plain": [
       "<Figure size 432x288 with 1 Axes>"
      ]
     },
     "metadata": {
      "needs_background": "light"
     },
     "output_type": "display_data"
    },
    {
     "data": {
      "image/png": "[encoded data removed]",
      "text/plain": [
       "<Figure size 432x288 with 1 Axes>"
      ]
     },
     "metadata": {
      "needs_background": "light"
     },
     "output_type": "display_data"
    },
    {
     "data": {
      "image/png": "[encoded data removed]",
      "text/plain": [
       "<Figure size 432x288 with 1 Axes>"
      ]
     },
     "metadata": {
      "needs_background": "light"
     },
     "output_type": "display_data"
    },
    {
     "data": {
      "image/png": "[encoded data removed]",
      "text/plain": [
       "<Figure size 432x288 with 1 Axes>"
      ]
     },
     "metadata": {
      "needs_background": "light"
     },
     "output_type": "display_data"
    },
    {
     "data": {
      "image/png": "[encoded data removed]",
      "text/plain": [
       "<Figure size 432x288 with 1 Axes>"
      ]
     },
     "metadata": {
      "needs_background": "light"
     },
     "output_type": "display_data"
    },
    {
     "data": {
      "image/png": "[encoded data removed]",
      "text/plain": [
       "<Figure size 432x288 with 1 Axes>"
      ]
     },
     "metadata": {
      "needs_background": "light"
     },
     "output_type": "display_data"
    },
    {
     "data": {
      "image/png": "[encoded data removed]",
      "text/plain": [
       "<Figure size 432x288 with 1 Axes>"
      ]
     },
     "metadata": {
      "needs_background": "light"
     },
     "output_type": "display_data"
    },
    {
     "data": {
      "image/png": "[encoded data removed]",
      "text/plain": [
       "<Figure size 432x288 with 1 Axes>"
      ]
     },
     "metadata": {
      "needs_background": "light"
     },
     "output_type": "display_data"
    },
    {
     "ename": "KeyError",
     "evalue": "\"NormaldistributionMOI0.01isNotReplacing'\"",
     "output_type": "error",
     "traceback": [
      "\u001b[0;31m---------------------------------------------------------------------------\u001b[0m",
      "\u001b[0;31mKeyError\u001b[0m                                  Traceback (most recent call last)",
      "Cell \u001b[0;32mIn[216], line 28\u001b[0m\n\u001b[1;32m     22\u001b[0m ph\u001b[38;5;241m.\u001b[39mplot_bar_per_scale(res[\u001b[38;5;124m\"\u001b[39m\u001b[38;5;124mebm_results\u001b[39m\u001b[38;5;124m\"\u001b[39m],  c,experiments\u001b[38;5;241m=\u001b[39m[\u001b[38;5;124m\"\u001b[39m\u001b[38;5;124mBaseline0.01isNotReplacing\u001b[39m\u001b[38;5;124m\"\u001b[39m,  \u001b[38;5;124m\"\u001b[39m\u001b[38;5;124mNormaldistributionAM0.01isNotReplacing\u001b[39m\u001b[38;5;124m\"\u001b[39m , \u001b[38;5;124m\"\u001b[39m\u001b[38;5;124mNormaldistributionAM0.01isReplacing\u001b[39m\u001b[38;5;124m\"\u001b[39m],experiments_names\u001b[38;5;241m=\u001b[39mexperiments_names ,header\u001b[38;5;241m=\u001b[39m\u001b[38;5;124m\"\u001b[39m\u001b[38;5;124mEBM - AM - Normaldistribution\u001b[39m\u001b[38;5;124m\"\u001b[39m)\n\u001b[1;32m     23\u001b[0m ph\u001b[38;5;241m.\u001b[39mplot_bar_per_scale(res[\u001b[38;5;124m\"\u001b[39m\u001b[38;5;124msharp_results\u001b[39m\u001b[38;5;124m\"\u001b[39m],  c,experiments\u001b[38;5;241m=\u001b[39m[\u001b[38;5;124m\"\u001b[39m\u001b[38;5;124mBaseline0.01isNotReplacing\u001b[39m\u001b[38;5;124m\"\u001b[39m,  \u001b[38;5;124m\"\u001b[39m\u001b[38;5;124mNormaldistributionAM0.01isNotReplacing\u001b[39m\u001b[38;5;124m\"\u001b[39m , \u001b[38;5;124m\"\u001b[39m\u001b[38;5;124mNormaldistributionAM0.01isReplacing\u001b[39m\u001b[38;5;124m\"\u001b[39m],experiments_names\u001b[38;5;241m=\u001b[39mexperiments_names ,header\u001b[38;5;241m=\u001b[39m\u001b[38;5;124m\"\u001b[39m\u001b[38;5;124mSHAP - AM - Normaldistribution\u001b[39m\u001b[38;5;124m\"\u001b[39m)\n\u001b[0;32m---> 28\u001b[0m ph\u001b[38;5;241m.\u001b[39mplot_bar_per_scale(res[\u001b[38;5;124m\"\u001b[39m\u001b[38;5;124mebm_results\u001b[39m\u001b[38;5;124m\"\u001b[39m],  c,experiments\u001b[38;5;241m=\u001b[39m[\u001b[38;5;124m\"\u001b[39m\u001b[38;5;124mBaseline0.01isNotReplacing\u001b[39m\u001b[38;5;124m\"\u001b[39m,  \u001b[38;5;124m\"\u001b[39m\u001b[38;5;124mNormaldistributionMOI0.01isReplacing\u001b[39m\u001b[38;5;124m\"\u001b[39m , \u001b[38;5;124m\"\u001b[39m\u001b[38;5;124mNormaldistributionMOI0.01isNotReplacing\u001b[39m\u001b[38;5;124m'\u001b[39m\u001b[38;5;124m\"\u001b[39m],experiments_names\u001b[38;5;241m=\u001b[39mexperiments_names ,header\u001b[38;5;241m=\u001b[39m\u001b[38;5;124m\"\u001b[39m\u001b[38;5;124mEBM\u001b[39m\u001b[38;5;124m\"\u001b[39m)\n\u001b[1;32m     29\u001b[0m ph\u001b[38;5;241m.\u001b[39mplot_bar_per_scale(res[\u001b[38;5;124m\"\u001b[39m\u001b[38;5;124msharp_results\u001b[39m\u001b[38;5;124m\"\u001b[39m],  c,experiments\u001b[38;5;241m=\u001b[39m[\u001b[38;5;124m\"\u001b[39m\u001b[38;5;124mBaseline0.01isNotReplacing\u001b[39m\u001b[38;5;124m\"\u001b[39m,  \u001b[38;5;124m\"\u001b[39m\u001b[38;5;124mNormaldistributionMOI0.01isReplacing\u001b[39m\u001b[38;5;124m\"\u001b[39m , \u001b[38;5;124m\"\u001b[39m\u001b[38;5;124mNormaldistributionMOI0.01isNotReplacing\u001b[39m\u001b[38;5;124m'\u001b[39m\u001b[38;5;124m\"\u001b[39m],experiments_names\u001b[38;5;241m=\u001b[39mexperiments_names ,header\u001b[38;5;241m=\u001b[39m\u001b[38;5;124m\"\u001b[39m\u001b[38;5;124mSHAP\u001b[39m\u001b[38;5;124m\"\u001b[39m)\n\u001b[1;32m     31\u001b[0m ph\u001b[38;5;241m.\u001b[39mplot_bar_per_scale(res[\u001b[38;5;124m\"\u001b[39m\u001b[38;5;124mpfi_results\u001b[39m\u001b[38;5;124m\"\u001b[39m],  c,experiments\u001b[38;5;241m=\u001b[39m[\u001b[38;5;124m\"\u001b[39m\u001b[38;5;124mNormaldistribution0.01isReplacing\u001b[39m\u001b[38;5;124m\"\u001b[39m,\u001b[38;5;124m\"\u001b[39m\u001b[38;5;124mWeibulldistributionMOI0.01isReplacing\u001b[39m\u001b[38;5;124m\"\u001b[39m,\u001b[38;5;124m\"\u001b[39m\u001b[38;5;124mWeibulldistributionMOI0.9isReplacing\u001b[39m\u001b[38;5;124m\"\u001b[39m ],experiments_names\u001b[38;5;241m=\u001b[39mexperiments_names ,header\u001b[38;5;241m=\u001b[39m\u001b[38;5;124m\"\u001b[39m\u001b[38;5;124mPFI - Normaldistribution\u001b[39m\u001b[38;5;124m\"\u001b[39m)\n",
      "File \u001b[0;32m~/uu/hcml/HCML_Project/plot_helper.py:38\u001b[0m, in \u001b[0;36mplot_bar_per_scale\u001b[0;34m(metric_values, columns, experiments, experiments_names, header)\u001b[0m\n\u001b[1;32m     33\u001b[0m d_colors \u001b[38;5;241m=\u001b[39m {}\n\u001b[1;32m     35\u001b[0m \u001b[38;5;28;01mfor\u001b[39;00m exp_n,exp \u001b[38;5;129;01min\u001b[39;00m \u001b[38;5;28mzip\u001b[39m(experiments_names,experiments):\n\u001b[0;32m---> 38\u001b[0m     d[exp_n] \u001b[38;5;241m=\u001b[39m metric_values[\u001b[38;5;124mf\u001b[39m\u001b[38;5;124m\"\u001b[39m\u001b[38;5;132;01m{\u001b[39;00mexp\u001b[38;5;132;01m}\u001b[39;00m\u001b[38;5;124m\"\u001b[39m]\n\u001b[1;32m     39\u001b[0m     d_colors[exp_n] \u001b[38;5;241m=\u001b[39m color_list\u001b[38;5;241m.\u001b[39mpop()\n\u001b[1;32m     40\u001b[0m     \u001b[38;5;28;01mif\u001b[39;00m color_list \u001b[38;5;241m==\u001b[39m \u001b[38;5;28mset\u001b[39m():\n",
      "\u001b[0;31mKeyError\u001b[0m: \"NormaldistributionMOI0.01isNotReplacing'\""
     ]
    }
   ],
   "source": [
    "\n",
    "importlib.reload(ph)\n",
    "experiments_names = [\"Baseline\", \"Adding MOI + Noise\", \"Replacing MOI + Noise\"]\n",
    "c = x_train.columns.tolist() + [\"MOI + Noise\"]\n",
    "#experiments_names = [ \"Baseline\", \"0.9\", \"5\"]# \"NormaldistributionMOI0.05isReplacing\",\n",
    "\n",
    "ph.plot_bar_per_scale(res[\"pfi_results\"],  c,experiments=[\"Baseline0.01isNotReplacing\",  \"NormaldistributionMOI0.01isNotReplacing\" , \"NormaldistributionMOI0.01isReplacing\"],experiments_names=experiments_names ,header=\"PFI - MOI - Normaldistribution\")\n",
    "ph.plot_bar_per_scale(res[\"ebm_results\"],  c,experiments=[\"Baseline0.01isNotReplacing\",  \"NormaldistributionMOI0.01isNotReplacing\" , \"NormaldistributionMOI0.01isReplacing\"],experiments_names=experiments_names ,header=\"EBM - MOI - Normaldistribution\")\n",
    "ph.plot_bar_per_scale(res[\"sharp_results\"],  c,experiments=[\"Baseline0.01isNotReplacing\",  \"NormaldistributionMOI0.01isNotReplacing\" , \"NormaldistributionMOI0.01isReplacing\"],experiments_names=experiments_names ,header=\"SHAP - MOI - Normaldistribution\")\n",
    "\n",
    "\n",
    "\n",
    "ph.plot_bar_per_scale(res[\"pfi_results\"],  c,experiments=[\"Baseline0.01isNotReplacing\",  \"WeibulldistributionMOI0.01isNotReplacing\" , \"WeibulldistributionMOI0.01isReplacing\"],experiments_names=experiments_names ,header=\"PFI - MOI - Weibulldistribution\")\n",
    "ph.plot_bar_per_scale(res[\"ebm_results\"],  c,experiments=[\"Baseline0.01isNotReplacing\",  \"WeibulldistributionMOI0.01isNotReplacing\" , \"WeibulldistributionMOI0.01isReplacing\"],experiments_names=experiments_names ,header=\"EBM - MOI - Weibulldistribution\")\n",
    "ph.plot_bar_per_scale(res[\"sharp_results\"],  c,experiments=[\"Baseline0.01isNotReplacing\",  \"WeibulldistributionMOI0.01isNotReplacing\" , \"WeibulldistributionMOI0.01isReplacing\"],experiments_names=experiments_names ,header=\"SHAP - MOI - Weibulldistribution\")\n",
    "\n",
    "\n",
    "ph.plot_bar_per_scale(res[\"pfi_results\"],  c,experiments=[\"Baseline0.01isNotReplacing\",  \"WeibulldistributionAM0.01isNotReplacing\" , \"WeibulldistributionAM0.01isReplacing\"],experiments_names=experiments_names ,header=\"PFI - AM - Weibulldistribution\")\n",
    "ph.plot_bar_per_scale(res[\"ebm_results\"],  c,experiments=[\"Baseline0.01isNotReplacing\",  \"WeibulldistributionAM0.01isNotReplacing\" , \"WeibulldistributionAM0.01isReplacing\"],experiments_names=experiments_names ,header=\"EBM - AM - Weibulldistribution\")\n",
    "ph.plot_bar_per_scale(res[\"sharp_results\"],  c,experiments=[\"Baseline0.01isNotReplacing\",  \"WeibulldistributionAM0.01isNotReplacing\" , \"WeibulldistributionAM0.01isReplacing\"],experiments_names=experiments_names ,header=\"SHAP - AM - Weibulldistribution\")\n",
    "\n",
    "ph.plot_bar_per_scale(res[\"pfi_results\"],  c,experiments=[\"Baseline0.01isNotReplacing\",  \"NormaldistributionAM0.01isNotReplacing\" , \"NormaldistributionAM0.01isReplacing\"],experiments_names=experiments_names ,header=\"PFI - AM - Normaldistribution\")\n",
    "ph.plot_bar_per_scale(res[\"ebm_results\"],  c,experiments=[\"Baseline0.01isNotReplacing\",  \"NormaldistributionAM0.01isNotReplacing\" , \"NormaldistributionAM0.01isReplacing\"],experiments_names=experiments_names ,header=\"EBM - AM - Normaldistribution\")\n",
    "ph.plot_bar_per_scale(res[\"sharp_results\"],  c,experiments=[\"Baseline0.01isNotReplacing\",  \"NormaldistributionAM0.01isNotReplacing\" , \"NormaldistributionAM0.01isReplacing\"],experiments_names=experiments_names ,header=\"SHAP - AM - Normaldistribution\")\n",
    "\n",
    "\n",
    "\n",
    "\n",
    "ph.plot_bar_per_scale(res[\"ebm_results\"],  c,experiments=[\"Baseline0.01isNotReplacing\",  \"NormaldistributionMOI0.01isReplacing\" , \"NormaldistributionMOI0.01isNotReplacing'\"],experiments_names=experiments_names ,header=\"EBM\")\n",
    "ph.plot_bar_per_scale(res[\"sharp_results\"],  c,experiments=[\"Baseline0.01isNotReplacing\",  \"NormaldistributionMOI0.01isReplacing\" , \"NormaldistributionMOI0.01isNotReplacing'\"],experiments_names=experiments_names ,header=\"SHAP\")\n",
    "\n",
    "ph.plot_bar_per_scale(res[\"pfi_results\"],  c,experiments=[\"Normaldistribution0.01isReplacing\",\"WeibulldistributionMOI0.01isReplacing\",\"WeibulldistributionMOI0.9isReplacing\" ],experiments_names=experiments_names ,header=\"PFI - Normaldistribution\")\n",
    "\n",
    "\n",
    "ph.plot_bar_per_scale(res[\"sharp_results\"],  c,experiments=[\"Normaldistribution0.01isNotReplacing\",\"NormaldistributionMOI0.01isReplacing\", \"NormaldistributionMOI0.05isReplacing\", \"NormaldistributionMOI1isReplacing\" ],experiments_names=experiments_names ,header=\"PFI - Normaldistribution\")\n",
    "\n",
    "ph.plot_bar_per_scale(res[\"pfi_results\"],  c,experiments=[\"Normaldistribution0.01isNotReplacing\",\"WeibulldistributionMOI0.01isReplacing\", \"WeibulldistributionMOI0.01isNotReplacing\" ],experiments_names=experiments_names ,header=\"PFI - Weilbulldistribution\")\n",
    "\n",
    "ph.plot_bar_per_scale(res[\"sharp_results\"],  c,experiments=[\"Normaldistribution0.01isNotReplacing\",\"NormaldistributionMOI0.01isReplacing\", \"NormaldistributionMOI0.01isNotReplacing\" ], experiments_names=experiments_names , header=\"SHAP\")\n",
    "\n",
    "#ph.plot_bar_per_scale(res[\"sharp_results\"], x_train.columns.tolist(),experiments=[\"Baseline0.01isNotReplacing\", \"NormaldistributionAM0.01isNotReplacing\", \"WeibulldistributionAM0.01isNotReplacing\"],header=\"Not replacing PFI\") #\"NormaldistributionMOI\", \"WeibulldistributionMOI\",\n",
    "scale = 0.01\n",
    "ph.plot_bar_per_scale(res[\"sharp_results\"],  x_train.columns.tolist(),experiments=[\"Baseline0.01\", \"BaselineMOI0.01\",  \"BaselineAM0.01\", ], header=\"Shap\")\n",
    "ph.plot_bar_per_scale(res[\"sharp_results\"], x_train.columns.tolist(),experiments=[\"Baseline0.01\", \"NormaldistributionAM0.01\", \"WeibulldistributionAM0.01\"],header=\"Shap\") #\"NormaldistributionMOI\", \"WeibulldistributionMOI\",\n",
    "\n",
    "ph.plot_bar_per_scale(res[\"pfi_results\"], x_train.columns.tolist(),experiments=[\"Baseline0.1\", \"NormaldistributionAM0.1\", \"WeibulldistributionAM0.1\"],header=\"PFI\") #\"NormaldistributionMOI\", \"WeibulldistributionMOI\",\n",
    "ph.plot_bar_per_scale(res[\"sharp_results\"], x_train.columns.tolist(),experiments=[\"Baseline0.1\", \"NormaldistributionAM0.1\", \"WeibulldistributionAM0.1\"],header=\"PFI\") #\"NormaldistributionMOI\", \"WeibulldistributionMOI\",\n",
    "ph.plot_bar_per_scale(res[\"pfi_results\"], x_train.columns.tolist(),experiments=[\"Baseline\", \"Normaldistribution\", \"Weibulldistribution\"], header=\"PFI\")\n",
    "ph.plot_bar_per_scale(res[\"sharp_results\"], x_train.columns.tolist(),experiments=[\"Baseline\", \"Normaldistribution\", \"Weibulldistribution\"], header=\"Shap\")\n",
    "ph.plot_bar_per_scale(res[\"ebm_results\"], x_train.columns.tolist(),experiments=[\"Baseline\", \"Normaldistribution\", \"Weibulldistribution\"], header=\"EBM\")"
   ]
  },
  {
   "cell_type": "code",
   "execution_count": null,
   "metadata": {},
   "outputs": [],
   "source": [
    "plot_bar(res[\"sharp_results\"],  x_train.columns.tolist(),experiments=[\"Baseline\", \"Normaldistribution\", \"Weibulldistribution\"], header=\"Shap\")\n",
    "plot_bar(res[\"pfi_results\"], x_train.columns.tolist(),experiments=[\"Baseline\", \"Normaldistribution\", \"Weibulldistribution\"],header=\"PFI\")\n",
    "plot_bar(res[\"ebm_results\"], x_train.columns.tolist(),experiments=[\"Baseline\", \"Normaldistribution\", \"Weibulldistribution\"], header=\"EBM\")"
   ]
  },
  {
   "cell_type": "code",
   "execution_count": null,
   "metadata": {},
   "outputs": [
    {
     "ename": "NameError",
     "evalue": "name 'split_column' is not defined",
     "output_type": "error",
     "traceback": [
      "\u001b[0;31m---------------------------------------------------------------------------\u001b[0m",
      "\u001b[0;31mNameError\u001b[0m                                 Traceback (most recent call last)",
      "Cell \u001b[0;32mIn[15], line 3\u001b[0m\n\u001b[1;32m      1\u001b[0m \u001b[38;5;66;03m#fig, axs = plt.subplots(2,4)\u001b[39;00m\n\u001b[1;32m      2\u001b[0m importlib\u001b[38;5;241m.\u001b[39mreload(ph)\n\u001b[0;32m----> 3\u001b[0m \u001b[38;5;28;01mfor\u001b[39;00m split \u001b[38;5;129;01min\u001b[39;00m split_column:\n\u001b[1;32m      4\u001b[0m     \u001b[38;5;28;01mfor\u001b[39;00m dist \u001b[38;5;129;01min\u001b[39;00m distributions_names:\n\u001b[1;32m      5\u001b[0m         \u001b[38;5;28;01mif\u001b[39;00m split \u001b[38;5;241m==\u001b[39m \u001b[38;5;124m\"\u001b[39m\u001b[38;5;124m\"\u001b[39m:\n",
      "\u001b[0;31mNameError\u001b[0m: name 'split_column' is not defined"
     ]
    }
   ],
   "source": [
    "\n",
    "#fig, axs = plt.subplots(2,4)\n",
    "importlib.reload(ph)\n",
    "for split in split_column:\n",
    "    for dist in distributions_names:\n",
    "        if split == \"\":\n",
    "            ph.plot_bar(sharp_results[f\"{dist}{split}\"], ebm_results[f\"{dist}{split}\"], pfi_results[f\"{dist}{split}\"], x_train.columns.tolist(), f\"{dist}{split}\")\n",
    "        else:\n",
    "            c = x_train.columns.tolist().copy()\n",
    "            i = c.index('Random')\n",
    "            \n",
    "            columns = c[:i] + [f\"{split} + Noise\"] +c[i+1:]\n",
    "            ph.plot_bar(sharp_results[f\"{dist}{split}\"], ebm_results[f\"{dist}{split}\"], pfi_results[f\"{dist}{split}\"],  columns, f\"{dist}{split}\")\n"
   ]
  }
 ],
 "metadata": {
  "kernelspec": {
   "display_name": "uu_courses",
   "language": "python",
   "name": "python3"
  },
  "language_info": {
   "codemirror_mode": {
    "name": "ipython",
    "version": 3
   },
   "file_extension": ".py",
   "mimetype": "text/x-python",
   "name": "python",
   "nbconvert_exporter": "python",
   "pygments_lexer": "ipython3",
   "version": "3.11.5"
  }
 },
 "nbformat": 4,
 "nbformat_minor": 2
}
